{
 "cells": [
  {
   "cell_type": "code",
   "execution_count": 213,
   "metadata": {},
   "outputs": [],
   "source": [
    "#import the packages \n",
    "import pandas as pd\n",
    "import numpy as np\n",
    "import re\n",
    "import nltk\n",
    "import matplotlib.pyplot as plt\n",
    "import seaborn as sns\n",
    "%matplotlib inline"
   ]
  },
  {
   "cell_type": "markdown",
   "metadata": {},
   "source": [
    "## Data Preprocessing "
   ]
  },
  {
   "cell_type": "code",
   "execution_count": 214,
   "metadata": {},
   "outputs": [],
   "source": [
    "#getting the data\n",
    "df = pd.read_csv('walmart.csv')"
   ]
  },
  {
   "cell_type": "code",
   "execution_count": 215,
   "metadata": {},
   "outputs": [
    {
     "data": {
      "text/html": [
       "<div>\n",
       "<style scoped>\n",
       "    .dataframe tbody tr th:only-of-type {\n",
       "        vertical-align: middle;\n",
       "    }\n",
       "\n",
       "    .dataframe tbody tr th {\n",
       "        vertical-align: top;\n",
       "    }\n",
       "\n",
       "    .dataframe thead th {\n",
       "        text-align: right;\n",
       "    }\n",
       "</style>\n",
       "<table border=\"1\" class=\"dataframe\">\n",
       "  <thead>\n",
       "    <tr style=\"text-align: right;\">\n",
       "      <th></th>\n",
       "      <th>Uniq Id</th>\n",
       "      <th>Crawl Timestamp</th>\n",
       "      <th>Pageurl</th>\n",
       "      <th>Website</th>\n",
       "      <th>Title</th>\n",
       "      <th>Rating</th>\n",
       "      <th>Review</th>\n",
       "      <th>Reviewer Name</th>\n",
       "      <th>Review Upvotes</th>\n",
       "      <th>Review Downvotes</th>\n",
       "      <th>Verified Purchaser</th>\n",
       "      <th>Recommended Purchase</th>\n",
       "      <th>Review Date</th>\n",
       "      <th>Five Star</th>\n",
       "      <th>Four Star</th>\n",
       "      <th>Three Star</th>\n",
       "      <th>Two Star</th>\n",
       "      <th>One Star</th>\n",
       "    </tr>\n",
       "  </thead>\n",
       "  <tbody>\n",
       "    <tr>\n",
       "      <th>0</th>\n",
       "      <td>ee40ad5e6211d47a92fa1962938fad16</td>\n",
       "      <td>2020-03-17 03:37:35 +0000</td>\n",
       "      <td>https://www.walmart.com/reviews/product/15066091</td>\n",
       "      <td>walmart.com</td>\n",
       "      <td>Sylvania 9\" Portable Dvd Player With Swivel Sc...</td>\n",
       "      <td>5.0</td>\n",
       "      <td>This product works great. It's exactly what I ...</td>\n",
       "      <td>Diane</td>\n",
       "      <td>0</td>\n",
       "      <td>0</td>\n",
       "      <td>No</td>\n",
       "      <td>No</td>\n",
       "      <td>12/4/2018</td>\n",
       "      <td>133.0</td>\n",
       "      <td>58.0</td>\n",
       "      <td>15.0</td>\n",
       "      <td>9.0</td>\n",
       "      <td>34.0</td>\n",
       "    </tr>\n",
       "    <tr>\n",
       "      <th>1</th>\n",
       "      <td>d10f87c07c206c72b0b5ddbf90541b38</td>\n",
       "      <td>2020-03-27 13:15:01 +0000</td>\n",
       "      <td>https://www.walmart.com/reviews/product/247042233</td>\n",
       "      <td>walmart.com</td>\n",
       "      <td>NaN</td>\n",
       "      <td>1.0</td>\n",
       "      <td>My carrier said this phone had been activated ...</td>\n",
       "      <td>Bren</td>\n",
       "      <td>0</td>\n",
       "      <td>0</td>\n",
       "      <td>No</td>\n",
       "      <td>No</td>\n",
       "      <td>12/21/2018</td>\n",
       "      <td>9.0</td>\n",
       "      <td>0.0</td>\n",
       "      <td>1.0</td>\n",
       "      <td>2.0</td>\n",
       "      <td>8.0</td>\n",
       "    </tr>\n",
       "    <tr>\n",
       "      <th>2</th>\n",
       "      <td>ef254e936e02a1b2bdaf89dd51b73403</td>\n",
       "      <td>2020-02-17 04:49:37 +0000</td>\n",
       "      <td>https://www.walmart.com/reviews/product/649827918</td>\n",
       "      <td>walmart.com</td>\n",
       "      <td>VIZIO 65\" Class 4K UHD Quantum SmartCast Smart...</td>\n",
       "      <td>5.0</td>\n",
       "      <td>The picture on this TV is better than any TV I...</td>\n",
       "      <td>Hieronymesque</td>\n",
       "      <td>0</td>\n",
       "      <td>0</td>\n",
       "      <td>Yes</td>\n",
       "      <td>No</td>\n",
       "      <td>12/25/2019</td>\n",
       "      <td>180.0</td>\n",
       "      <td>39.0</td>\n",
       "      <td>5.0</td>\n",
       "      <td>8.0</td>\n",
       "      <td>13.0</td>\n",
       "    </tr>\n",
       "    <tr>\n",
       "      <th>3</th>\n",
       "      <td>183ab6b4ec58daae79c66d0151400b63</td>\n",
       "      <td>2020-02-17 03:11:54 +0000</td>\n",
       "      <td>https://www.walmart.com/reviews/product/665198047</td>\n",
       "      <td>walmart.com</td>\n",
       "      <td>TSV For Fitbit Charge 3 USB Charging Cradle Wa...</td>\n",
       "      <td>5.0</td>\n",
       "      <td>NaN</td>\n",
       "      <td>D</td>\n",
       "      <td>0</td>\n",
       "      <td>0</td>\n",
       "      <td>No</td>\n",
       "      <td>No</td>\n",
       "      <td>4/2/2019</td>\n",
       "      <td>2.0</td>\n",
       "      <td>3.0</td>\n",
       "      <td>0.0</td>\n",
       "      <td>0.0</td>\n",
       "      <td>0.0</td>\n",
       "    </tr>\n",
       "    <tr>\n",
       "      <th>4</th>\n",
       "      <td>03628759aaed53a0b9d137bca9991c5d</td>\n",
       "      <td>2020-02-07 01:17:14 +0000</td>\n",
       "      <td>https://www.walmart.com/reviews/product/125301514</td>\n",
       "      <td>walmart.com</td>\n",
       "      <td>AKG K92 Closed-Back Headphones - Stereo - Wire...</td>\n",
       "      <td>5.0</td>\n",
       "      <td>Very well-balanced between the highs and the l...</td>\n",
       "      <td>Dubbsta</td>\n",
       "      <td>52</td>\n",
       "      <td>1</td>\n",
       "      <td>No</td>\n",
       "      <td>No</td>\n",
       "      <td>12/9/2017</td>\n",
       "      <td>9.0</td>\n",
       "      <td>3.0</td>\n",
       "      <td>0.0</td>\n",
       "      <td>0.0</td>\n",
       "      <td>2.0</td>\n",
       "    </tr>\n",
       "  </tbody>\n",
       "</table>\n",
       "</div>"
      ],
      "text/plain": [
       "                            Uniq Id            Crawl Timestamp  \\\n",
       "0  ee40ad5e6211d47a92fa1962938fad16  2020-03-17 03:37:35 +0000   \n",
       "1  d10f87c07c206c72b0b5ddbf90541b38  2020-03-27 13:15:01 +0000   \n",
       "2  ef254e936e02a1b2bdaf89dd51b73403  2020-02-17 04:49:37 +0000   \n",
       "3  183ab6b4ec58daae79c66d0151400b63  2020-02-17 03:11:54 +0000   \n",
       "4  03628759aaed53a0b9d137bca9991c5d  2020-02-07 01:17:14 +0000   \n",
       "\n",
       "                                             Pageurl      Website  \\\n",
       "0   https://www.walmart.com/reviews/product/15066091  walmart.com   \n",
       "1  https://www.walmart.com/reviews/product/247042233  walmart.com   \n",
       "2  https://www.walmart.com/reviews/product/649827918  walmart.com   \n",
       "3  https://www.walmart.com/reviews/product/665198047  walmart.com   \n",
       "4  https://www.walmart.com/reviews/product/125301514  walmart.com   \n",
       "\n",
       "                                               Title  Rating  \\\n",
       "0  Sylvania 9\" Portable Dvd Player With Swivel Sc...     5.0   \n",
       "1                                                NaN     1.0   \n",
       "2  VIZIO 65\" Class 4K UHD Quantum SmartCast Smart...     5.0   \n",
       "3  TSV For Fitbit Charge 3 USB Charging Cradle Wa...     5.0   \n",
       "4  AKG K92 Closed-Back Headphones - Stereo - Wire...     5.0   \n",
       "\n",
       "                                              Review  Reviewer Name  \\\n",
       "0  This product works great. It's exactly what I ...          Diane   \n",
       "1  My carrier said this phone had been activated ...           Bren   \n",
       "2  The picture on this TV is better than any TV I...  Hieronymesque   \n",
       "3                                                NaN              D   \n",
       "4  Very well-balanced between the highs and the l...        Dubbsta   \n",
       "\n",
       "   Review Upvotes  Review Downvotes Verified Purchaser Recommended Purchase  \\\n",
       "0               0                 0                 No                   No   \n",
       "1               0                 0                 No                   No   \n",
       "2               0                 0                Yes                   No   \n",
       "3               0                 0                 No                   No   \n",
       "4              52                 1                 No                   No   \n",
       "\n",
       "  Review Date  Five Star  Four Star  Three Star  Two Star  One Star  \n",
       "0   12/4/2018      133.0       58.0        15.0       9.0      34.0  \n",
       "1  12/21/2018        9.0        0.0         1.0       2.0       8.0  \n",
       "2  12/25/2019      180.0       39.0         5.0       8.0      13.0  \n",
       "3    4/2/2019        2.0        3.0         0.0       0.0       0.0  \n",
       "4   12/9/2017        9.0        3.0         0.0       0.0       2.0  "
      ]
     },
     "execution_count": 215,
     "metadata": {},
     "output_type": "execute_result"
    }
   ],
   "source": [
    "#first look to df \n",
    "df.head()"
   ]
  },
  {
   "cell_type": "code",
   "execution_count": 216,
   "metadata": {},
   "outputs": [
    {
     "data": {
      "text/plain": [
       "(30006, 18)"
      ]
     },
     "execution_count": 216,
     "metadata": {},
     "output_type": "execute_result"
    }
   ],
   "source": [
    "#to see the number of columns and rows\n",
    "df.shape"
   ]
  },
  {
   "cell_type": "markdown",
   "metadata": {},
   "source": [
    "### Checking the Missing Values"
   ]
  },
  {
   "cell_type": "code",
   "execution_count": 217,
   "metadata": {},
   "outputs": [
    {
     "data": {
      "text/plain": [
       "Uniq Id                    0\n",
       "Crawl Timestamp            0\n",
       "Pageurl                    0\n",
       "Website                    0\n",
       "Title                   5594\n",
       "Rating                     0\n",
       "Review                  4184\n",
       "Reviewer Name           1633\n",
       "Review Upvotes             0\n",
       "Review Downvotes           0\n",
       "Verified Purchaser         0\n",
       "Recommended Purchase       0\n",
       "Review Date                0\n",
       "Five Star                 96\n",
       "Four Star                 96\n",
       "Three Star                96\n",
       "Two Star                  96\n",
       "One Star                  96\n",
       "dtype: int64"
      ]
     },
     "execution_count": 217,
     "metadata": {},
     "output_type": "execute_result"
    }
   ],
   "source": [
    "#to see the missing values \n",
    "df.isna().sum()"
   ]
  },
  {
   "cell_type": "code",
   "execution_count": 218,
   "metadata": {},
   "outputs": [],
   "source": [
    "#droping null's \n",
    "df.dropna( inplace=True)"
   ]
  },
  {
   "cell_type": "code",
   "execution_count": 219,
   "metadata": {},
   "outputs": [
    {
     "data": {
      "text/plain": [
       "Uniq Id                 0\n",
       "Crawl Timestamp         0\n",
       "Pageurl                 0\n",
       "Website                 0\n",
       "Title                   0\n",
       "Rating                  0\n",
       "Review                  0\n",
       "Reviewer Name           0\n",
       "Review Upvotes          0\n",
       "Review Downvotes        0\n",
       "Verified Purchaser      0\n",
       "Recommended Purchase    0\n",
       "Review Date             0\n",
       "Five Star               0\n",
       "Four Star               0\n",
       "Three Star              0\n",
       "Two Star                0\n",
       "One Star                0\n",
       "dtype: int64"
      ]
     },
     "execution_count": 219,
     "metadata": {},
     "output_type": "execute_result"
    }
   ],
   "source": [
    "# to check the missing values again \n",
    "df.isna().sum() "
   ]
  },
  {
   "cell_type": "markdown",
   "metadata": {},
   "source": [
    "### Checking Duplicated Values "
   ]
  },
  {
   "cell_type": "code",
   "execution_count": 220,
   "metadata": {},
   "outputs": [
    {
     "name": "stdout",
     "output_type": "stream",
     "text": [
      "There are 0 duplicated values in data frame\n"
     ]
    }
   ],
   "source": [
    "print(\"There are {} duplicated values in data frame\".format(df.duplicated().sum()))"
   ]
  },
  {
   "cell_type": "code",
   "execution_count": 221,
   "metadata": {},
   "outputs": [
    {
     "name": "stdout",
     "output_type": "stream",
     "text": [
      "<class 'pandas.core.frame.DataFrame'>\n",
      "Int64Index: 20196 entries, 0 to 30005\n",
      "Data columns (total 18 columns):\n",
      " #   Column                Non-Null Count  Dtype  \n",
      "---  ------                --------------  -----  \n",
      " 0   Uniq Id               20196 non-null  object \n",
      " 1   Crawl Timestamp       20196 non-null  object \n",
      " 2   Pageurl               20196 non-null  object \n",
      " 3   Website               20196 non-null  object \n",
      " 4   Title                 20196 non-null  object \n",
      " 5   Rating                20196 non-null  float64\n",
      " 6   Review                20196 non-null  object \n",
      " 7   Reviewer Name         20196 non-null  object \n",
      " 8   Review Upvotes        20196 non-null  int64  \n",
      " 9   Review Downvotes      20196 non-null  int64  \n",
      " 10  Verified Purchaser    20196 non-null  object \n",
      " 11  Recommended Purchase  20196 non-null  object \n",
      " 12  Review Date           20196 non-null  object \n",
      " 13  Five Star             20196 non-null  float64\n",
      " 14  Four Star             20196 non-null  float64\n",
      " 15  Three Star            20196 non-null  float64\n",
      " 16  Two Star              20196 non-null  float64\n",
      " 17  One Star              20196 non-null  float64\n",
      "dtypes: float64(6), int64(2), object(10)\n",
      "memory usage: 2.9+ MB\n"
     ]
    }
   ],
   "source": [
    "#to see the type of columns\n",
    "df.info()"
   ]
  },
  {
   "cell_type": "markdown",
   "metadata": {},
   "source": [
    "## Perform Exploratory Analysis"
   ]
  },
  {
   "cell_type": "code",
   "execution_count": 222,
   "metadata": {},
   "outputs": [
    {
     "data": {
      "text/plain": [
       "5.0    12297\n",
       "4.0     3388\n",
       "1.0     2404\n",
       "3.0     1211\n",
       "2.0      896\n",
       "Name: Rating, dtype: int64"
      ]
     },
     "execution_count": 222,
     "metadata": {},
     "output_type": "execute_result"
    }
   ],
   "source": [
    "df['Rating'].value_counts()"
   ]
  },
  {
   "cell_type": "code",
   "execution_count": 223,
   "metadata": {},
   "outputs": [
    {
     "data": {
      "image/png": "[encoded data removed]",
      "text/plain": [
       "<Figure size 720x576 with 1 Axes>"
      ]
     },
     "metadata": {
      "needs_background": "light"
     },
     "output_type": "display_data"
    }
   ],
   "source": [
    "plt.figure(figsize=(10,8))\n",
    "ax = sns.countplot(x='Rating', data=df)"
   ]
  },
  {
   "cell_type": "markdown",
   "metadata": {},
   "source": [
    "Mostly ratings in dataset consist of good reviews such as 4 and 5"
   ]
  },
  {
   "cell_type": "code",
   "execution_count": 224,
   "metadata": {},
   "outputs": [],
   "source": [
    "df['Rating_Category'] = ['positive' if 4<=Rating<=5 else 'negative' if 1<=Rating<=2 else 'neutral' \\\n",
    "                      for Rating in list(df['Rating'].values)  ]"
   ]
  },
  {
   "cell_type": "code",
   "execution_count": 225,
   "metadata": {},
   "outputs": [
    {
     "data": {
      "text/plain": [
       "<AxesSubplot:xlabel='Rating_Category', ylabel='Review Upvotes'>"
      ]
     },
     "execution_count": 225,
     "metadata": {},
     "output_type": "execute_result"
    },
    {
     "data": {
      "image/png": "[encoded data removed]",
      "text/plain": [
       "<Figure size 432x288 with 1 Axes>"
      ]
     },
     "metadata": {
      "needs_background": "light"
     },
     "output_type": "display_data"
    }
   ],
   "source": [
    "# Create a bar plot for Rating category and Review upvotes\n",
    "import seaborn as sns\n",
    "sns.barplot(x='Rating_Category', y='Review Upvotes' , data=df)\n"
   ]
  },
  {
   "cell_type": "code",
   "execution_count": 226,
   "metadata": {},
   "outputs": [
    {
     "data": {
      "text/plain": [
       "<AxesSubplot:xlabel='Rating_Category', ylabel='Review Downvotes'>"
      ]
     },
     "execution_count": 226,
     "metadata": {},
     "output_type": "execute_result"
    },
    {
     "data": {
      "image/png": "[encoded data removed]",
      "text/plain": [
       "<Figure size 432x288 with 1 Axes>"
      ]
     },
     "metadata": {
      "needs_background": "light"
     },
     "output_type": "display_data"
    }
   ],
   "source": [
    "# Create a bar plot for Rating category and Review Downvotes\n",
    "\n",
    "sns.barplot(x='Rating_Category', y='Review Downvotes' , data=df)"
   ]
  },
  {
   "cell_type": "code",
   "execution_count": 227,
   "metadata": {
    "scrolled": true
   },
   "outputs": [
    {
     "data": {
      "text/html": [
       "<div>\n",
       "<style scoped>\n",
       "    .dataframe tbody tr th:only-of-type {\n",
       "        vertical-align: middle;\n",
       "    }\n",
       "\n",
       "    .dataframe tbody tr th {\n",
       "        vertical-align: top;\n",
       "    }\n",
       "\n",
       "    .dataframe thead th {\n",
       "        text-align: right;\n",
       "    }\n",
       "</style>\n",
       "<table border=\"1\" class=\"dataframe\">\n",
       "  <thead>\n",
       "    <tr style=\"text-align: right;\">\n",
       "      <th></th>\n",
       "      <th>Uniq Id</th>\n",
       "      <th>Crawl Timestamp</th>\n",
       "      <th>Pageurl</th>\n",
       "      <th>Website</th>\n",
       "      <th>Title</th>\n",
       "      <th>Rating</th>\n",
       "      <th>Review</th>\n",
       "      <th>Reviewer Name</th>\n",
       "      <th>Review Upvotes</th>\n",
       "      <th>Review Downvotes</th>\n",
       "      <th>Verified Purchaser</th>\n",
       "      <th>Recommended Purchase</th>\n",
       "      <th>Review Date</th>\n",
       "      <th>Five Star</th>\n",
       "      <th>Four Star</th>\n",
       "      <th>Three Star</th>\n",
       "      <th>Two Star</th>\n",
       "      <th>One Star</th>\n",
       "      <th>Rating_Category</th>\n",
       "    </tr>\n",
       "  </thead>\n",
       "  <tbody>\n",
       "    <tr>\n",
       "      <th>0</th>\n",
       "      <td>ee40ad5e6211d47a92fa1962938fad16</td>\n",
       "      <td>2020-03-17 03:37:35 +0000</td>\n",
       "      <td>https://www.walmart.com/reviews/product/15066091</td>\n",
       "      <td>walmart.com</td>\n",
       "      <td>Sylvania 9\" Portable Dvd Player With Swivel Sc...</td>\n",
       "      <td>5.0</td>\n",
       "      <td>This product works great. It's exactly what I ...</td>\n",
       "      <td>Diane</td>\n",
       "      <td>0</td>\n",
       "      <td>0</td>\n",
       "      <td>No</td>\n",
       "      <td>No</td>\n",
       "      <td>12/4/2018</td>\n",
       "      <td>133.0</td>\n",
       "      <td>58.0</td>\n",
       "      <td>15.0</td>\n",
       "      <td>9.0</td>\n",
       "      <td>34.0</td>\n",
       "      <td>positive</td>\n",
       "    </tr>\n",
       "    <tr>\n",
       "      <th>2</th>\n",
       "      <td>ef254e936e02a1b2bdaf89dd51b73403</td>\n",
       "      <td>2020-02-17 04:49:37 +0000</td>\n",
       "      <td>https://www.walmart.com/reviews/product/649827918</td>\n",
       "      <td>walmart.com</td>\n",
       "      <td>VIZIO 65\" Class 4K UHD Quantum SmartCast Smart...</td>\n",
       "      <td>5.0</td>\n",
       "      <td>The picture on this TV is better than any TV I...</td>\n",
       "      <td>Hieronymesque</td>\n",
       "      <td>0</td>\n",
       "      <td>0</td>\n",
       "      <td>Yes</td>\n",
       "      <td>No</td>\n",
       "      <td>12/25/2019</td>\n",
       "      <td>180.0</td>\n",
       "      <td>39.0</td>\n",
       "      <td>5.0</td>\n",
       "      <td>8.0</td>\n",
       "      <td>13.0</td>\n",
       "      <td>positive</td>\n",
       "    </tr>\n",
       "    <tr>\n",
       "      <th>4</th>\n",
       "      <td>03628759aaed53a0b9d137bca9991c5d</td>\n",
       "      <td>2020-02-07 01:17:14 +0000</td>\n",
       "      <td>https://www.walmart.com/reviews/product/125301514</td>\n",
       "      <td>walmart.com</td>\n",
       "      <td>AKG K92 Closed-Back Headphones - Stereo - Wire...</td>\n",
       "      <td>5.0</td>\n",
       "      <td>Very well-balanced between the highs and the l...</td>\n",
       "      <td>Dubbsta</td>\n",
       "      <td>52</td>\n",
       "      <td>1</td>\n",
       "      <td>No</td>\n",
       "      <td>No</td>\n",
       "      <td>12/9/2017</td>\n",
       "      <td>9.0</td>\n",
       "      <td>3.0</td>\n",
       "      <td>0.0</td>\n",
       "      <td>0.0</td>\n",
       "      <td>2.0</td>\n",
       "      <td>positive</td>\n",
       "    </tr>\n",
       "    <tr>\n",
       "      <th>5</th>\n",
       "      <td>7102ff804ecde89329af14dcf21d04b1</td>\n",
       "      <td>2020-03-01 10:26:04 +0000</td>\n",
       "      <td>https://www.walmart.com/reviews/product/149475379</td>\n",
       "      <td>walmart.com</td>\n",
       "      <td>Panasonic HD WiFi Camera KX-HN0002B</td>\n",
       "      <td>1.0</td>\n",
       "      <td>I own 6 of these camera's and every one of the...</td>\n",
       "      <td>Dave in SoCal</td>\n",
       "      <td>5</td>\n",
       "      <td>1</td>\n",
       "      <td>No</td>\n",
       "      <td>No</td>\n",
       "      <td>8/8/2018</td>\n",
       "      <td>1.0</td>\n",
       "      <td>7.0</td>\n",
       "      <td>3.0</td>\n",
       "      <td>2.0</td>\n",
       "      <td>9.0</td>\n",
       "      <td>negative</td>\n",
       "    </tr>\n",
       "    <tr>\n",
       "      <th>7</th>\n",
       "      <td>1e6d090571c49a1e5fe7111288f9012b</td>\n",
       "      <td>2020-02-17 03:08:23 +0000</td>\n",
       "      <td>https://www.walmart.com/reviews/product/734398582</td>\n",
       "      <td>walmart.com</td>\n",
       "      <td>Fossil Gen 4 Explorist HR Men's Smartwatch - B...</td>\n",
       "      <td>5.0</td>\n",
       "      <td>Wear daily easy to set up but one has to add a...</td>\n",
       "      <td>Roger</td>\n",
       "      <td>0</td>\n",
       "      <td>0</td>\n",
       "      <td>Yes</td>\n",
       "      <td>No</td>\n",
       "      <td>2/28/2019</td>\n",
       "      <td>39.0</td>\n",
       "      <td>12.0</td>\n",
       "      <td>7.0</td>\n",
       "      <td>3.0</td>\n",
       "      <td>4.0</td>\n",
       "      <td>positive</td>\n",
       "    </tr>\n",
       "  </tbody>\n",
       "</table>\n",
       "</div>"
      ],
      "text/plain": [
       "                            Uniq Id            Crawl Timestamp  \\\n",
       "0  ee40ad5e6211d47a92fa1962938fad16  2020-03-17 03:37:35 +0000   \n",
       "2  ef254e936e02a1b2bdaf89dd51b73403  2020-02-17 04:49:37 +0000   \n",
       "4  03628759aaed53a0b9d137bca9991c5d  2020-02-07 01:17:14 +0000   \n",
       "5  7102ff804ecde89329af14dcf21d04b1  2020-03-01 10:26:04 +0000   \n",
       "7  1e6d090571c49a1e5fe7111288f9012b  2020-02-17 03:08:23 +0000   \n",
       "\n",
       "                                             Pageurl      Website  \\\n",
       "0   https://www.walmart.com/reviews/product/15066091  walmart.com   \n",
       "2  https://www.walmart.com/reviews/product/649827918  walmart.com   \n",
       "4  https://www.walmart.com/reviews/product/125301514  walmart.com   \n",
       "5  https://www.walmart.com/reviews/product/149475379  walmart.com   \n",
       "7  https://www.walmart.com/reviews/product/734398582  walmart.com   \n",
       "\n",
       "                                               Title  Rating  \\\n",
       "0  Sylvania 9\" Portable Dvd Player With Swivel Sc...     5.0   \n",
       "2  VIZIO 65\" Class 4K UHD Quantum SmartCast Smart...     5.0   \n",
       "4  AKG K92 Closed-Back Headphones - Stereo - Wire...     5.0   \n",
       "5                Panasonic HD WiFi Camera KX-HN0002B     1.0   \n",
       "7  Fossil Gen 4 Explorist HR Men's Smartwatch - B...     5.0   \n",
       "\n",
       "                                              Review  Reviewer Name  \\\n",
       "0  This product works great. It's exactly what I ...          Diane   \n",
       "2  The picture on this TV is better than any TV I...  Hieronymesque   \n",
       "4  Very well-balanced between the highs and the l...        Dubbsta   \n",
       "5  I own 6 of these camera's and every one of the...  Dave in SoCal   \n",
       "7  Wear daily easy to set up but one has to add a...          Roger   \n",
       "\n",
       "   Review Upvotes  Review Downvotes Verified Purchaser Recommended Purchase  \\\n",
       "0               0                 0                 No                   No   \n",
       "2               0                 0                Yes                   No   \n",
       "4              52                 1                 No                   No   \n",
       "5               5                 1                 No                   No   \n",
       "7               0                 0                Yes                   No   \n",
       "\n",
       "  Review Date  Five Star  Four Star  Three Star  Two Star  One Star  \\\n",
       "0   12/4/2018      133.0       58.0        15.0       9.0      34.0   \n",
       "2  12/25/2019      180.0       39.0         5.0       8.0      13.0   \n",
       "4   12/9/2017        9.0        3.0         0.0       0.0       2.0   \n",
       "5    8/8/2018        1.0        7.0         3.0       2.0       9.0   \n",
       "7   2/28/2019       39.0       12.0         7.0       3.0       4.0   \n",
       "\n",
       "  Rating_Category  \n",
       "0        positive  \n",
       "2        positive  \n",
       "4        positive  \n",
       "5        negative  \n",
       "7        positive  "
      ]
     },
     "execution_count": 227,
     "metadata": {},
     "output_type": "execute_result"
    }
   ],
   "source": [
    "df.head()"
   ]
  },
  {
   "cell_type": "code",
   "execution_count": 228,
   "metadata": {},
   "outputs": [
    {
     "data": {
      "text/plain": [
       "<AxesSubplot:ylabel='Rating_Category'>"
      ]
     },
     "execution_count": 228,
     "metadata": {},
     "output_type": "execute_result"
    },
    {
     "data": {
      "image/png": "[encoded data removed]",
      "text/plain": [
       "<Figure size 432x288 with 1 Axes>"
      ]
     },
     "metadata": {},
     "output_type": "display_data"
    }
   ],
   "source": [
    "df.Rating_Category.value_counts().plot(kind='pie', autopct='%1.0f%%', colors=[\"red\", \"yellow\", \"green\"])"
   ]
  },
  {
   "cell_type": "code",
   "execution_count": 229,
   "metadata": {},
   "outputs": [],
   "source": [
    "# Create a new dataframe that will only have 2 relevant columns\n",
    "df = df.filter(['Review','Rating_Category'], axis=1)\n"
   ]
  },
  {
   "cell_type": "code",
   "execution_count": 230,
   "metadata": {},
   "outputs": [
    {
     "data": {
      "text/html": [
       "<div>\n",
       "<style scoped>\n",
       "    .dataframe tbody tr th:only-of-type {\n",
       "        vertical-align: middle;\n",
       "    }\n",
       "\n",
       "    .dataframe tbody tr th {\n",
       "        vertical-align: top;\n",
       "    }\n",
       "\n",
       "    .dataframe thead th {\n",
       "        text-align: right;\n",
       "    }\n",
       "</style>\n",
       "<table border=\"1\" class=\"dataframe\">\n",
       "  <thead>\n",
       "    <tr style=\"text-align: right;\">\n",
       "      <th></th>\n",
       "      <th>Review</th>\n",
       "      <th>Rating_Category</th>\n",
       "    </tr>\n",
       "  </thead>\n",
       "  <tbody>\n",
       "    <tr>\n",
       "      <th>0</th>\n",
       "      <td>This product works great. It's exactly what I ...</td>\n",
       "      <td>positive</td>\n",
       "    </tr>\n",
       "    <tr>\n",
       "      <th>2</th>\n",
       "      <td>The picture on this TV is better than any TV I...</td>\n",
       "      <td>positive</td>\n",
       "    </tr>\n",
       "    <tr>\n",
       "      <th>4</th>\n",
       "      <td>Very well-balanced between the highs and the l...</td>\n",
       "      <td>positive</td>\n",
       "    </tr>\n",
       "    <tr>\n",
       "      <th>5</th>\n",
       "      <td>I own 6 of these camera's and every one of the...</td>\n",
       "      <td>negative</td>\n",
       "    </tr>\n",
       "    <tr>\n",
       "      <th>7</th>\n",
       "      <td>Wear daily easy to set up but one has to add a...</td>\n",
       "      <td>positive</td>\n",
       "    </tr>\n",
       "  </tbody>\n",
       "</table>\n",
       "</div>"
      ],
      "text/plain": [
       "                                              Review Rating_Category\n",
       "0  This product works great. It's exactly what I ...        positive\n",
       "2  The picture on this TV is better than any TV I...        positive\n",
       "4  Very well-balanced between the highs and the l...        positive\n",
       "5  I own 6 of these camera's and every one of the...        negative\n",
       "7  Wear daily easy to set up but one has to add a...        positive"
      ]
     },
     "execution_count": 230,
     "metadata": {},
     "output_type": "execute_result"
    }
   ],
   "source": [
    "# Identify the 2 columns\n",
    "df.head()"
   ]
  },
  {
   "cell_type": "code",
   "execution_count": 231,
   "metadata": {},
   "outputs": [],
   "source": [
    "# For sentiment analysis ,we  only want to see positive and negative sentiments\n",
    "# Remove the neutral sentiments from the dataframe\n",
    "df = df[df['Rating_Category'] != 'nuetral']"
   ]
  },
  {
   "cell_type": "code",
   "execution_count": 232,
   "metadata": {},
   "outputs": [
    {
     "data": {
      "text/plain": [
       "(20196,)"
      ]
     },
     "execution_count": 232,
     "metadata": {},
     "output_type": "execute_result"
    }
   ],
   "source": [
    "df['Review'].shape"
   ]
  },
  {
   "cell_type": "code",
   "execution_count": 233,
   "metadata": {},
   "outputs": [
    {
     "data": {
      "text/plain": [
       "(20196,)"
      ]
     },
     "execution_count": 233,
     "metadata": {},
     "output_type": "execute_result"
    }
   ],
   "source": [
    "df['Rating_Category'].shape"
   ]
  },
  {
   "cell_type": "code",
   "execution_count": 234,
   "metadata": {},
   "outputs": [
    {
     "name": "stderr",
     "output_type": "stream",
     "text": [
      "[nltk_data] Downloading package stopwords to\n",
      "[nltk_data]     C:\\Users\\benjo\\AppData\\Roaming\\nltk_data...\n",
      "[nltk_data]   Package stopwords is already up-to-date!\n"
     ]
    },
    {
     "data": {
      "text/plain": [
       "True"
      ]
     },
     "execution_count": 234,
     "metadata": {},
     "output_type": "execute_result"
    }
   ],
   "source": [
    "nltk.download('stopwords')"
   ]
  },
  {
   "cell_type": "code",
   "execution_count": 235,
   "metadata": {},
   "outputs": [],
   "source": [
    "# assign the values as 1 for positive and 0 for negative\n",
    "mymap = {'positive': 1, 'negative': 0,'neutral':2}\n",
    "df=df.applymap(lambda s: mymap.get(s) if s in mymap else s)"
   ]
  },
  {
   "cell_type": "code",
   "execution_count": 236,
   "metadata": {},
   "outputs": [],
   "source": [
    "df.to_csv('new',index=False)"
   ]
  },
  {
   "cell_type": "code",
   "execution_count": 237,
   "metadata": {},
   "outputs": [],
   "source": [
    "df=pd.read_csv(\"new\")"
   ]
  },
  {
   "cell_type": "code",
   "execution_count": 238,
   "metadata": {},
   "outputs": [
    {
     "data": {
      "text/html": [
       "<div>\n",
       "<style scoped>\n",
       "    .dataframe tbody tr th:only-of-type {\n",
       "        vertical-align: middle;\n",
       "    }\n",
       "\n",
       "    .dataframe tbody tr th {\n",
       "        vertical-align: top;\n",
       "    }\n",
       "\n",
       "    .dataframe thead th {\n",
       "        text-align: right;\n",
       "    }\n",
       "</style>\n",
       "<table border=\"1\" class=\"dataframe\">\n",
       "  <thead>\n",
       "    <tr style=\"text-align: right;\">\n",
       "      <th></th>\n",
       "      <th>Review</th>\n",
       "      <th>Rating_Category</th>\n",
       "    </tr>\n",
       "  </thead>\n",
       "  <tbody>\n",
       "    <tr>\n",
       "      <th>0</th>\n",
       "      <td>This product works great. It's exactly what I ...</td>\n",
       "      <td>1</td>\n",
       "    </tr>\n",
       "    <tr>\n",
       "      <th>1</th>\n",
       "      <td>The picture on this TV is better than any TV I...</td>\n",
       "      <td>1</td>\n",
       "    </tr>\n",
       "    <tr>\n",
       "      <th>2</th>\n",
       "      <td>Very well-balanced between the highs and the l...</td>\n",
       "      <td>1</td>\n",
       "    </tr>\n",
       "    <tr>\n",
       "      <th>3</th>\n",
       "      <td>I own 6 of these camera's and every one of the...</td>\n",
       "      <td>0</td>\n",
       "    </tr>\n",
       "    <tr>\n",
       "      <th>4</th>\n",
       "      <td>Wear daily easy to set up but one has to add a...</td>\n",
       "      <td>1</td>\n",
       "    </tr>\n",
       "  </tbody>\n",
       "</table>\n",
       "</div>"
      ],
      "text/plain": [
       "                                              Review  Rating_Category\n",
       "0  This product works great. It's exactly what I ...                1\n",
       "1  The picture on this TV is better than any TV I...                1\n",
       "2  Very well-balanced between the highs and the l...                1\n",
       "3  I own 6 of these camera's and every one of the...                0\n",
       "4  Wear daily easy to set up but one has to add a...                1"
      ]
     },
     "execution_count": 238,
     "metadata": {},
     "output_type": "execute_result"
    }
   ],
   "source": [
    "df.head()"
   ]
  },
  {
   "cell_type": "code",
   "execution_count": 239,
   "metadata": {},
   "outputs": [
    {
     "data": {
      "text/plain": [
       "(20196, 2)"
      ]
     },
     "execution_count": 239,
     "metadata": {},
     "output_type": "execute_result"
    }
   ],
   "source": [
    "df.shape"
   ]
  },
  {
   "cell_type": "code",
   "execution_count": 240,
   "metadata": {},
   "outputs": [
    {
     "data": {
      "text/plain": [
       "1    15685\n",
       "0     3300\n",
       "2     1211\n",
       "Name: Rating_Category, dtype: int64"
      ]
     },
     "execution_count": 240,
     "metadata": {},
     "output_type": "execute_result"
    }
   ],
   "source": [
    "df['Rating_Category'].value_counts()"
   ]
  },
  {
   "cell_type": "markdown",
   "metadata": {},
   "source": [
    "# Text Processing"
   ]
  },
  {
   "cell_type": "code",
   "execution_count": 241,
   "metadata": {},
   "outputs": [],
   "source": [
    "import re\n",
    "from nltk.corpus import stopwords\n",
    "from nltk.stem.porter import PorterStemmer"
   ]
  },
  {
   "cell_type": "code",
   "execution_count": 242,
   "metadata": {},
   "outputs": [
    {
     "data": {
      "text/plain": [
       "'product work great exactli look'"
      ]
     },
     "execution_count": 242,
     "metadata": {},
     "output_type": "execute_result"
    }
   ],
   "source": [
    "df['Review'][0]\n",
    "Review = re.sub('[^a-zA-Z]', ' ', df['Review'][0]) \n",
    "Review = Review.lower()  \n",
    "Review = Review.split()  \n",
    "ps =PorterStemmer()\n",
    "Review = [ps.stem(word) for word in Review if not  word in set(stopwords.words('english'))] \n",
    "Review = ' '.join(Review) \n",
    "Review"
   ]
  },
  {
   "cell_type": "code",
   "execution_count": 243,
   "metadata": {},
   "outputs": [],
   "source": [
    "corpus = [] \n",
    "for i in range (0,20196 ):\n",
    "    Review = re.sub('[^a-zA-Z]', ' ', df['Review'][i] )\n",
    "    Review = Review.lower()\n",
    "    Review = Review.split()\n",
    "    ps =PorterStemmer()\n",
    "    Review = [ps.stem(word) for word in Review if not  word in set(stopwords.words('english'))]\n",
    "    Review = ' '.join(Review)\n",
    "    corpus.append(Review)"
   ]
  },
  {
   "cell_type": "code",
   "execution_count": 244,
   "metadata": {},
   "outputs": [
    {
     "data": {
      "text/plain": [
       "['product work great exactli look',\n",
       " 'pictur tv better tv ever own life extrem low latenc hdr wcg make wonder way experi high frame rate video game without input lag whatsoev would',\n",
       " 'well balanc high low bass trebl good volum ascend abil mean turn volum devic way headphon either get loud lot distort distort occur probabl due qualiti record volum music track given lastli like fact support band headphon headrest band top head actual rest support band comfort go way ear',\n",
       " 'camera everi one experi issu ghz support meh camera fail stay connect network see pictur camera bounc respons time repli client pc whoever write firmwar realli need test sand public updat okay other total reek havoc make camera work wors wish could downgrad firmwar also reset camera factori default connect anoth ssid wireless network',\n",
       " 'wear daili easi set one add account reciv respond text',\n",
       " 'soon got packag mail fianc instal got home work pretti amaz love turn light click button best thing dim light dont want need bright light great product review collect part promot',\n",
       " 'get wrong listen music great microphon sound like far away tri talk take age connect earphon drop ground ear liter',\n",
       " 'save money bought yr old son good thing earbud fit crap would say set connect could get music play one charg hour one got extrem hot unplug let cool neither one would work return save time money dont buy',\n",
       " 'great televis day cheapo k tv realli see differ one contrast light dark great realli set apart cheaper tv motion blur overal realli happi purchas sweepstak',\n",
       " 'amaz color pictur qualiti seasi use airplay support review collect part promot',\n",
       " 'phone speaker broke tell onlin use phone',\n",
       " 'work realli well super easi set took minut qualiti level basic standard hi def pretti clear hi def best clear app easi instal could start watch right away app photograph record video tini inch tall would easi stick corner shelf discreetli spi level discreet fine normal secur babi cam pet cam hardwar want mount wall hang shelf etc power adapt also small usb cord could hook directli comput record download night vision graini impress detail good enough see basic imag audio adequ appropri level technolog got camera check dog throughout day work thoroughli happi wifi camera recommend anyon want basic technolog good result econom price spec ezviz mini overal size approx height x width hd p mini wi fi camera bank level secur encrypt step verif account protect app control access manag wi fi certifi ghz audio record microsd slot secur cloud record subscript requir night vision specif angl view degre horizont infrar ft night vision day night true day night auto switch local storag gb audio built microphon audio record power dc v warranti year system requir wireless standard ieee b g n wi fi band ghz high speed internet connect mobil os io v higher android v higher connect power download app regist account add devic scan qr code',\n",
       " 'awesom littl drone price great toy grade drone simpli screw land leg prop guard readi fli read instruct bind control quick calibr pleas warn fli open area minim wind mind control react fli well hover nice appear quit durabl overal good drone offer plenti fun someon enter hobbi',\n",
       " 'love great size walmart exclus k blue ray got sale',\n",
       " 'bought gift year old godson seem enjoy right away',\n",
       " 'straight talk good phone trash sometim keyboard fail reboot sometim phone send text go outsid get nd bar dead zone straight talk volum button easili trigger simpli hold phone ear backlight would constantli reset lowest set set timeout never keep backlight reset low half time call qualiti good give phone neg star could straight talk drop phone asap',\n",
       " 'found onlln find store unfortun stock',\n",
       " 'earli christma gift husband love disabl viet nam vet home bound',\n",
       " 'littl larger expect size heavi great sound batteri seem last long time',\n",
       " 'sync quickli sound sharp look good charg fast',\n",
       " 'final headphon work happi say headphon actual work usual get headach headphon problem bone conduct must make easier ear batteri life also seem quit good keep charg sever day point trekz also seem charg quickli well review aftershokz trekz titanium wireless bone conduct headphon receiv free charg beta test review',\n",
       " 'color pretti dark purpl fit alta perfect',\n",
       " 'look without cabl tv like two year product hit spot realli enjoy specialti program like juic vegetarian etc tv show like empir reason doesan play vevo music video well play youtub music video great',\n",
       " 'good cup holder work excel',\n",
       " 'love great qualiti use almost everi singl day without issu sound qualiti great even pretti good nois cancel charg pretti quickli nice plu',\n",
       " 'use nannycam surprisingli pleas imag qualiti clear hd camera even low light night vision look great motion slight lag expect audio take bit initi load noth unexpect unbear overal price good camera well worth purchas setup incred simpl app easi use',\n",
       " 'watch amaz someon work often use gym count step issu wish count step accur gadget watch make worth get watch run workout',\n",
       " 'best case toddler easi carri fun color drop ipad perfectli protect highli recommend everi parent great buy review collect part promot',\n",
       " 'far good seem connect well iphon xr still figur treadmil run love shut track drive certain vehicl track step drive appl watch thing issu sure updat',\n",
       " 'famili love portabl dvd player especi month old great long trip car',\n",
       " 'got cd player month ago fine long turn past half volum caus base turn way high get realli distort sound like crap also way adjust base ps normal love base subwoof everi car ever own thing sound like crap turn past half volum would buy',\n",
       " 'expect bentley buy yari durabl reliabl fit ear well review collect part promot',\n",
       " 'like keep babi busi time learn',\n",
       " 'product refurbish use got filthi sticki stuff stuck screen scratch oh yeah take charg thing done ipad remov origin owner appl id pain return got stuck pay ship insur',\n",
       " 'fell fridg glue came undon magnet devic break though',\n",
       " 'good size fit small wrist wear week work great',\n",
       " 'realli like itech watch howev kind confus figur first instanc heart rate featur tell record heart rate figur hold screen screen complaint metal band put someth metal attract item realli like watch though great budget review collect part promot',\n",
       " 'vcr dvd dub machin meet expect qualiti excel would recommend anyon want dub vcr tape dvd would also look back new digit copi hard drive also',\n",
       " 'third samsung tracfon last phone tracfon hour factori reset less one day activ call come restrict matter make call number contact list go eat replac phone soon two day old today warn tracfon help issu',\n",
       " 'noth bad say televis excel pictur plethora featur sound expect type tv plan ad sound bar enhanc experi',\n",
       " 'sound seri phenomen hope synch two would littl better short distanc ft get synch',\n",
       " 'versatil tablet featur adult plu child littl girl love',\n",
       " 'seriou problem appl airport extrem base station drop signal sever time per day correct reboot router howev still pain butt purchas googl solut inde easi instal deliv faster speed ever receiv appl router addit month never drop signal boy girl way go note still iphon x appl watch ipad air',\n",
       " 'although work pretti well devic plug philip sound extrem loud bluetooth well could bare get whisper buy return',\n",
       " 'better cabl u pick want watch n buy',\n",
       " 'great condit like switch much came day earli like much',\n",
       " 'product good price skip littl gravel road howev trick toddler hour trip volum control decent screen big enough toddler watch distanc',\n",
       " 'ask',\n",
       " 'complic set switch watch featur easi quick get back time mayb grow like watch definit readi go watch box',\n",
       " 'realli good make smart tv low price',\n",
       " 'expect better condit even refurbish glass face scuff bodi multipl notic ding watch seem function ship vovoya rather quickli would wait longer known condit',\n",
       " 'mine still love plastic clasp thing near ear broke side repair kept move wear everyday order soon',\n",
       " 'web site referenc paperwork user manual product unabl find one anywher',\n",
       " 'work great still learn thing love load read smart phone show result doc',\n",
       " 'good valu',\n",
       " 'grest qualiti good playback pictur sound love batteri charg featur allow take vehicl doctor appoint etc bought okay buy',\n",
       " 'absolut love new appl airpod one thing like use one one charg one ear',\n",
       " 'previous purchas refurbish laptop notebook never problem slow constantli freez',\n",
       " 'wait littl write review want sure enough time get comfort setup breez app easi use pictur surprisingli good qualiti easi move camera app motion detector work well littl concern wifi router upstair opposit side hous connect strong like sound two way sooth babi walk overal pleas monitor realli think anyth neg say review collect part promot',\n",
       " 'great kid lightweight color easi littl hand carri need add screen protector price big deal',\n",
       " 'comfort fabric light stretch soft mesh line breathabl simpl velcro adjust easi plug n play good cord nice length great sleep travel',\n",
       " 'look smart plug live room lamp plug connect alexa phone',\n",
       " 'purchas one lock month ago instal somewhat complic due need remov metal secur plate door frame drill hole replac order get deadbolt properli seat door jam work great till stop work entir though batteri new red light still lit follow instal first lock bought second one door go garag laundri room incorrectli assembl lock knob upsid rotat clock clock instead clock clock rather return elect live sinc instal easili otherwis work perfectli still love lock previous develop habit alway lock door enter leav wife remind work great solut lock set automat lock second longer necessari carri key increas home secur immens find kwikset honor lifetim warranti pain remov return lock like well enough make effort replac lower rate two star less inop lock wors old deadbolt',\n",
       " 'zigbe version lock use home secur compani coulnd tell enter hous despit uniqu code one switch z wave version use veraedg notifi someon enter code know also power lock unlock door hundr mile away work flawlessli look great batteri last long time geofenc abl unlock drive driveway import featur three dog travel car mani question switch zigbe version z wave one technic support kwikset outstand never felt total interest satisfact product help decid switch z wave version satisfi need lock easi instal program great product great compani review collect part promot',\n",
       " 'got phone yesterday absolut love hand id work well would expect new form identif work work obvious possibl could air motion gestur easi learn easi use plu work perfectli time love phone great smooth back though smooth back make slide littl bit batteri life isnt would hope though could simpli tof sensor take littl bit power thing hope lg air motion ad way scroll app essenti tab button like keyboatd select someth app plu way two shortcut use creat broader rang option speaker loud distort sound due havr speaker essi ignor get though otherwis love make way buffer someth batteri last longer releas updat air motion make useabl term thing make star rate review collect part promot',\n",
       " 'phonw hold charg come dead within minut',\n",
       " 'move room room work home home offic long teleconfer much better use ueboom compact durabl visit famili bring along enjoy music wherev',\n",
       " 'purchas price bad tv instal setup extrem easi wireless router connect pictur great navig easi remot work day put new batteri less day new remot way support horribl oversea support come realiz joselito abl get flow sheet abl send remot reimburs inbatteri',\n",
       " 'realli review game system bought christma present grandson',\n",
       " 'research bunch wireless earbud market heard tripl driver headphon becam popular order pair realli think peopl complet satisfi earbud bass power bear sound clear fit perfectli ear without fall origin start use workout earbud start use everyday use strongli recommend earbud anyon want solid pair without break bank review collect part promot',\n",
       " 'fit phone cover',\n",
       " 'use sever differ unknown brand bluetooth sport headphon discov work work review xr xr walmart buyer seem great decid tri audio great mayb bit much bass side make audio adjust galaxi big deal qualiti sound along strong connect also great gap interv silenc seen happen unit nice experi sit still listen tune watch flick great job issu gave star stay place gym constantli adjust order keep fall oh tri differ ear bud still troubl issu opinion cord placement wrong place need near back ear thing rather front would elimin reduc stress creat tighten cord around back head neck want prevent cord dangl bounc pull occur headset rear direct thu pri ear',\n",
       " 'secur easi remov put back work great worri drop tablet work field use galaxi note',\n",
       " 'kid love call fitbit like track activ goal like monitor activ movement sleep pattern inform decis activ need particip weekend use coin system cash time screen time elimin kid ask screen time',\n",
       " 'hope sound appear good given price comfort wear',\n",
       " 'took awhil get day took week',\n",
       " 'broke less hour sound uneven time open headphon',\n",
       " 'got christma great fit great featur simpl use love',\n",
       " 'go netflix cabl channel audio previou channel stay review collect part promot',\n",
       " 'worri set code surpris easi would recommend product review collect part promot',\n",
       " 'littl worri read review order iphon came exactli time obvious referbish minor ding top right corner hardli notic everyth els look work great',\n",
       " 'complaint recent purchas proscan tv pictur qualiti excel sound alright purchas magnavox vcr dvd combo coupl year ago could never use due fact tv old old set right hook up final decid purchas proscan christma price rang fit budget took chanc easi assembl leg easi hook magnavox vcr dvd player purchas wal mart well sit box past year everyth work great happi new tv work well vcr dvd player sound pictur qualiti great especi love proscan flat screen tv made right usa would recommend tv anyon ye purchas anoth one futur need anoth tv',\n",
       " 'friend one love want buy one',\n",
       " 'moto g plu last two year realli enjoy decid time get new phone g came g huge step g plu screen bigger brighter notic sharper fingerprint sensor faster face unlock thing realli cool app seem good bit faster smoother highli recommend',\n",
       " 'neat design easi use littl wobbl ipad ad weight',\n",
       " 'great',\n",
       " 'grand daughter love toy',\n",
       " 'use defend wire k wire secur system two week got system well pack organ contain lot part littl intimid first want hard wire system hope consist qualiti still tidi wire direct seem technic follow slowli step step set mostli smooth first time instal someth like look detail internet make sure set dvr correctli whole thing set impress qualiti pictur wide angl even night could see pretti well still tinker set like differ view thing could make better would could pan around realli mani camera set neccesari power system home would also great use small busi abl everi singl dark corner gate door surveil learn app glad featur without pay monthi servic fee review collect part promot',\n",
       " 'great camera disappoint lack technic knowledg system defend base new sell extens wire even tell spec wire could buy elsewher need long run may want wait buy extens',\n",
       " 'bought elk hunt mind montana log countri trail direct help get back camp night',\n",
       " 'easi set awesom',\n",
       " 'excel drone great experi profession skill develop',\n",
       " 'smart watch pretti awesom troubl first updat oper system phone seem trick sever function bluetooth remot phone camera music control customiz watch front review collect part promot',\n",
       " 'purchas month ago im glad',\n",
       " 'simpl instal great video qualiti allow user hear speak other support amaz smartphon app final multipl plan avail record video cloud',\n",
       " 'ditch tv remot power tv control volum roku remot',\n",
       " 'exactli order easi appli buick ship fair price',\n",
       " 'phone week realli love one issu leav thought possibl exchang though ye stay model hope would minu issu one current would great issu coupl site say offlin check set reboot fine guess minor flaw take day decid exchang love phone',\n",
       " 'multipl level home easi accur way view adjust temperatur throughout home someth love us product someth easili worth setup incred simpl well',\n",
       " 'great find directli fitbit price fantast',\n",
       " 'charg fast',\n",
       " 'galaxi phone mani year last one galaxi good tri use messag app remov mani futur use like schedul messag time date galaxi sent messag add anyth remov anyth copi messag add new messag remov add help peopl text much',\n",
       " 'happi pictur sound tv neg quit loud tone upon turn review collect part promot',\n",
       " 'bought newli built white built in look great perfect size sound perfect',\n",
       " 'indic well nest product work would definit love invest tri nest product absolut easiest best fastest way adjust thermostat issu whatsoev truli amaz equip',\n",
       " 'love color prefer type band watch type band',\n",
       " 'great tv still tv still put display port keep use hdmi review collect part promot',\n",
       " 'bought wife realli like great sound',\n",
       " 'samsung origin love',\n",
       " 'son love headphon excel qualiti bargain',\n",
       " 'flimsi cabl use care put stapl one misplac stapl cabl useless spend littl get better cabl',\n",
       " 'great valu new smart tv feel good one dissapoint issu thank review collect part promot',\n",
       " 'price sound awesom easi connect phine',\n",
       " 'peopl straight talk phone servic buy phone',\n",
       " 'bought lockset month ago upgrad smartcod deadbolt could hook wink wink set provid alert time door lock unlock see clean person enter leav also remot unlock door best thing lock door remot turn around car way work make sure lock batteri last month use door lot alway lock love review collect part promot',\n",
       " 'one work would rate star work',\n",
       " 'bought watch coupl day ago everyth want far',\n",
       " 'worri stream would work well slow dsl internet pleasantli surpris work flawlessli new roku express',\n",
       " 'instal lock play first bit mechan electron familiar function howev play electron insert fill memori number check factori reset lock insert lock rememb number tri test somewhat frustrat well pay listen advic manual lock replac earlier kwikset made replac straight forward old lock goe new one goe one featur particularli appreci self control devic demonstr lock wife notic led green orang color display unlock vs lock seem work puzzl door open indic lock statu work realiz quickli previou cutout lock bolt deep enough allow intern bolt lock push back cut bolt receptacl door frame deeper allow bolt slip way indic correct engag via led also meant previou locksmith one never paid attent properti kwikset lock like also smartkey featur set lock accept previou key summari satisfi experi instal straight forward set code logic natur although necessari factori reset bit pain verifi work describ caught also incomplet engag lock bolt great review collect part promot',\n",
       " 'yr love sinpl start love love',\n",
       " 'found alway forget charg fitbit hr work got nd charger great price',\n",
       " 'phone everyth one could ever want need masterpiec except achil heel back phone seem made regular everyday plain glass fell lap class phone less two week back glass shatter like window pane imagin screen gorilla glass back regular glass anyway best money ever spend',\n",
       " 'excel perfect',\n",
       " 'love earbud everyth describ especi love extend time charg find enough great thing say problem ship time took longer purchas normal take worth wait',\n",
       " 'noth samsung tv household great tv review collect part promot',\n",
       " 'great sound creepi good nois cancel system complaint annoy tone switch sit walk run drive soni pleas softwar updat turn',\n",
       " 'batteri die month warranti cover buy cell phone',\n",
       " 'yeah bough last month old tv go glad bought happi purchas',\n",
       " 'big good qualiti',\n",
       " 'secur system realli nice option great piec mind keep eye place cannot see properti home read look opt outsid assist sure got pictur qualiti great small camera watch shorelin boat front rear door well choic locat around hous garag happi eas use qualiti product review collect part promot',\n",
       " 'work great lot fun good rang connect great batteri life great deal warm hat',\n",
       " 'love camera easi set user friendli great',\n",
       " 'use mostli track daili activ workout far im crazi impress oper system function great look piec stylish honest consid return',\n",
       " 'good enough case altho littl stiff realli didnt like tab e n end exchang tab much better case went back',\n",
       " 'bought first day work one side volum button work sound gross touch would recommend anyon',\n",
       " 'bought could use samsung pay turn new watch mst payment essenti appl pay worthless retail appl samsung pay set return buy classic galaxi use pay store without get phone classic would return watch phone get appl watch much less cumbersom actual fit wrist even new mm way big bulki wrist advic samsung bring back mst payment technolog make much smaller watch otherwis might switch appl futur least ekg app use fit stuff reason would even buy watch option use payment',\n",
       " 'nice secur camera work well connect easili setup breez might get futur home',\n",
       " 'look smart watch break bank great featur well smart watch everyth would need smart watch includ step track access phone log messag sleep monitor mani mani download requir app onto phone readi go love smart watch review collect part promot',\n",
       " 'real life saver accident wash first phone laundri left pant pocket learn use upset walmart store sold anoth like happi find',\n",
       " 'great item dual zone hvac need control temp base temp anoth area',\n",
       " 'got bundl littl googl nest speaker use differ room replac nightstand clock offer mani cool featur help',\n",
       " 'look headphon good bass seem fit even though featur keep sound design good job also hard break drop sever time even water also',\n",
       " 'best way fix touch screen problem right side bottom face unit away drill hole behind hing pin allow insert finger tap screen work perfectli',\n",
       " 'equip arriv perfect condit compon box state tri set unit state instruct manual luck set touch go chat line hour magnavox help desk clerk knowledg help total frustrat termin call revert brute forc press button see would happen gradual found work menu least far need determin record would work find right menu path set fairli straight forward set record time simpl playback anoth thing find dvr simpl oper mani button push find play back record program dvr day get familiar feel easier use satisfi basic need dvr record even news play back later one final note techi understand term phraseolog loss right begin good machin want like',\n",
       " 'good product horribl deal ship though',\n",
       " 'turn nois cancel way like wire low quickli turn nois cancel like wire talk someon hear announc nois cancel headphon great flight way easili connect flight entertain like option headphon jack bose bluetooth transmitt talk qualiti good compar wire mildli windi creat loud nois nois cancel good high pitch sound like air condit subway power button weird spot face neck rememb set nois cancel reset time turn use charg hour good charg travel fli somewher intern huge inconveni need second set headphon',\n",
       " 'admit first saw puls thought light show seem bit gimmicki assum attempt stand coupl hundr portabl bluetooth speaker use thing coupl week find mesmer light show addit music listen lot podcast love set puls equal light set watch listen feel like talk weird sound sort consid music snob half expect puls shortfal sound qualiti main sell point durabl water resist light show quickli prove wrong sound full carri extrem well yet hear high crash pet peev even blast full volum play everyth metal oldschool rap exclud countri sorri thoroughli impress qualiti say letdown app control lightshow kind annoy use select product time seem seamless everyth els big deal usual use pair phone like normal bluetooth speaker need special app control light default last set turn importantli jbl product batteri life amaz last forev annoy ding speaker batteri get low also stingi batteri life light show turn right speaker review collect part promot',\n",
       " 'bought month ago everyth need noth need kid cartoon work us',\n",
       " 'great tv sound qualiti could much better would great control via alexa review collect part promot',\n",
       " 'gig storag make blah u get u pay',\n",
       " 'love extra loop help keep extra secur',\n",
       " 'like control distanc plan temp arriv time',\n",
       " 'realli love tablet everyth phone accept make call think anyway awesom plu strain eye anymor like said awesom thank walmart great product',\n",
       " 'purchas radio elderli mother keen newer digit radio old time dial eas use big plu regard sound rich true life drawback cost consid bit steep pleas purchas',\n",
       " 'earbud kinda big ear placement batteri last hour die',\n",
       " 'gift grandson birthday pleas',\n",
       " 'tip flimsi realli never actual use lost let say big deal',\n",
       " 'love problem honest truth dog chew remot get replac went lg websit success pleas help',\n",
       " 'upsid sound qualiti expect sound averag decent howev batteri life make almost pointless get go workout chill around hous warn die constantli charg lost beat afford buy new pair right away differ substanti around temporarili would recommend',\n",
       " 'unfortun often left earbud fail pick sound goe leav jar unpleas disappoint listen experi anoth problem cannot wear left earbud',\n",
       " 'best tv ever made best color sound pictur qualiti place fireplac mani movi k watch highli recommend tv',\n",
       " 'purchas samsung q k ultra high definit televis world war ii dad father day poor eyesight see amaz color vivid detail love would highli recommend model everyon review collect part promot',\n",
       " 'everyth home samsung love product',\n",
       " 'got black friday weekend onlin pick store day get total halo game xbox one beat deal',\n",
       " 'perfect size pictur clariti bedroom eas oper review collect part promot',\n",
       " 'great featur awesom app need support muti devic connect bose headset',\n",
       " 'great wifi drop often useabl onlin game stream took back might tri fix issu',\n",
       " 'amaz devic give kind channel stuff free help us replac expens cabl',\n",
       " 'tv week best everi bought',\n",
       " 'exactli need thought light turn arm work fine found proper icon turn make easi track step purchas',\n",
       " 'word packag say use iphon cannot whatev happen truth label packag',\n",
       " 'love phone option',\n",
       " 'best xbox ever',\n",
       " 'look real red light blink one know decoy',\n",
       " 'nice phone take nice pictur real good batteri life lot better last phone',\n",
       " 'fit great slip kid love fun color',\n",
       " 'first pleas phone seem like good price basic phone agre previou review though keep pretti chunki case phone despit back shatter luckili glass screen protector screen remain almost complet intact issu though quit even year lost almost essenti function biggest problem reason one hear talk phone hear everyth els liter number one purpos phone peopl bare hear set speaker phone use earbud difficult expect call addit button bare work particularli volum button lag behind extens app frequent freez main system app constantli shut sometim tap effect wait minut whole thing shut use happen even power button work understand happen amount restart updat help get new phone year use one',\n",
       " 'got wal mart app pm retriev item cart websit shut state internet like realli item ad n cart allow get',\n",
       " 'tablet turn charg hour',\n",
       " 'bought daughter love disney princess band appeal unhappi face dark word easiest read without lot light would love light face featur someth like could see time darker set direct app game easiest understand like water resist featur sleep tracker',\n",
       " 'got yesterday love new advanc featur roku past far outshin love find remot featur headphon great boyfriend watch tv night sleep voic command awesom',\n",
       " 'own mani phone samsung final come one infin screen best featur market love phone buy samsung product famili',\n",
       " 'tv month impress easi set color sound realli good samsung product tv live expect samsung review collect part promot',\n",
       " 'pro clear pictur easi setup con like tini skinni leg pedest base much nicer',\n",
       " 'bought month ago like caus pay channel',\n",
       " 'comfort look great',\n",
       " 'bought red one got white one hope get ear return walmart custom servic ladi well less help pretti bum',\n",
       " 'awesom game consol great game movi resolut well tb memori',\n",
       " 'week work realli well doesnt bell whistl name band realli happi get move',\n",
       " 'get pay headphon sound less desir cord feet long mini plug bought sister daughter could practic piano togeth disturb hous ok small child much els',\n",
       " 'amaz drone',\n",
       " 'reliabl easi use great featur good select',\n",
       " 'bought gift grandson absolut love favorit txt messag aspect',\n",
       " 'kid love everyth game best buy ever bought one si fight peac clean room play clean',\n",
       " 'audiophil person own good sound qualiti fantast wish bass bass present earbud wish bit sound qualiti crisp clear mid low high build qualiti great although waterproof also fit good could better though',\n",
       " 'seller deliv iphon ahead schedul frustrat began phone would let log onto appl store etc therefor download app could log appleid comput phone spite effort phone alway gave messag verif fail watch countless youtub video solv dilemma wonder phone gave hate product fortun veteran iphon user took problem solv complet factori reset complaint done whoever refurbish phone phone readi use',\n",
       " 'current garmin garmin vivo band watch shape year button make easi push look activ strap come apart plu want someth look littl nicer watch look natur chose garmin thought would intuit read review prior purchas open box pull watch button touch screen littl finicki get watch pair finicki touch screen crazi doubl tap begin time imposs doubl tap time time begin end frustrat time move arm toward turn watch requir doubl tap ridicul imposs read see outdoor need still tri decid whether want strap old geeki look band strap hook send attract non function thing back gagarin',\n",
       " 'chose beat pill think anyway glad choic waterproof better sound',\n",
       " 'receiv razer kiyo full hd p stream camera world first built ring light day ago tri set sure wrong light anyth could get work back yesterday plug start work mayb user issu thing clear vivid camera tri skype work great love clear great grandson xbox desktop stream camera power multi step ring light dim brighten command turn ring awesom perfect camera profession stream game stream p resolut fp resolut fp full hd plug n play small enough throw backpack go love sinc connect via usb fuss need power suppli easi mount posit monitor tripod third parti softwar also use skype broadcast softwar xsplit small compact power camera highli recommend',\n",
       " 'tv outstand pictur clear sound bar attach top color gorgeou everyth big get use great tv',\n",
       " 'bought tv month ago pleas need someth smaller yet smart featur tv plenti smart featur versatil great buy small children like happi extra tv',\n",
       " 'far good phone month met expect motorola atrix previous refurbish iphon beat hand love pictur calendar event devic imac ipad phone multipl delet came quickli state pack origin box charger ear bud frequent phone buyer want time definit check walmart',\n",
       " 'vizio last sever year impress qualiti replac older vizio smart tv sinc stream tv rather pay outragist cabl cabl satellit bill hope tv long time',\n",
       " 'possibl say worst thing lock time never work difficult instal wish never bought danger woman live want fast entri',\n",
       " 'bought month ago put bonu room grandchildren play game ps xbox love four vizio tv home never problem excel tv',\n",
       " 'easi child mess thing coupl week kept lose charg say wasnt plug',\n",
       " 'total cheaper plan like total wireless boost st seem largest select phone e deliveri conveni delay receiv card bit unfortun nice option',\n",
       " 'xbox christma present open yet disappoint ship consol much larger box pad put larger box keep content rattl around outsid box dent bare tape shut',\n",
       " 'im happi tv great purchas easi instal pictur great qualiti could better',\n",
       " 'graphic littl date hard read howev toddler enjoy button nois good price',\n",
       " 'great tablet teen love great camera video chat',\n",
       " 'reciev watch today kind disappoint scream scratch realli bad wish would kept money',\n",
       " 'great speaker lot power easi connect one best new product market',\n",
       " 'want bunch fanci function never use year old hous use origin wire furnac need simplist fit bill work like charm nice excel price noth fanci function',\n",
       " 'beauti piec equip love featur glad friend mine recommend model',\n",
       " 'gave star easi setup pictur qualiti goe hill unless buy base includ camera offer expect batteri last day charg batteri instal camera outdoor follow direct shock receiv notif camera littl batteri life left camera instal hr impress batteri month batteri life trail cam work year round replac batteri year without recharg u understand disappoint make sens camera would uninstal everi day order charg batteri option plug unit purchas wireless camera conveni instal camera without hard wire wast money return item',\n",
       " 'brought product month ago say hold problem like differ featur come',\n",
       " 'bought switch take advantag alexa easi instal kid love alexa highli recommend addit snart home',\n",
       " 'tv pictur beauti chang view experi',\n",
       " 'glad replac pictur much better price bad either',\n",
       " 'sometim seam mind scan program still work',\n",
       " 'everi thing suppo advertis',\n",
       " 'extrem pleas inch tv fit perfectli wall unit entertain center surround sound love',\n",
       " 'purchas recommend friend sound qualiti higher volum break crack piec cord plug come batteri way short realli impress gave away qc bose headphon best stuck',\n",
       " 'easi set varieti watch almost endless',\n",
       " 'work well everyth wife want tickl death want phone pad use oper system side screen littl small star',\n",
       " 'littl stylu perfect carri pocket work great phone',\n",
       " 'lock instal hous apart airbnb great lock easi program multipl code guest etc review collect part promot',\n",
       " 'one best friend told deal knew pass purchas also arcad street fighter children thoroughli enjoy ps far purchas ever inexpens',\n",
       " 'bought gift daughter love stay ear exercis allow hear nois run surpris other come behind sound great happi purchas',\n",
       " 'use daughter car keep entertain daili basi would recommend product someon market look forward use product philip',\n",
       " 'silver metal end piec old one black rememb correctli metal must fit model could forc get tini brief charg bad love price broke order one fitbit assur would fit',\n",
       " 'far good arriv promptli real nice watch',\n",
       " 'bought product lost receipt even month yet power never buy speaker philip',\n",
       " 'cannot get rd camera record store help peac mind',\n",
       " 'unlimit straight talk decid otherwis throttl data hide fine print',\n",
       " 'purchas three stationari camera given two away gift one ptz monitor fairway behind hous plu two starter kit two outlet plug im happi everyth great price excel valu',\n",
       " 'best tv ever own liter tell everyday review collect part promot',\n",
       " 'replac year old tv bedroom like abl get prime youtub etc attach third visio tv',\n",
       " 'horribl white nois aw aw trebl vocal good bass whitenois crackl unbear dont buy',\n",
       " 'good pictur dvd work quit speaker volum kinda low',\n",
       " 'upgrad year old soni tv xbr new xbr g fantast tv may known',\n",
       " 'tv three week love pictur qualiti impecc adjust suit want watch alway like lg tv tv given reason continu like lg bought tv open box save money like new tv receiv',\n",
       " 'love featur design amaz camera die yessss',\n",
       " 'use regularli gym workout go walk realli like problem',\n",
       " 'home button recogn touch id second week need updat make call send messag',\n",
       " 'previou hous wemo switch control ceil fan switch look function perfectli recent purchas wemo switch new hous bedroom ceil fan wonder term function current hous bright white light switch electr outlet wemo switch bit eyesor sure would like see light almond color becom avail near futur',\n",
       " 'got drone christma immedi return fairli simpl control camera qualiti potato app ui horribl return home function send drone place els first flight knew go back would recommend yuneec breez day noth cheap toy breez good starter drone look someth bit profession',\n",
       " 'great phone easi use charg quickli camera beat take beauti crisp clear photo everi light also love water proof featur',\n",
       " 'love watch want someth track hike way cold upstat ny hike gone run gp great also like gener function watch youtub trial error figur everyth much sure even found yet batteri life also great',\n",
       " 'recivi tablet walmart found call verland tablet yr old dose come googl play unabl download googl play tablet wast money time return back store today',\n",
       " 'good sound easi use good radio recept work advertis',\n",
       " 'good',\n",
       " 'pleas product price',\n",
       " 'lock freak awesom easi instal also easi program amazingli easi add remov key code fingerprint fingerprint great friend famili need easi access version wifi come hub easili upgrad want access control anywher world review collect part promot',\n",
       " 'fan jbl bought red jbl e bt excit headphon design impress fit well month earpad easili flake white color insid earpad realli disturb beauti look headphon make uncomfort use long time afraid earpad sensit humid realiz someth wrong bluetooth featur sound output start get wors crack interrupt sometim work well certain music player use vlc sound output good use aimp music player output sound sometim downgrad sometim sound come happen use headphon well sure defect product e bt qualiti realli appreci jbl someon would help fix',\n",
       " 'batteri good',\n",
       " 'one first nest purchas last home move made sure new nest first thing instal live without conveni bought third parent could save energi easi way schedul adjust temperatur would say best market',\n",
       " 'great product',\n",
       " 'remot selfi function work dissapoint',\n",
       " 'came describ wonder system plenti storag fast',\n",
       " 'work well first ad length instead standard big improv month use wire plug ipod end cabl becam inconsist maintain good connect move wire around find posit allow power flow ipad tri differ brand',\n",
       " 'wont connect ear bud connect bluetooth wont sync togeth sonyou get music',\n",
       " 'like enjoy system much compact work well mount flaw see articul connect dvd player littl loos would like see ridg design',\n",
       " 'earbud hurt ear even coupl hour',\n",
       " 'charger app avail chang set see count calori way reset pretti cool take blood pressur bpm tho',\n",
       " 'batteri last mayb hour advertis cant use wifi featur get reliabl notif point wifi featur bare connect wifi time fix wifi featur batteri would good watch',\n",
       " 'work well',\n",
       " 'awesom product work great clear pic love',\n",
       " 'one worst tablet ever own wi fi system extrem low grade constant drop charg port continu issu poorli design system slow memori processor capabl bad overal manufactur big wast money',\n",
       " 'retir design build profession tri stay technolog purchas nest learn tstat sever year ago satisfi abil keep hous cool warm well energi save need anoth thermostat separ home system thermostat e answer need great',\n",
       " 'easi set due step step instruct pictur provid app',\n",
       " 'receiv month ago still learn featur love',\n",
       " 'best camera easili read licens plate feet len night vision pretti good use camera blue iri use intern featur use poe featur seem easi run power network cabl hard wire best way go delay non amcrest camera cut one uptim',\n",
       " 'work great alarm annoy wake clock much use googl assist review collect part promot',\n",
       " 'easi use amaz see movi',\n",
       " 'best money ever spent bring us back childhood abl play nintendo game also purchas month onlin gave us free download favorit game',\n",
       " 'receiv light switch instal review sinc singl switch limit could instal howev abl use walk closet recent remodel bronz color match perfectli room fairli easi instal look modern hope plate switch use room review collect part promot',\n",
       " 'verizon network straight talk price beat',\n",
       " 'alway enjoy secur otterbox give ipad protect best part custom servic though contact custom servic warranti issu respons resolv issu right away alway thought great product realiz great compani',\n",
       " 'bought two ue boom speaker intent pair togeth use one outdoor one indoor pair call doubl ue boom speak one thing compani tout advantag own two speaker first app joke work well second speaker would pair togeth spend quit bit time tri call custom servic bad review custom servic absolut terribl one fellow talk even said well mayb garag door interf interest two ue boom speaker work separ intend got absolut help custom servic husband ask repeatedli speak supervisor someon knew someth product told supervisor busi next day could expect call one far happen send back recommend anyon mani speaker market custom servic everyth today world',\n",
       " 'bought grandson jealou savanna wont let either use want gift money children',\n",
       " 'remov product box simpl assembl camera base plug plug screen work day age electron found devic easier set use',\n",
       " 'well made',\n",
       " 'good action strong motor love backlight keypad definit recommend',\n",
       " 'great tv crystal clear googl assist readi',\n",
       " 'sever attempt follow fitbit suggest fix flex still sync iphon',\n",
       " 'nice unit confus close seem best without keyboard need bag slip keyboard close ipad screen glass keyboard make sens work great',\n",
       " 'got offic speaker sound great basic featur work use recommend put high close corner bounc sound well',\n",
       " 'excel product monitor area outsid front door motion alert cell phone video allow immedi attent whomev door',\n",
       " 'love nc sound qualiti crisp anc definit better qc love convers mode bose artifici pipe ambient audio make seem like wear headphon connect seamless iphon xs max gripe absenc port airplan adapt littl bum pay extra top get adapt',\n",
       " 'glad got nest hello',\n",
       " 'love connect samsung phone control tv instead use remot phone mirror tv great day find remot review collect part promot',\n",
       " 'took time get sync phone figur awesom product great keep oxygen heart rate also sleep tracker nice score sleep work low score would definit recommend product review collect part promot',\n",
       " 'bought wife use flight work love much swear great batteri life sound crisp clear awesom travel case overal satisfi buy iliv soon',\n",
       " 'love roku want larger screen learn paint watch free show like bbc murder mysteri',\n",
       " 'love purchas great overal qualiti price',\n",
       " 'nest hello day receiv mani alert sensit sound help peopl come squeaki gate help delay due slow internet give lot fals alert bird chirp sound video qualiti good instal would easier stucco hole fulli cover nest',\n",
       " 'bought headphon amaz ride bike alot answer call ride everyth sound crystal clear',\n",
       " 'constant sound chang volum differ form entertain netflix sometim anoth channel great pictur',\n",
       " 'use product time year period third time product stop work go contact phillip see help',\n",
       " 'good love easi instal cheaper secur systiem',\n",
       " 'realli like color textur eleg look',\n",
       " 'watch reciev doesnt turn doesnt work',\n",
       " 'aftermarket cabl flimsi best bet buy oem',\n",
       " 'phone arriv great condit work salesman kept word',\n",
       " 'watch day last past p wear start bare use day even charg make work workout agre review slow process bare even use watch tri save batteri life even tell listen review sick worthless technolog much higher expect fossil especi price tag honestli watch even made market poor batteri life',\n",
       " 'tri sync ipod speaker read incorrect number sync test cell phone ipod sync bluetooth differ cell phone speaker buy product',\n",
       " 'phone use great far compar qualiti good mayb make korea issu',\n",
       " 'great item look forward use full potenti review collect part promot',\n",
       " 'purchas due pretti good review featur like gp sleep data cadenc track polar pretti disappoint howev data receiv accur compar metronom verifi cadenc boyfriend run togeth garmin mine measur complet differ distanc speed polar knew sleep garmin idea data skew depend manual bedtim set program app also period time night unread even though wear watch properli',\n",
       " 'bought turnpiec shaft upsid easi fix return review collect part promot',\n",
       " 'gig look work realli nice satisfi even though bought friend gave away',\n",
       " 'bought headphon order studi loud space price tag certainli job nois cancel capabl may abl block loudest sound crank volum disturb outsid nois excel batteri life love bluetooth would definit buy',\n",
       " 'nice equip nice price best secur system price',\n",
       " 'best head phone ever',\n",
       " 'love last hour charger',\n",
       " 'wife love new phone better old phone',\n",
       " 'smart home enthusiast tri bulb saw demo product googl mini integr smoothli control bulb light instruct mini chang color red purpl whatev color desir plan watch movi even instruct mini dim light without everi get seat definit worth give tri appeas lazi side price may shock someon never tri smart home item may worth alexa googl assist etc hous bulb energi effici last long time psa wrote review contest',\n",
       " 'second item purchas one hous first one anoth store work expect complaint malfunct time type unit take start except function well provid clear pictur record materi dvd littl easer use video tape hard find late electronicali challeng wife work well',\n",
       " 'first lock wore year also auto unlock spotti work half time new lock seem build better hope last auto unlock work everi time sound motor turn much louder take peopl surpris know door open close detect nice auto lock unless door fulli close',\n",
       " 'dvd player didnt hold start issu charg month use dvd door doesnt stay shut time either',\n",
       " 'bought month ago easi setup use far like addit code add kid like review collect part promot',\n",
       " 'tv two week amaz start set simpl tv basic set light size vivid pictur fill entir front tv sit feet tv seem right see great compar old one even entertain center direct tv satellit work great even detect direct tv remot auto program realli open box follow screen prompt minut later done realli like new tv review collect part promot',\n",
       " 'got black friday great product love',\n",
       " 'bought right christma love sound great qualiti love waterproof easi take go batteri stay charg long time well',\n",
       " 'phone day serious consid return phone last year droid real happi alway seem get phone late mean next version came within month get new phone elig new phone came thought would give tri seem lot problem touch screen tap icon sever time get select info bar top screen worst instal updat keep get dqa stop work notic com screen tri sever fix found line first one tri seem work start next morn tri wipe cach first time help tri wipe nd time seem fix least last hour half day return get better probabl',\n",
       " 'unit instal previou honeywel thermostat kept turn intermitt turn furnac overh due bad filter thermostat easi instal fantast instruct decid keep ecobe easier use look slick dine room smart phone capabl tremend vacat mode easi set daili schedul love canadian product',\n",
       " 'daughter got one bday yesterday bright bare see screen top light stay lit like second way rais bright',\n",
       " 'pleas tablet great qualiti awesom price',\n",
       " 'watch perfect outdoor enthusiast specif trail runner peopl exercis outdoor tough inform need',\n",
       " 'alway take go famili holiday natur',\n",
       " 'love headphon comfort',\n",
       " 'happi set bright issu day deal breaker videogam look realli great review collect part promot',\n",
       " 'bought gift seem realli like consid buy one',\n",
       " 'system great god war download work',\n",
       " 'rec headphon mail evalu send back sound qualiti excel cours bose nois cancel work excel make car sick hour therefor headphon worth price use nois cancel prone car sick may great',\n",
       " 'love product happi user friendli thermostat keep hous comfort temp home save energi awhil put money may bank account review collect part promot',\n",
       " 'chang past review watch five previou three activ part watch stop work still like time portion chock like junk get today work well decid call garmin surpris awesom woman even told date batteri place watch recommend batteri chang fix problem excel servic look toward upgrad gp activ tracker experi compani',\n",
       " 'want upgrad vivoact reason batteri life abil drop pin rout wore new plu record mile trail sign state mile friend garmin alway within tenth mile vivo mile hike mile huge margin error data fenix provid devic worthless addit batteri hour use chang set may improv batteri life howev leav factori set left underwhelm would love post screen shot data acquir devic format seem allow',\n",
       " 'devic amaz mom still dosent know camera set look bed everi day see uncl fo loud bang bed',\n",
       " 'pro easi transport great sound fast charg con thought product perfect outdoor sound system great hang pool patio anyth outdoor friend famili also great transport around hous instead listen music iphon speaker',\n",
       " 'easi mess screen freez time time screen unrespons time app store work pr work guess get pay',\n",
       " 'work phone',\n",
       " 'code deadbolt year instal front door handl kwikset kit replac door knob deadbolt simpli sub electron deadbolt normal one use normal one one back door like lot wife love toddler twin boy leav earlier pack boy lunch gym cloth coffe etc hard enough without fumbl drop key simpli press button voila fact light night forgot turn porch light especi conveni bought deadbolt sale low use coupon got militari discount valu outstand use energ best batteri expens last recent chang first time way chang instal batteri snap slide cover turn light unnecessari batteri drain featur recommend other possibl look amaz guest compliment look featur buy say someth pretti critic go ahead buy deadbolt hook spend cash anyway might well splurg tini bit upgrad',\n",
       " 'bought use neck one throughout day use similar product lg skullcandi compar found batteri littl weaker size wise qc heavier understand continu nc would take batteri better expect mention review nc good qc qc somewhat understand base design differ one thing notic android app provid accur batteri percentag show die half hour even without much use',\n",
       " 'love jbl alway satisfi listen crisp sound',\n",
       " 'nice simpl small big memori get job done',\n",
       " 'work well complaint highli recommend',\n",
       " 'clear sound realli stay ear well put rubber samsung headphon fit perfect around decent headphon',\n",
       " 'love love white',\n",
       " 'like light wish came camera',\n",
       " 'bought black friday got great deal satisfi good phone price',\n",
       " 'brought coupl week ago happi saw far',\n",
       " 'love new xbox car game zoom across street way like',\n",
       " 'like toy interact appropri recommend age group',\n",
       " 'got today let sit hour warm hous temperatur instal instruct softwar updat make chang moment set everyth work great one thing miss year ago internet player nsz gs remot mous pad key board flip side bring back remot',\n",
       " 'bought phone think lock iphon surpris sent appl version iphon unlock carrier version happier use carrier thank much con headphon broken small price pay iphon got littl',\n",
       " 'star great price fast phone compar phone doubl price',\n",
       " 'love length cabl longer tie outlet',\n",
       " 'excel pictur adjust audio realli good realli worth buy',\n",
       " 'shop compar tv sinc christma last year saw pictur tv sold cleaner crisp pictur tv hundr dollar replac year old samsung smart tv becom outdat glad stay samsung tv app improv eas use amount avail highli recommend tv absolut stun pictur reason price review collect part promot',\n",
       " 'tv gorgeou even day live room lot light sourc minim reflect dark still defin watch movi k uhd blu ray best pictur qualiti live sport look great motion blur ever yet test game alreadi say would highli recommend tv especi price drop',\n",
       " 'simpl set use realli enjoy choic app avail download',\n",
       " 'pleas bought replac digit gb tablet read ebook game seem handl youtub vudu tubi soni crackl',\n",
       " 'entir famili love roku wish done sooner',\n",
       " 'overal nice camera easi instal person use ethernet connect howev appear easi also video pictur crystal clear simpl step actual connect camera phone includ sd card great save video pictur review collect part promot',\n",
       " 'expect screen tilt forward order see screen content also troubl pick signal comcast find guess get pay would return know would hassel',\n",
       " 'good product garmin buy today',\n",
       " 'simpl setup use first time use smart devic home want porch light turn set time low bright save electr everyth want happi purchas kasa app easi simpl use perhap function would nice bulb well made hope last year advertis bulb yellow tone wish whiter abil chang tone',\n",
       " 'great speaker great sound small size excel bass size',\n",
       " 'wore ear bud hour comfort ear pain like wear ear bud wire sound superior',\n",
       " 'care sound good price feel cheap materi bud self hard uncomfort plastic good',\n",
       " 'use product work gym like fit hear aid caus feedback product allow listen music easili remov hear peopl need love choos blue tooth depend mood',\n",
       " 'nice light small great price',\n",
       " 'bought wife bedroom work great',\n",
       " 'first time use akg headphon like light head discomfort whatsoev like sound much bass right nice balanc like far second day sinc use',\n",
       " 'love greta screen great sound love camera video chat bought googl brand one first shock find camera bought lenovo version wow review collect part promot',\n",
       " 'easili worth doubl cost im cheap got great deal compar laptop speaker nice wont get better sound less',\n",
       " 'thought get one would get faster respons sinc see upgrad roku product model howev experi instal day wife feel previou roku instal way faster respons also feel need clear direct line sight remot roku box roku box remot roku problem',\n",
       " 'love design even feel nose nub screen size wish button differ color get go match pikachu stripe work great great price',\n",
       " 'husband week problem far love also bought protect plan time sometim happen',\n",
       " 'told friend thought item would ok sinc refurbish told sinc fix worri work boy wrong got hook play vh tape know sent back factori first place',\n",
       " 'purchas vizio right christma love color clariti pictur screen best tv found led tv price chanc burn screen cover warranti vizio fantast job brand could match price qualiti',\n",
       " 'possibl renam get togeth mini big deal curiou',\n",
       " 'bose issu nois cancel low human voic bass weak connect drop everi half hour tight head know use bluetooth even sound definit impress sound level littl low level set right sinc keep volum time quickli becom loud',\n",
       " 'noth bad say cheap plain offer lot sound option use singl chime bought son get extrem scare alon revert back want sleep bought motiv stay room wake frozen fear middl night hit big red button right head chime bell nightstand hear go straight chose babi monitor cheaper want anyth word babi babi monitor time would constantli hear fan nois end would get annoy amaz run batteri stay late livingroom bell sit move room rang bell alert time love get quickli eas fear',\n",
       " 'say black got blue best advertis slightli upset',\n",
       " 'cord work okay button work enough inconveni return probabl avoid buy futur',\n",
       " 'think consum told internet us requir start game non internet user cant get updat easili therefor game dknt work soon plug howev internet good game great',\n",
       " 'record dubb excel qualiti superb',\n",
       " 'love fast cool alway updat',\n",
       " 'look k player least year alway expens k lg smart tv year wast could buy k player one realli glad got although newer model came right purchas would like late enjoy',\n",
       " 'camera record wow app open app close camera stop record camera record alarm set motion detect',\n",
       " 'tv basic model wifi leg lean tv forward keep mind buy weigh pound good starter tv kitchen tv use work room stream',\n",
       " 'item reciev cool camera well let know anyth around near night vision dope see everyth dark',\n",
       " 'bought wonder there antenna get pick tv channel nice dvd player love easi take around great pictur',\n",
       " 'nice televis howev think pictur qualiti could better good noth write home good review say opinion',\n",
       " 'wonder peopl review product even releas us yet glad opportun purchas cheaper price walmart super excit get love sleek look',\n",
       " 'tv lot featur built alreadi netflix amazon prime hulu app seamless transit review collect part promot',\n",
       " 'system pretti good video qualiti good good expect k also sensit captur motion still get lot fals trigger flip side miss footag captur howev mostli happi system qualiti valu',\n",
       " 'realli rate product analog tv wait hemi rca converta place amazon',\n",
       " 'love fitbit color band need make select though bought mother daughter law',\n",
       " 'love camera got took less minut set includ download app adjust set easi instal configur technolog savvi camera excel pictur qualiti wide angl len perfect easili monitor wide hall entir room connect easili wifi issu drop connect short second delay live feed feel like expect night mode great still realli clear pick realli soft sound probabl want set sensit set pick motion even daughter helium balloon float around home realli impress reliabl high qualiti camera camera make feel much safer go town even leav work day also feel safer night kid room across hous recommend home',\n",
       " 'roku ultra great stream devic great video one thing newer tv need absolut top line premium hdmi cabl abl enjoy benefit new tv without compat problem believ tri sever regular k cabl lot problem noth less gig bandwidth black web premium cabl gig bandwidth monster premium cabl gig bandwidth avail walmart reason price enjoy',\n",
       " 'microphon work call someon make video phone mic work',\n",
       " 'purchas product six month ago never look back care tradit key look integr similar solut condo hoa common area gate lock soon review collect part promot',\n",
       " 'work seller describ husband use usb flash drive port listen favorit music',\n",
       " 'love big love big realli great see someth clear pictuer sound also clear talk love',\n",
       " 'instruct ridicul never abl use',\n",
       " 'never type head phone bulki type like music loud look great bass trebl even full volum even need full volum load love',\n",
       " 'great qualiti product deliv quickli price excel',\n",
       " 'wait year purchas ole tv buydig one place sold target budget hype tv real pictur simpli breathtak',\n",
       " 'alreadi samsung tv hd difer uhd make think ever watch movi theater great ont review collect part promot',\n",
       " 'daughter need new phone price ask told tri walmart reson price glad daugher clue refurbrish phone great physic shape look brand new also work fine complaint',\n",
       " 'replac ipad bought happi arriv promptli without damag thank opportun buy instant save appli expect get mani year use',\n",
       " 'ye star pleasur great sound lightweight cord tangl fold backpack good',\n",
       " 'tri mani fit tracker smart watch return hate everi singl one samsung watch activ perform like want obtrus featur import smart watch purchas first releas love went vacat went swim like mani time water lock mode last time screen stop work appar samsung stand warranti water proof watch come liquid damag thoroughli upset disappoint',\n",
       " 'receiv emat gb quad core tablet android keyboard folio case headphon impress easi set tablet use keyboard nice easi use also like folio case came stand back easi use keyboard magnet tab secur tablet also case metal clip instead elast band keep tablet secur place unlik elast band tend come tablet easili headphon great deliv qualiti sound also came charger cord either plug wall socket charger block car usb port thing found care charg tablet use keyboard plug keyboard charger port easi enough kid use abl add addit gb play game watch video great inexpens tablet kid adult alik would definit recommend famili friend',\n",
       " 'activ creat even measur save activ accuraci middl high intens workout heart rate say thing like sleep factor stress measur return work crossfit',\n",
       " 'muy buena calidad de imagen excelent producto muy buena televisi n',\n",
       " 'final got pre order harmonaudio say blown away loud power speaker done keep guy alway buy jbl',\n",
       " 'love crusher would like anoth color plan launch new crusher color mayb red',\n",
       " 'break within first day junk',\n",
       " 'keep work hour function work never burn calori day pretti much useless',\n",
       " 'signific purchas camera home break addit home secur camera arriv happili surpris qualiti durabl camera camera came necessari equip clear instruct instal use instal happili surpris qualiti pictur night vision motion detect great qualiti price',\n",
       " 'incred pictur depth color contrast make look almost said worth profession calibr get right',\n",
       " 'bought say masterpiec realli light size speaker great carri around light beauti bright love mani customis make colour importantli sound speaker clear sound almost better power beat bass amaz love bass decid bose soundlink mini listen second set mesmeris sound awesom would recommend everyon',\n",
       " 'samsung excel model die month ago replac though seem much bigger size prior tv actual notic differ probabl stand taller like qualiti far pictur much better actual prefer older model wish samsung stop produc model faaaaaaaaar advanc tv remot tv remot inch model feel archaic current tv compani remot similar use mous like projector remot samsung model samsung model featur plu voic control made much easier type text screen futur happen sale price got good deal would regular higher price product averag realli wish old samsung led model still work miss whatev happen know make tv last like iphon year smh',\n",
       " 'lenovo smart clock weird littl devic also exactli look less function echo dot googl home hub attract featur bedroom moreso clock smart devic seen fairli small enabl view calendar event see weather addit custom clock face easili listen music touch control bed spare spec detail notabl though gb ram gb storag crazi even simplest devic seem pack expect lenovo good job video know yet perfect devic clock msrp dollar devic compet googl nest hub far featur also happen howev could look past would even pay newer rendit devic follow featur could implement order import darker screen screen good enough view angl color devic capabl reach black level impercept true black like home hub actual make somewhat difficult see white clockfac night said still get pretti dang dark affect sleep better speaker built woofer great get pretti loud lot trebl enough bass small devic accuraci lack say sound step laptop speaker comparison nest mini home hub blow away podcast radio work great snob could listen music devic alon lenovo could even put extern jack fine sure googl would allow consid chromecast audio demis rip ambient light sensor picki nest hub color temperatur sensor make feel like truli polish devic go back well bought clock hard reconcil one gimmick would pay extra robust light control necessarili chang color mayb dim idk time wish yell googl make bedroom dim red around though realli like devic think peopl would enjoy heck girlfriend think cute say howev fall categori peopl would rather pay perfect devic settl someth cheaper less sophist reason give review collect part promot',\n",
       " 'earpod simpli work',\n",
       " 'product great easi use setup right inform sleek packag',\n",
       " 'bought christma present love featur',\n",
       " 'display hard see angl keyboard work nice kind extran unless write lot email lot social media post keyboard money could gone toward better display batteri life short return item',\n",
       " 'satisfi third ruku express purchas',\n",
       " 'product work appl phone part also cheapli made',\n",
       " 'love',\n",
       " 'lightweight easi use sound great bought white camo version serious killer let put way work buddi super jelli clip',\n",
       " 'conveni factor major plu program work googl home plu app allow control anywher',\n",
       " 'set week ago alreadi love easi use great featur',\n",
       " 'need tv built dvd player could use workout video one good price combo plu screw came base actual fit leav base wobbl sound muffl tinni sound return use tv suffic good price combo set',\n",
       " 'bought year old twin got differ color protector seem work well drop lot great price love fact set parent control good buy',\n",
       " 'order phone walmart com final got home got activ part ladi straight talk custom servic say phone incompat zip code live zip code probabl even salin counti illinoi probabl compat area big disappoint purchas return refund',\n",
       " 'recent purchas product realli disappoint product connect samsung use headphon suddenli disconnect nois come use phone go return product ask refund recommend product anyon worth money',\n",
       " 'grandson go happi kid candi store',\n",
       " 'product easi use instil like give comfort know lock anywher time associ wrote part review event',\n",
       " 'easi use featur qualiti sound color best valu qualiti brand name samsung tv samsung televis best outlast rest review collect part promot',\n",
       " 'love new ipad fast even easier use old ipad lot use touch id cours speed much faster old one sure want would encourag make move buy new one',\n",
       " 'unit rather easi set exactli hope would',\n",
       " 'far instal nightmar may send back easi set download pc tool mobil phone app android io instal upgrad firmwar link download zip file work pc download phone email extract open pc two file run first ran ok second one time creat account regist product open ticket get support phone support know mani day may take profession year dummi come instal hardwar softwar',\n",
       " 'two pack awesom order around thanksgiv great stock stuffer adult kid love',\n",
       " 'sure browser wish could find one still larg devic',\n",
       " 'month regular use swivel broke side',\n",
       " 'bulb work great like regular bulb get tell googl turn significantli cheaper bulb hub easi set',\n",
       " 'work connect internet reall disappoint return',\n",
       " 'tv replac old plasma tv love univers remot control comcast appl tv stream servic review collect part promot',\n",
       " 'love portabl dvd player receiv pack slip return play blue ray',\n",
       " 'roku sinc januari th love scale back expens home year time cabl close proxim citi get major network access cabl entertain roku let us choos want minim fee happi tv option',\n",
       " 'fast simpl set dont get easier work perfectli everytm access great product',\n",
       " 'took less time get awesom',\n",
       " 'realli like daughter speaker like bought one sound great',\n",
       " 'nice phone work great batteri life realli good camera realli good',\n",
       " 'sturdi case color true onlin pic',\n",
       " 'rca cambio gb tablet window gb ram includ keyboard charcoal look great compack bought item grandson christma think realli enjoy also bought tb sandisk provid extra storag',\n",
       " 'great sturdi band low price definit reccomend look exactli like pictur',\n",
       " 'love durabl go everywher eas mine year still go strong great sound qualiti afford price well noth compar qualiti panason thank',\n",
       " 'use siri appl product megaboom compat tap bluetooth button sound let forget sound amaz',\n",
       " 'samsung creat beauti tv date technolog decid cut cord three year ago look back q took step forward remov box need stream live tv eas use qualiti pictur sound world review collect part promot',\n",
       " 'product cane time manner also screen protector case back scratch anyth',\n",
       " 'great packag deal everi seller price higher site store ship faster expect',\n",
       " 'receiv check everyth instal less minut qualiti pictur great unit give imag front door back door well shop side old advertis said easi even cave man',\n",
       " 'indoor nest camera set monitor safeti elderli rel away home given peac mind like notif featur nest cam servic offer abil talk elderli rel need highli recommend nest indoor camera mean secur home peac mind well away',\n",
       " 'would connect wi fi hotspot connect unsecur wifi sent back',\n",
       " 'use work pleasant use make time fli',\n",
       " 'recent found success purchas bundl search everi walmart store see stock bundl came everyth advertis includ ps call duti infinit warfar problem set playstat system play tv laptop eas',\n",
       " 'consid excel price inch feel tv excel pictur bright clear color downfal optic connect therefor could use sound bar find sound adequ without question connect phone number manuel anywher els contact',\n",
       " 'work great loud enough work someth still hear',\n",
       " 'two surround sound bed use samsung tablet hardli bass job u need someth talk asleep also pair jbl flip much better bass',\n",
       " 'hole line work good landscap mode last ipad case littl flap help keep close good case',\n",
       " 'purchas walmart love pictur beauti see pup im away',\n",
       " 'number one thing stand earbud fact link togeth util one work typic one earbud hear co worker work like earbud also great happen lose one still function use mine iphon se',\n",
       " 'sent product charg review honest feedback receiv sylvania smart br color led light bulb quit sure best place instal home make sure got proper test notic constantli go upstair year old never shut hall light outsid room instal ad app within five minut problem solv kid love use ipad chang color light make almost like disco ball honestli surpris number color name could say activ light think celadon cornflow etc readi buy bulb everi room home save electr well turn town come home late safeti much easier would highli recommend product anyon want light option control mobil devic review collect part promot',\n",
       " 'unit work great monitor home set fast easi',\n",
       " 'got love fit sound length time stay charg',\n",
       " 'took forev get reciev found work carrier even though say unlock send back',\n",
       " 'excel product deliv ahead schedul',\n",
       " 'product work great love lightup eye power mode remot awesom big potc fan wife got den area room bigger thought paintwork detail amaz',\n",
       " 'bought week ago enjoy parti box best',\n",
       " 'tv great valu pictur qualiti fantast featur nice perform get price rang make excel valu review collect part promot',\n",
       " 'great tech wait get return one fatal flaw took minut load show camera everyth els great work like charm except set icon slide finger bottom give option chang anyth pretti annoy everyth done phone tablet realli good sound speaker want love readi prime time',\n",
       " 'far best tv ever purchas easi use price good pictur qualiti fantast',\n",
       " 'samsung galaxi amaz becau new featur last phone slow batteri bad still work import air emoji one hand mode grate power sound qualiti whole thing better samsung life',\n",
       " 'buy reason rate one star option give star bought two grandson birthday use time one blue screen line one sound problem kid love fact paw patrol tri return replac allow big wast money two disappoint littl boy spent dollar neither one work gave us three week return',\n",
       " 'glad instal lock featur cost better mani other heavi weight hold coastal condit salt air easi program work well flat front without flip latch appeal old one alway way dimens fit door frame',\n",
       " 'came quick new like got appl store',\n",
       " 'packag perfectli setup enjoy tv minut great pictur easi use would recommend friend',\n",
       " 'pleas buy within minut play flew away',\n",
       " 'outstand devic',\n",
       " 'best sound earbud ever own fit ear better ever sound amaz',\n",
       " 'realli everyth need set nice home secur system camera comput unit mous camera mount screw etc glad bought seem good qualiti',\n",
       " 'pleas far purchas use day far work great',\n",
       " 'bought halo edit sinc halo fan consol small cool control feel actual better previo version interfac look cool everyth organ k video awesom came xbox live gold day card halo disc halo master chief digit game consol look cool entertain center halo fan shut get get anyway disappoint awesom consol',\n",
       " 'love phone got rose gold color beauti littl heavi like realli nice featur strongli recommend phone want someth easi use get hang',\n",
       " 'love definit worth buy batteri life suck last day wear suggest alway charger',\n",
       " 'love walki talki featur work even iwatch seri',\n",
       " 'appl user best wireless earbud ever exist appl need take note samsung win time',\n",
       " 'live along atlant coast humid florida sea spray salti humid murder metal move front door hardwar look like someth dredg bottom ocean new kwikset smartcod deadbolt offer four advantag first finish pretti tough clean well bronz hardwar accent stain glass door second smartcod deadbolt mean risk lose key beach sand ocean swim third away alarm goe phone key code polic neighbor enter properti investig mitig final simpli kwikset key reset use key kwikset door',\n",
       " 'went first run morn new earbud coupl mile sound kept get turn way screen continu get turn seem like inlin mic control caus use piec move touch someth listen googl play music screen flip back forth volum steadili drop mute seem overli sensit like otherwis make unus',\n",
       " 'item cheapli made flimsi plastic talk toy look cheap tablet',\n",
       " 'research product would allow display inform monitor foyer busi roku player allow well stream variou program need extrem easi instal',\n",
       " 'bought last week pleas clear pictur',\n",
       " 'two month look forward monthli updat show movi',\n",
       " 'want buy tablet would want phone got tablet bare hold thing one hand batteri life great cannot remov swap known would chose someth els dont plan transfer data phone activ hr right box phone decid auto updat minut app want updat well pleasant experi compar past lg phone',\n",
       " 'could give headphon star would charg wireless option last long headphon week sound start get distort save invest someth qualiti go back trusti soni pair soni headphon year lost',\n",
       " 'tablet case good qualiti case price realli cannot beat sturdi great qualiti shipment arriv day due great highli recommnend case',\n",
       " 'everyth great item except fact tune fm radio easi station keep get reset issu peopl function rare use',\n",
       " 'stay head could shake head like crazi still stay haha nice pack waterproof like bag packag came fulli charg howev slight crack disconnect like problem pocket waist pack sound sound hallow like love loud bright side volum work unlik wireless earbud work like volum im sure want wireless beat know arent waterproof im conecrn expens expect stay loos connect crackl short rang smh crack disconnect problem earbud better earbud tho time tell rememb earbud problem shrug',\n",
       " 'instinct blow appl watch away get text phone call alert countdown timer actual compass accur gp track nearli week batteri life charg especi great mountain bike park bike behind tree hike anchor backtrack use gp track back featur exact spot hidden bike mani great featur yet use perfect watch trail explor love',\n",
       " 'still need pay membership good product',\n",
       " 'bought lock year ago unfortun keypad stop work kwikset kwik send replac without much difficulti reason purchas lock kid would leav side door unlock time would realiz day later pose secur risk instead argu daughter decid purchas lock autolock second ad zwave featur receiv notif door lock unlock way check door later see door fact close left ajar plan put door closur got around yet asid keypad function product work flawlessli happi review collect part promot',\n",
       " 'best headphon current bose earbud beat ear headphon use trekz other due function abl carri convers someon ot take turn game changer plu sound great',\n",
       " 'receiv product review air hog wow fun toy super simpl use littl set open drop batteri charg base charg readi fli downsid hold charg aprox min play need anoth charg realli fun toy age',\n",
       " 'bought one year ago coolest speaker ever use sound bass mesn perfect',\n",
       " 'need pack charg cabl new plu phone work great need car',\n",
       " 'sound awesom block sound well great',\n",
       " 'great littl speaker price glow light awesom howev custom whole thing made metal sturdi feel sound great would definit recommend',\n",
       " 'great unit look professionl great sound great sound nois cancel work well find still bit tight head iwear glss everi hour ihav take bit',\n",
       " 'whenev buy larg electron onlin someth cr p shoot price set size crazi good littl investig purchas discov set built licens built curti tv renown usa televis set builder back day cathoid ray tv pictur great speaker decent control audio video may bit simplist electron connoisseur adequ set function quit well default set purchas year warranti get good year set upgrad inch inch model besid allow enough time price significantli drop larger model',\n",
       " 'dual system unit instal use ecobe app guid instal clear easi setup schedul set also easi use unit littl month mostli good thing note program schedul say heat turn hour temp set point annoy wake furnac fan turn would prefer set determin fix time heat turn issu iphon app loos connect thermostat due problem ecobe server hope get wors peopl add devic gener happi way work valu money would recommend',\n",
       " 'connect wi fi year old save christma money birthday money get tablet',\n",
       " 'bought parent work fine tracker screen os feel outdat compar samsung fitbiut accuraci batteri life ok',\n",
       " 'didnt work broken unabl return smh',\n",
       " 'easi use set love fact came screen protector case clear great price great product',\n",
       " 'thoroughli surpris price k uhd smart tv great pictur qualiti color afford compar tv brand esp also thrill work googl home amazon alexa year also get appl airplay updat alreadi use alexa turn tv time excit stream video show friend photo etc directli iphon tv featur roll show vizio truli bring best technolog everi day peopl good price respect love v seri',\n",
       " 'lightweight far open christma present far good',\n",
       " 'boom box fairli good sound well built love red color',\n",
       " 'pleas arlo secur camera system last five six year home rob twice time away vacat none possess ever recov sinc way identifi robber hope frankli never rob least abl identifi love fact system total wireless mean instal three camera anywher kind versatil help hous quit larg set camera anywher need order cover much possibl set beyond simpl take control station plug includ ethernet cabl back station back router connect power cord plug wait two minut connect green light come pair camera control panel push sync button panel sync button camera light stop blink done sync camera one time sync three three camera camera amaz high def wireless motion activ night vision record even night low light area set account onlin download app use smart phone speak app smart phone websit easi use use set alert sent email whenev motion detector trigger believ app text alert option camera schedul turn motion detector certain hour also adjust sensit video qualiti balanc higher qualiti vs longer batteri life site also allow watch camera real time view video taken motion trigger record download delet part found challeng posit camera first set insid aim door soon realiz cloud storag would full video walk around howev glad start good start decid put one camera vacat appear vulner end mount outsid cover entranc featur mani bottom line great good solut home secur without wire highli recommend product',\n",
       " 'color nice keyboard work well size tablet nice batteri life truli horribl download surf web get mayb min charg hope get better time batteri read ebook play game purpos guess see',\n",
       " 'receiv free tri bzzagent air hog must admit got hang vectron wave cool take practic get gentli hover hand take lot fli learn react think indoor use batteri charg last long enough get good play time could longer great gift kid quit old enough complic remot control gadget yet son think fun love see high get gentli come inch hand glide back would purchas',\n",
       " 'ask better deal mention complimentari protector case watch work perfectli',\n",
       " 'nice easi configur wi fi good buy',\n",
       " 'bought portabl dvd player daughter drove mile florida went hook found strap strang go around front dvd player criss cross around headrest well task requir peopl velcro strap overlap pull hard drive want chang dvd strap cover front dvd player top pop chang dvd complet take system take monitor strap chang dvd tri find someon help reattach one seen past strap attach back monitor goe horizont around headrest difficult realiz cumbersom would would return got one one strap color qualiti good monitor headphon volum whole way hard hear horribl design strap extrem non function',\n",
       " 'love devic lenovo made best googl home display devic great screen speaker',\n",
       " 'love work great happier',\n",
       " 'love ipad would recommend anyon',\n",
       " 'got watch black friday love exactli look batteri last day recharg quick vari think depend watch give buzz remind min hour gotten step hour great option track workout connect digit scale myfitnessp',\n",
       " 'bought use work unfortun still hear cowork convers headphon also often get confus connect phone laptop believ caus sound cut clear differ without nois cancel enough opinion also expens headphon even come charg cabl',\n",
       " 'easi instal qualiti part great warranti like carri key',\n",
       " 'work expect great pictur sound disadvantag easi hit wrong ring circl button',\n",
       " 'galaxi edg definit best phone love upgrad love batteri love everyth galaxi far best',\n",
       " 'love new nest hous comfi energi save pay highli recommend monthli report via e mail tell energi love',\n",
       " 'one best thing ever purchas put calm music internet radio get best night sleep',\n",
       " 'great set pictur crisp clear also great function pair roku app phone turn remot voic capabl like x xfiniti remot setup breez let adjust set fli price beat tv would recommend anyon',\n",
       " 'own differ ipad case far best love soft touch slightli rais key pop case sturdi strong protect without heavi ipad fit like glove bought long time ago',\n",
       " 'two week begun stop middl word leg stick end pay board made extend beyond widest tabl unstabl',\n",
       " 'use roku month love one problem',\n",
       " 'arriv expect easi set nice pictur',\n",
       " 'player awesom sound beauti pictur howev play movi hold load dock door close hand needless say go back tomorrow',\n",
       " 'bought wifi hub b b one connect front door work great howev three connect room alway loos signal within feett wifi antenna less feet door lock still go room program keypad guest hub connect',\n",
       " 'good product price right',\n",
       " 'valu bluetooth speaker',\n",
       " 'tri own mani headphon ath x bl best sound best look listen music sinc hi fi year old enjoy portabl music ipod smart phone x bring best devic hook simpl cd player bring music listen new level record kiss bottom paul mccartney along diana krall band wore ath listen album x felt capit studio thank audio technica great product made old man happi',\n",
       " 'instal front door longer fumbl key hold groceri packag handl open one finger instead whole hand turn knob much faster imposs lock great product',\n",
       " 'hvac tech friend help instal month ago impress',\n",
       " 'bought year ago one one kid time fastest tablet price well worth year still work perfectli one dead though youngest child lack care product manag break month ago thing get daili use school work bing watch show email skype youtub smaller game gener web surf system intens game play hearthston choppi playabl daughter play minecraft cheap tablet work perfectli small task use kitchen worri food get inexpens use bing watch tv paint work shop fear ruin amaz road trip expans card must hold like movi max keyboard case cheap plastic far held design pretti cool bottom line look decent tablet budget everyday use great option devic last year much use great deal',\n",
       " 'five year old month old sinc five year old spec case ipad replac month old final chew arm tablet month old purchas two guy hesit know withhold destruct natur boy never better tablet case',\n",
       " 'week purchas start make aw background nois like old radio connect properli bluetooth cabl wonder unit buyer experi problem',\n",
       " 'tv great entri level tv categori game look amaz tv market qled tv budget definit way go review collect part promot',\n",
       " 'need ipad perfect gift access ton book music video look sound amaz accessori pack came lot great thing offer highli recommend mani peopl sinc upgrad gb ipad beauti',\n",
       " 'receiv everyth describ equip look perform like new pleas look perform',\n",
       " 'work advertis great kid',\n",
       " 'absolut love tv one use live room great pictur awesom hd',\n",
       " 'great phone score better samsung galaxi tango featur awesom need tango app',\n",
       " 'work realli want one built tuner settl one dub vh tape disc',\n",
       " 'use thermostat month love look beauti new glass front nice upgrad previou gener new softwar save even money alexa integr realli cool definit recommend give thermostat tri',\n",
       " 'compar major carrier rather inexpens way go phone servic problem area servic spotti use phone gp trip tx back sc problem use much data allot normal speed',\n",
       " 'speedi super thin screen resolut everyth perfect',\n",
       " 'love item hate wait almost week get due ship error',\n",
       " 'hello first time garmin user assur homework research smart watch garmin pro specif need best world want smart watch help track step calori monitor sleep daili activ plu workout want one lookedbulki sporti garmin v vomov hr track thing interest got rubber band still look great everyday casual look set app easi like everi new gadget take time get acquaint widget batteri life true day notif hope review help',\n",
       " 'week broke would never buy one best product offer busi',\n",
       " 'purchas print manual come watch poor onlin somewhat better still clear navig watch function non intuit sever step still tri figur instruct find overal bit underwhelm expect garmin product',\n",
       " 'never got chanc even set tablet befir screen start flicker reboot time alway result worth time took order save money',\n",
       " 'upgrad lg tv definit worth money thing dont like tv doesnt fit tv stand anymor',\n",
       " 'return product order ring doorbel arriv without batteri pack second facepl item includ per attach descript websit item list item includ box outsid box call custom servic number got zero custom servic spoke joseph vernel bernel call initi approxim pm est told return item back possess would send replac send promis wait get back send replac alreadi money sound like highway robberi birthday present wife extrem disappoint present birthday ps also notic circular factori seal tape box alreadi cut remnant sticker box make believ sent refurbish unit paid noth websit indic new unit',\n",
       " 'remot design someon care much finger press play paus chapter skip',\n",
       " 'bought replac outdat thermostat remodel home reason bought abil creat schedul previous own anoth brand thermostat allow defin schedul much limit function impress temperatur data schedul usag inform provid',\n",
       " 'first introduct steve job world purchas ipad ipad thin lightweight use pick bundl deal walmart onlin offer complet satisfi free ship site store price walmart came thru recommend offer friend score great offer',\n",
       " 'earbud realli great pair instantli iphon work well sound clear bass good fit comfort fall even work batteri last long time use right box hour charg use daili sinc get work great super happi purchas',\n",
       " 'realli easi use light weight beauti pictur qualiti',\n",
       " 'huge fossil lover previou version offer pleas note watch face smaller smalll compar older model one star less overal cute better batteri life pleas note anoth differ charg cord fossil best custom servic line great warranti',\n",
       " 'good price easi love famili happi enjoy togeth',\n",
       " 'love tv awesom featur need extra pictur qualiti amaz review collect part promot',\n",
       " 'bought year old samsung tablet year still good thought time new one tablet aw stop freez kept turn took right back buy tablet pay littl want someth last',\n",
       " 'bought tablet month ago love never issu run smoothli downsid wish one speark top way landscap could get true stero sound',\n",
       " 'forerunn music second garmin watch forerunn major upgrad worth especi got discount compani forerunn forerunn came time lot compar includ featur size watch end get forerunn need watch run everi day train marathon occasion use cycl job cours also featur even want wear big watch everi day run comput almost hour day need lightweight watch wrist free feel compar money big concern use month love watch howev found sometim turn watch go run otherwis spotifi music app work sound bluetooth headphon heart monitor work know watch issu deal annoy process turn watch everi day give five star review way one thing want mention garmin express work well everi time use plug plug connect usb cabl five six time make connect work start use sync featur use wifi connect pull data garmin connect',\n",
       " 'love gold colorway amaz person phone like thing would like better selfi cam front side amaz pleas purchas good job samsung',\n",
       " 'cannot see dashboard open garmin connect pc',\n",
       " 'product pretti good replac brava reason star quasi instruct manual quick start guid whoever put togeth idea fire worst manual ever seen tech guy engin fro last year continu simpl explan button setup still know infin button advanc button function foreign languag interpret far outweigh english veteran audio field use jbl product sinc beginn rethink guid pleas',\n",
       " 'bought nano cell tv specif size qualiti best qualiti want pay anoth deeper black overal tv nuanc definit good mid rang tv honest touch samsung q work',\n",
       " 'great cabl price length exact fit oem appl work biggest disappoint cabl connect near pin plug week see separ cabl plug still work care pull disconnect pad',\n",
       " 'happi item gift sound light perfect combin clock radio bd adapt audiobook music phone use speaker control phone',\n",
       " 'month even put phone back pocket disconnect even pocket break phone liter hand work alway use master bud right side point wireless hold phone',\n",
       " 'say devic look great expens garmin never test peopl darker skin ohr work pick hr vivosmart v voactiv music work fine typic garmin style make pay custom beta tester',\n",
       " 'well kinda heavi tri put tv mount self omg video game play blow mind away add surround sound make sure watch war movi poof action mayb id run screen must buy mayb wait till goe sale money money money review collect part promot',\n",
       " 'receiv tv tri work sam club com get anoth one',\n",
       " 'accur advertis display light',\n",
       " 'watch sinc came never issu gp pretti accur use mostli run batteri life complaint almost charg daili everi day get lot use watch overal would recommend',\n",
       " 'return model defect second day view sound stop pictur start continu blink reset condit start box back return purchas un nu appar made walmart work quit well see long one last',\n",
       " 'great watch love gp servic especi im run',\n",
       " 'purchas e iphon year skeptic switch low cost phone alway mindset pay better know case come phone phone awesom work great everyth need fraction cost previou phone extrem satisfi product would highli recommend anyon knew suppos grade could good give e tri think surpris',\n",
       " 'love pk portabl bluetooth speaker system meridian audio dual tweeter easi set work great sound good qualiti light perfect addit system take us camp beach recommend product other review collect part promot',\n",
       " 'love got mine day ago didnt take long come work charg perfectli',\n",
       " 'got first pair push wireless earbud week research option gener fan skulllcandi headphon final decid spend get newest product disappoint sound awesom easi pair super comfort realli nice bass block nois well let hope charg batteri life etc equal great super psych purchas',\n",
       " 'bought speaker two week ago great sound great materi design total blown away sound use tidal stream music sound great hifi',\n",
       " 'like tv absolut noth wrong pictur take littl bit get use still k part knew bought disagre review indic tv sound loud enough bose sound bar hook still turn sound turn halfway',\n",
       " 'gift year old grandson love miss play w sinc got last week',\n",
       " 'order granddaught use long car trip work great love play good sound loud enough without headphon',\n",
       " 'slow',\n",
       " 'love play game hour arthriti hurt',\n",
       " 'add memori expans slot ad gb wireless mous great shape would recommend good earbud use also netflix enjoy cambio problem free great purchas',\n",
       " 'own pair quit disappoint recent pair bought last day exactli sound intermitt come one side short locat somewher jack use listen daili commut train hope least get year',\n",
       " 'return refund difficult instal blew fuse car one work one would',\n",
       " 'great use disc get scratch misplac easi get game take advantag sale easi peasi work like charm',\n",
       " 'purchas one instead mm gp one mm gp order cancel walmart item sold later fine refurbish appl honest still want mm gp appl watch',\n",
       " 'phone good bateri time bright light turn slide top screen slide finger left screen show flashlight fm radio look satisfi phone highli recommend phone',\n",
       " 'would prefer physic copi game joycon color carri case fantast look',\n",
       " 'love camera love keep eye dog away',\n",
       " 'abl get onlin realli good price nice way around vibrant color',\n",
       " 'wow sound thing amaz besid uniqu design amaz light show pack lot bass premium qualiti sound take babi anywher peopl give compliment rang bad boy trust consid buy one definitley wan think twice regret thank jbl review collect part promot',\n",
       " 'product two month thrill make bing view real joy',\n",
       " 'purchas think pictur would slightli samsung will give featur one enabl live tv rewind wow pictur bad think watch video protect screen come screen new electron could get good crisp pictur matter set next complaint scale non k video good either took set back instead purchas samsung cost oh differ super clear pic vibrant color qn q fnafxza own dollar soni awesom pic went bad could handl inferior pictur first k tv fine gotten use awesom pictur qualiti',\n",
       " 'want home secur system could never find one afford felt need degre instal nest best world afford easi instal pick motion sound clear pictur overbear take much space love abl see go home away eas control',\n",
       " 'sharp pictur easi set intuit menu easi connect excel valu review collect part promot',\n",
       " 'imag jiggl pan',\n",
       " 'super happi product sleek great batteri life size perform well forget cheap speaker buy someth worth way sell perfect sound engin size go compar product think find anyth better especi price way think get one',\n",
       " 'beauti color clariti best part eas set automat set work satellit remot love',\n",
       " 'first tv bought last year replac ex br one got great price happi pull trigger great qualiti great compani well good custom servic review collect part promot',\n",
       " 'own bose nois cancel headphon sound good previou one microphon captur lot background nois also earphon seem app window dell laptop',\n",
       " 'sound great end husband said weird feedback use microphon',\n",
       " 'easi instal setup even senior like wish way buy accessori without go compani websit expens time consum',\n",
       " 'love sound featur promis actual bought daughter birthday love next purchas one',\n",
       " 'exactli want button line perfectli want cover worri want throw purs glass protect care plum color nice noth neg say would highli recommend case',\n",
       " 'love new iphon problem howev purchas start activ got lock call number onlin attgophon talk someon show proof receipt got email hour later unlock look cut phone bill best way go everyth iphon well small monthli bill versu bill went sprint contract happi phone buy mother boyfriend line use pay one line',\n",
       " 'overal like speaker drawback much volum max volum sound drop split second everi second keep turn littl max think mayb amp get overh max volum still price pretti well satisfi',\n",
       " 'real happi got tv els say twist arm get samsung',\n",
       " 'phone receiv still lock even though list unlock return sent back track packag arriv seller heard anyth paid phone still abl use',\n",
       " 'understand refurbish howev corner chip freez consist good return get money back worth',\n",
       " 'bought camera confirm show us steal us caught babysitt housekeep first day shock took minut left hous start steal money food sat live horror watch wait polic meet us let us know caught video shock think',\n",
       " 'got earbud christma perfect easi connect great qualiti',\n",
       " 'like cord thin hope hold',\n",
       " 'replac clamshel phone one big upgrad us need emerg road hi tech need month ring function stop complet took walmart work tracfon reset work fine said need reset everi two year sound pretti lame take',\n",
       " 'got ipad gift husband daughter past weekend sinc got saturday put amaz love easi set begin use look forward use colleg take note',\n",
       " 'great headphon start cord beat year ago got christma year nice sound conveni hand free',\n",
       " 'worst support dept ever worst buy experi suggest camera system tri revo',\n",
       " 'well made unlik clasp fall problem cannot chang band like white allig band also like varieti',\n",
       " 'parent almost yr old month old need someth van keep occupi famli live min away yr old w terribl two scream hyster read review like one bought best buy ever hear peep either child watch educ movi work peopl review said hard chang dvd slide strap hold headrest chang movi dont need unstrap entir thing go bump knock mess movi excel product excel price far best review one one cheapest highli recommend even famili member go buy great',\n",
       " 'phone hour impress thought would get featur like much expens phone tracfon custom mani year usual got cheapest free phone time want tech got explor app want smart phone technolog great featur get phone camera took pictur room light pictur turn plu featur turn say chees take auto',\n",
       " 'overal realli disappoint purchas fitbit alta hr prior love replac batteri stop hold charg list issu screen purpl like shown pictur text white way chang littl fals advertis start biggest issu one alta could chang order thing show screen remov one desir see longer possibl upgrad becom tediou see everyth scroll step b heart rate c rest heart rate calori burn e activ minut f mile travel g day exercis exercis tracker h sleep water consum j weight loss gain screen super sensit instead semi hard doubl tap one gentl tap light even though button side wake vertic clock face mani chose charg cabl probabl inch long hold magnet gentli dangl cord long enough set anywher one thing like turn notif directli fitbit instead use app phone minut medit nice littl extra well otherwis go chang brand one give',\n",
       " 'camera nice design rug compact video qualiti much better previou home monitor system degre visibl plu problem connect remot would like see option view comput record onto phone',\n",
       " 'find attempt fit headphon place keep place difficult frequent frustrat flexibl plastic loop ear look superfici like good idea realiti plastic flexibl enough shape rigid enough hold earphon place addit run cycl batteri control unit hang right earpiec bounc one neck possibl cheek lean forward cycl eventu dislodg ear piec previou jlab bluetooth earphon own batteri control unit built right earpiec great right manag step shame jlab longer offer type headphon',\n",
       " 'bought husband go outsid turn christma light cold outsid late pj last thing want go outsid turn light work like charm stood window insid hous click button light went',\n",
       " 'word use phone awesom batteri life amaz camera qualiti amaz overal great phone one best ever own',\n",
       " 'gift law howev own anoth vizio request one gift idea love',\n",
       " 'bought kitchen great pictur perfect fit plug roku stick work perfectli great price also review collect part promot',\n",
       " 'first electron product purchas work straight box',\n",
       " 'bought grandchildren work great',\n",
       " 'purchas phone yet though look comment review less like',\n",
       " 'overal like regular bud headphon stay ear great continu fall ear hook headphon appeal continu go say continu repeatedli sinc last long never particularli paid attent long last eventu begin cut use listen music gym sure ever last whole year usual wiggl wire music cut seem faint may may resum normal sound eventu becom annoy sound constantli cut buy new pair suppos biggest hesit expens headphon might get old probabl go anoth brand soon',\n",
       " 'overal like regular bud headphon stay ear great continu fall ear hook headphon appeal continu go say continu repeatedli sinc last long never particularli paid attent long last eventu begin cut use listen music gym sure ever last whole year usual wiggl wire music cut seem faint may may resum normal sound eventu becom annoy sound constantli cut buy new pair suppos biggest hesit expens headphon might get old probabl go anoth brand soon',\n",
       " 'got hubbi realli featur better mine much expens phone fantast price',\n",
       " 'non appl cord work past day iphon recogn fake allow charg phone',\n",
       " 'receiv wire free ear bud tri yet seem like work fine',\n",
       " 'drop ipad soon got realli appreci peac mind otterbox give especi young granddaught carri ipad around read drop ipad sinc initi time drop iphon numer time otterbox alway protect',\n",
       " 'bought origin pair comput realiz could control honeywel thermostat smartth secur home autom system amaz',\n",
       " 'pro simpl download softwar phone review stat con troubl bluetooth connect phone initi thought price need',\n",
       " 'great light provid level bright desir deliv promis instant bright',\n",
       " 'daughter chose birthday spent money less hour light use one propel stop spin rough lightli bump thing expect bit durabl',\n",
       " 'say hour play time abl get around batteri need recharg',\n",
       " 'purchas daughter keep move love app reward move',\n",
       " 'cut tea know better one market research peopl',\n",
       " 'camera easi instal work great love fact talk sound alarm loud would definit deter thief moreov app well design work amaz video qualiti clear like record zoom satisfi camera definit recommend worth everi penni review collect part promot',\n",
       " 'bought refurbish camera other budget pleas purchas item work great job night mode awesom featur includ price would recommend product price',\n",
       " 'work fine want know cloud work question unit save activ cell without cloud understand advantag pay cloud',\n",
       " 'want pull wall abl read get back lit version one extrem difficult read',\n",
       " 'satisfi inch vizio pictur clear color outstand great footbal',\n",
       " 'light stay time charg suck batteri life trash provid accur heart rate app freez updat around trash',\n",
       " 'headphon reliabl easi use batteri last long structur headphon littl bulki',\n",
       " 'great phone comparisson xs max thing except camera placement home button matt back instead glass back thank walmart rollback pass deal',\n",
       " 'appar work nvr refer nvr time descript never state work nvr assum ip camera capabl independ ip camera use past learn someth today nvr explicit tell get one way use devic frustrat',\n",
       " 'star bought portabl dvd player old phillip one stop work impress afford bundl order black dvd player sleak look dvd player button built one switch virtual screen remot combin togeth creat full remot function screen rotat degre left lay flat surfac base degre right tilt great size much bigger old one price lcd screen microusb cabl wall adapt includ base contain usb port sd mmc card reader audio jack av connect bigger screen bigger sound system dc port built speaker head phone come match color adjust faux leather foam ear cushion comfort wear hour view carri bag come match color hold dvd player extra pouch power cord shoulder strap ad portabl reason four star could give four star miss star dvd player resum left power eas find left scene select fast forward excel afford bundl',\n",
       " 'easi set system get run',\n",
       " 'tv great anyon look qualiti budget style sleek look like much expens tv pictur qualiti excel offer bright color sharp imag definit great deal anyon look entri level tv must buy',\n",
       " 'love appl watch everyth need',\n",
       " 'bought work work excel strong sturdi fit great stap mayb get work littl wider would nice',\n",
       " 'bought well other gift enjoy easili pair devic area sound qualiti good replic whatev use stream music alway pair equal app music also well use speaker phone great gather home holiday season took turn play music playlist',\n",
       " 'great christma gift receiv motiv son workout compet cousin',\n",
       " 'grandson happi love',\n",
       " 'origin nest thermostat work well never lost wifi link app rock solid reason gave star frost display hard see especi bright sunlight model much clearer otherwis thumb',\n",
       " 'realli nice fit tracker automat track record activ excel swim automat sens activ accuraci record lap',\n",
       " 'buy dang thing regret promis love',\n",
       " 'look consum report got best player happi pictur qualiti remot control tv abl learn use volum r g b etc look manual instruct noth pertain button help',\n",
       " 'admit third ipad bought one price good love appl product',\n",
       " 'nice littl radio price fit need radio truck well suck plug guy aux jack get traffic report aa batteri last month drain shown power bar hr day draw back antenna ear phone wire antenna includ port jack work truck',\n",
       " 'band made arm break',\n",
       " 'sound amaz connect problem run even walk connect becom super choppi caus sound cut continu return went differ headset',\n",
       " 'excel valu price would buy easi instal',\n",
       " 'easi put togeth part packag easi read instruct light weight download everyth easili review collect part promot',\n",
       " 'xma gift play yet piec box',\n",
       " 'enjoy product',\n",
       " 'bought forev ago quit enjoy favorit thing realli excel buy money rel cheap need someth featur link iphon',\n",
       " 'tablet got would love tablet keyboard especi price',\n",
       " 'issu go bed night tv turn back sometim overnight happen sever time otherwis happi',\n",
       " 'realli good qualiti huge tv good sound pictur realli easi use app want like disney hulu netflix',\n",
       " 'bought last week great fun speaker sound great batteri last day',\n",
       " 'easi use love possibl good price',\n",
       " 'drive lot work happi bought metal earbud realli like bluetooth option short cord hide behind neck work',\n",
       " 'love price last two bought appl store husband keep lose travel new one find ipad',\n",
       " 'upgrad older roku devic roku utlra k option alway fan roku devic bring next level voic control remot great k pictur awesom also hub entertain watch hbo britbox showtim netflix mani channel devic tv came smart web os even use smaht say boston roku ultra',\n",
       " 'nice better expect',\n",
       " 'band came true packag ziploc bag kite may blemish could use way state descript prior buy return',\n",
       " 'bought unit two year ago great addit home',\n",
       " 'night vision',\n",
       " 'port usb hub size palm port differ level power claim smart tech read devic need power sourc price product walmart made great buy',\n",
       " 'believ simpl set camera immedi start use benefit look great',\n",
       " 'like slide',\n",
       " 'perfect video game nice resolut recommend tv',\n",
       " 'work great problem review collect part promot',\n",
       " 'bought tablet get galaxi skin fortnit',\n",
       " 'allow temperatur hous consist upstair usual warmer downstair alway use sensor upstair activ sensor sometim time use thermostat much consist easier manag temperatur whole hous great product',\n",
       " 'sinc say month ago happi easi use far air comfort feel save bill soon winter come wait see goe dream final got one connect electr far know need batteri old daili need batteri alway sometim troubl old one thank ecobe semco',\n",
       " 'got watch june love sinc problem actual start pretti recent light button get stuck pretti often push disappoint turn watch time get wack never ever worn watch shower anyth never spill liquid noth pretti confus start wish knew fix',\n",
       " 'fit new fire hd releas perfectli got go blue fire shade great match pleas',\n",
       " 'like vcr dvr know purchas anyway live imposs get autom guid inform tri mani differ system work guid trough expens subscript cabl satellit tv',\n",
       " 'noth problem sinc appl store twice told take back',\n",
       " 'bought black friday setup easi wish power cabl longer',\n",
       " 'use yet examin care open packag scribbl everi one felt rubber tip write rubber tip sturdi',\n",
       " 'love get exact fit hole match magnet adjust fasten',\n",
       " 'guess fault want vcr dvd player line record dvd player record movi record close caption like part hook hdmi cabl p pictur sinc old dvd player never play movi h recommend product look',\n",
       " 'perfect watch adventur race activ lifestyl requir constant charg robust easi navig light great display easi read condit complaint sapphir len avail screen protector instal work great imposs know notic separ around end spray sunscreen bug spray use sapphir would solv minor inconveni overal extrem happi garmin instinct would buy heartbeat',\n",
       " 'product seem super modern versatil easi instal color make cours give chang whole hous beauti cover grate exampl send sinc could make best decis review collect part promot',\n",
       " 'sound great chanc use option gift xma back box',\n",
       " 'need extra cord car job well ipod troubl recogn either good buy want spend appl cord',\n",
       " 'smart tv mani featur us differ thing review collect part promot',\n",
       " 'appl watch purchas may august die pay replac purchas seller chubbiestech contact seller see could possibl get kind reimburs said day warranti day suggest pay extra buy new one never troubl buy anyth refurbish buyer bewar chubbiestech could step right thing bad busi',\n",
       " 'best tv ever own exceed expect almost everi way thing care mount hole back wall mount hole high mount alreadi bolt wall last tv flaw find incred tv review collect part promot',\n",
       " 'worst gift ever given someon see write dark room',\n",
       " 'thing option turn auto featur even abl custom jbl app like turn perman power save mode even renam see much batteri left ect seen look review even pair togeth daisychain realli terribl guess long rememb charg rememb love turn sound great actual louder expect',\n",
       " 'initi excit sticker decor suffici put come multipl kid headphon lot comfort complaint fall get pull imedi daughter put come even play anyth like listen audibl book read along perfect bluetooth must order keep tablet get jerk onto floor everi time urg danc tri sound qualiti even though kid discriminatori surprisingli good happi search review collect part promot',\n",
       " 'went demo three seri vizio offer seri realli stood color bright person thought qualiti close p seri could tell much differ',\n",
       " 'far good good sound qualiti great batteri life concern ear bud wire thin money worth buy',\n",
       " 'son happi christma gift',\n",
       " 'excel tv easi use roku built',\n",
       " 'tablet work fine sometim shut reason also batteri life limit',\n",
       " 'awesom product bunch vh work perfect play dvd record bit tricki figur get hang bit big get use awsom',\n",
       " 'wont allow add devic v email support answer yet',\n",
       " 'instruct small clear still tri understand featur',\n",
       " 'deliv damag hope replac better hope walmart make sure next one make onctim christma present',\n",
       " 'nice headphon perfect kid best thing theu adjust',\n",
       " 'well construct pretti keyboard perfect',\n",
       " 'love keyless featur town need someon come check thing need key love conveni dig key anymor high qualiti product made life easier instal anyon super easi instal would recommend everyon freedom babi review collect part promot',\n",
       " 'everyth great start finish best price servic',\n",
       " 'disappoint product bought use remot listen music button function would repurchas',\n",
       " 'recent purchas galaxi tab buydig base descript like new figur like new might blemish case notic stretch screen burn across screen clear one made attempt properli test grade devic place tablet sale deal pain hassl return process disappoint child',\n",
       " 'speaker better sound qualiti stock googl home suffer third parti issu android phone old firmwar soni updat speaker latest featur googl like broadcast audio call speaker sever version behind stock googl home softwar',\n",
       " 'bought three half year old grandson watch video car good littl player one huge drawback way attach back headrest grandson hold unit whilst watch easi littl one length time serious consid return',\n",
       " 'great activ tracker doubl great easi use watch connect easili phone relay messag perfectli fact water resist wonder',\n",
       " 'bought tmobil version phone got say far biggest mistak ever made phone thin round edg far thing despis bare hold phone without accident press screen frame refer came note wish could go back never buy anoth samsung phone round edg',\n",
       " 'supershieldz android tablet fit android tablet cut length impress',\n",
       " 'touch screen stop work lcd screen garbl phone never refurbish take apart check connect snap back still origin screen orign batteri etc lie refurbish also appl dealer check crap giggl said origin',\n",
       " 'st purchas wireless speaker return power cord stop work coupl month use replac speaker sent problem stop work coupl month use work batteri system work hold charg hr',\n",
       " 'due son multipl ear surgeri conduct hear loss seem work realli well allow hear ambient sound far good review collect part promot',\n",
       " 'wonder way save money cabl bill record copi dvd problem oper',\n",
       " 'although work pretti well devic plug philip sound extrem loud bluetooth well could bare get whisper buy return',\n",
       " 'absolut document user inform includ product upon arriv plug charg cabl connect charger two hour red light flash samsung j v smartphon unabl pair numer scan afternoon phone found speaker bt unabl commun next morn research walmart return polici tri pair speaker one last time connect play audiobook mine second insist repeatedli batteri need recharg red blue indic light associ power button seen red light flash idea mean also seen red light glow steadi know mean either seen red blue light glow togeth guess mean speaker announc power compos review idea red light lit assum charg thought thing yesterday much charg morn think eventu teach use product batteri charg issu fatal flaw would never recommend speaker anyon lack oper document low purchas price rel high cost aggrav return ship preclud return disappoint produc one piec paper particular oper would gone long way toward custom satisfact better',\n",
       " 'easi set got lot channel cabl watch internet tv pictur beauti love',\n",
       " 'sound clear crisp beat need make stereo everyon great sound walmart best deal',\n",
       " 'comfort easi use bad eye read info phone thing wish differ program sleep time daili',\n",
       " 'voic activ remot control chang soni longer function way would like want abl chang channel tv use voic activ remot control soni updat elimin hat featur real bummer',\n",
       " 'love new fit sport smart watch cool design band soft chic everi thing need help keep fit tell hear rate blood oxygen level automat sleep monitor mani aweson featur bluetooth friendli csn use io android anthrod work great issu perfect smart watch definit wear everi go easi use watch smart gonna keep smat great add daili life better see call log use calcul alarm clock calendar name mani beauti vibrant color watchband choos love sport smart watch review collect part promot',\n",
       " 'return item turn well set ridicul',\n",
       " 'matter batteri life last hour even worst part two hour use speaker notifi pleas charg everi minut interrupt whatev listen even worst part tell charg batteri volum cut max volum tri turn say pleas charg press button time say three time speaker claim hour batteri life realiti last hour half hour cant turn even half volum joke product expens speaker outclass everi way box manual say cut volum almost noth bought speaker sound qualiti matter good sound cant play longer coupl hour worth suggest purchas jbl realli anyth tripe',\n",
       " 'love clariti pictur great smart featur work well review collect part promot',\n",
       " 'bought grandson trip disney first paw patrol dvd great put car movi sever other recogn sure son longer box',\n",
       " 'great product good qualiti easi use',\n",
       " 'exactli advertis work great fantast graphic thank',\n",
       " 'happi purchas would recommend friend famili',\n",
       " 'qr code show invalid could connect app remot view call laviesw custom servic email sever time respons got remot view return would recommend anyon',\n",
       " 'bought yr old daughter great sound love',\n",
       " 'bought wal mart work great problem cheaper other seen would highli recommend devic anyon need wi fi cox internet internet alot cox told go rais internet call cox tell cancel servic like go',\n",
       " 'earbud fit well even chang pad earbud comfort randomli fall sound great',\n",
       " 'good fit decent qualiti look good noth spectacular earth shatter buy',\n",
       " 'great featur pictur realli clear',\n",
       " 'bought item month ago best thing ever come tv',\n",
       " 'work fine loos other state hold fitbit place hang cord order one back',\n",
       " 'bought inch tabl like one work great love price awesom valu',\n",
       " 'love sound amaz speaker produc notic delay mention tell friend want one definit worth invest good job jbl',\n",
       " 'job drop',\n",
       " 'awesom smart featur tv dumb tv',\n",
       " 'second nest thermostat first one second gener song next gener e appear wise think standard nest thermostat look better function work equal well consider save ignor follow instal step see simpl',\n",
       " 'work great great valu',\n",
       " 'tablet one day day start freez reboot factori restart twice look good terribl go back rca voyag one sinc christma gave grand daughter still pay',\n",
       " 'everyth great except mine arriv small yet notic scratch',\n",
       " 'bought gift far work great',\n",
       " 'far pleas system deliveri quick everyth seem good',\n",
       " 'pleas purchas work like new even came case love',\n",
       " 'good system money',\n",
       " 'day screen badli scratch goug wear normal like anyon els would realli disappoint bad reach fitbit help',\n",
       " 'great tracker lot function much henc less star',\n",
       " 'track heart rate step mile time stop watch alarm love',\n",
       " 'perfect fit work great dont like tablet digit key',\n",
       " 'initi thought anoth cam well definit surpris pictur qualiti fantast night vision someth els setup livingroom wait dark night shut light night vision great fan one way sound sure could come handi certain situat would recommend anyon look great qualiti easi setup wifi camera mention camera run less min thank ezviz review collect part promot',\n",
       " 'expect product avail store closest sure happen went regular store direct anoth store pick took home hook found screen shatter return store day refund end go regular store found tv purchas',\n",
       " 'husband bought rca nearli two year ago work fine till broke screen updat bought one cours love even one fast depend',\n",
       " 'bought phone reciev alreadi screen protector actual screen signific scratch multipl place like go hastl return exchang go deal',\n",
       " 'distort oper hour cost reduc part accept',\n",
       " 'featur seem great still problem tri sync phone well access featur need track',\n",
       " 'tablet dope easili use laptop replac perfect travel loung expens say live pricetag',\n",
       " 'keep temperatur bedroom stabl spike thermostat far away easi setup use',\n",
       " 'aw sound earphon muffl like listen play underwat lot headphon earphon worst one ever use',\n",
       " 'pad look great deliveri super fast slow u click app u click time scroll u move finger time work cannot download mani app due older version get messag app supprt devic im talk basic youtub netflix app',\n",
       " 'love ideal headphon problem charg take special touch get charg go red light great set',\n",
       " 'decent emerg radio kaito ka radio emerg situat electr use solar power use hand crank gener built side use batteri power ye electr plug outlet port side plug phone charg mp player bought radio wife gift wife like radio listen station news station weather gener one thing wife told pick station well overal like',\n",
       " 'bought airport overcharg thu poor valu rate person use one flight second time took bag use clip broken complet apart total worthless earbud fit easili ear bit clumsi use regard control way realli know clip back shirt struggl use middl button effect start stop book listen',\n",
       " 'use roku short time happi qualiti connect get speed also good varieti program although sure would get nat geo show list chois',\n",
       " 'easi small enough block outlet wifi use hub work great alexa',\n",
       " 'size screen weight eas use ipad air main go game air video price insan gb version thank walmart happi custom',\n",
       " 'nice design excel pictur qualiti better old video doorbel',\n",
       " 'bought coupl month ago far good would recommend',\n",
       " 'got tv k lg k blue ray player also love best wish would gotten sooner lg go brand',\n",
       " 'good sound qualiti son said happi qualiti person print fact fairli pixel also unfortun exchang return',\n",
       " 'absolut love thing de fantast job got use halloween light look forward use christma one well take worri turn someth often review collect part promot',\n",
       " 'love band band easi swap use band came fitbit charg exercis heavier band time like littl heavier origin band weight make easier wake fitbit see progress clock face would recommend sever friend price walmart websit watch band outstand well',\n",
       " 'neg review untru gb hold game lag due terribl internet connect poor internet also caus delay updat onlin play system great three one aspect like xbox wifi adapt work ghz realli faster ps internet support buy ever one game want great system switch awesom like nintendo',\n",
       " 'good purchas made kid',\n",
       " 'starter say day ship actual like week make matter wors phone final arriv would even come still wait im sure get wors tri set phone plan actual ever come due experi far im alreadi dread return process aw',\n",
       " 'bought pair headphon work well comfort feel free buy excel',\n",
       " 'great item glad purchas product work great',\n",
       " 'samsung smart dvd player similar roku sooo channel heaven mayb roku work roku dvd player',\n",
       " 'buy horribl experi way slow would kick son game minut',\n",
       " 'excel product excel retail purchas',\n",
       " 'instal nine month ago alarm compani eat batteri know put batteri thing last night batteri holder broke half guess back key buy anoth one',\n",
       " 'great pictur sam perfect tv want review collect part promot',\n",
       " 'bought set year ago use start use regularli within week broke top middl headband part friend let borrow howev unpair phone get headphon show either phone set bluetooth headphon connect via bluetooth',\n",
       " 'set quickli third parti bluetooth small problem control sound video sync otherwis star',\n",
       " 'good tv pictur good hook k receiv pictur great k wall much thinner eight year old samsung review collect part promot',\n",
       " 'reciev product today cane wrap real well opend look brand new screen seem work good everyth els malfuct return back tk sender',\n",
       " 'horribl must download everyth extrem slow game work consol get one',\n",
       " 'th visio tv week impress pictur sound especi connect k movi sourc',\n",
       " 'enjoy play game stream movi famili love qualiti love price',\n",
       " 'receiv ipad today love arriv perfec condit order onlin even scratch',\n",
       " 'love iphon transfer contact copi',\n",
       " 'bought replac samsung galaxi happi decis five year final got wife get smart phone away flip phone see phone could believ pay galaxi phone much offer plu seem better qualiti much better price batteri stay charg time longer phone sound much better option rington upgrad review collect part promot',\n",
       " 'like overal servic entir transact',\n",
       " 'easi set disappoint display brighter mayb bit bigger',\n",
       " 'inch phone inch describ onlin better get busi straight seller end buyer definit go els',\n",
       " 'hard time figur connect googl home initi instal work fine tv updat chang connect set check watch learn follow step good also remot replac almost year',\n",
       " 'got husband use porch get lot enjoy',\n",
       " 'black led bluetooth wireless speaker work perfectli fine sound everyth work realli good ideal hear music friday night',\n",
       " 'like everyth easi put take ear plug irrit ear easyvto turn get rang phone come back rang connect easili let get far rang ft disconnect',\n",
       " 'thin fast love differ charg option dock station come includ review collect part promot',\n",
       " 'tv work great great recept color make great addit game room review collect part promot',\n",
       " 'bought year old daughter love love track activ time',\n",
       " 'bought replac defunct ps look good far easi set unabl add select app roku set still tv',\n",
       " 'would accept sim card',\n",
       " 'pro block certain amount nois still hear sth like voic rumbl sound etc also depend music volum con bit uncomfort long term wear',\n",
       " 'samsung remot small mayb add small touchscreeen review collect part promot',\n",
       " 'love appl watch wear time love stat give workout serious regret purchas',\n",
       " 'mayb walmart peopl thought need dollar didnt activ ha ha dont sell e card like tracfon compani dont want drive store straight talk home phone work ok think',\n",
       " 'bought novemb stop work right ear month interestingli product day warranti guess',\n",
       " 'need work gym earbud type kept fall sound qualiti great price super',\n",
       " 'bought one walmart chicago work',\n",
       " 'great littl gizmo easi start perfect pictur',\n",
       " 'great featur would like see heart rate say last year crap month buy anoth one disappoint wast much money',\n",
       " 'tv vivid pictur seen lot comparison shop prior select price bit higher competit feel imag qualiti justifi choic review collect part promot',\n",
       " 'difficult set simpl directv setup yet tv could see connect set tv directv year problem worthless tv',\n",
       " 'purchas item son took box plug instruct product even work ship walmart com would hassl return lost',\n",
       " 'excel se new chip iphon still updat latest softwar',\n",
       " 'right product good price staff help',\n",
       " 'bought year old use everi chanc get children safe come cute charact',\n",
       " 'purchas thermostat month ago alreadi save month ga bill despit last month coldest year pick one competitor model current hvac system older c wire lot easier instal expect use includ wire adapt clear instruct phone app great make easi use program control thermostat anywher happi purchas',\n",
       " 'partyup function brilliant bluetooth rang could improv',\n",
       " 'would recommend anyon poor qualiti protect ear shoot',\n",
       " 'flir camera recent purchas incred use tool beekeep busi remov nuisanc hive wall structur camera allow pinpoint hive precis demolit rather rip tear wall tri find bee awesom use tool',\n",
       " 'qualiti pictur overal featur incred one son room anoth one near futur',\n",
       " 'great product great price love pictur beat roku eas use built channel login process separ browser code enter tv smartphon app act tv remot add fantast product',\n",
       " 'return junki equip within three day worst piec electron equip ever seen seen instal bunch tuner could never sens cabl channel alway act like connect set rabbit ear antenna tri play vh tape sound would go silent could never get sound part work overpr boat anchor dvd player appar funai ruin magnavox reput never buy anoth product',\n",
       " 'bought follow fore runner love run activ tracker connect app smartwatch agenda messag okay hardli use track run treadmil swim perfectli',\n",
       " 'great price everyth need without spend money newer version',\n",
       " 'eas setup easi use happi qualiti',\n",
       " 'love love watch everyth glad treat',\n",
       " 'love color fit well arriv earlier expect',\n",
       " 'work pretti good clip case need reinforc screw rivet',\n",
       " 'nest cam indoor reliabl easi use pro easi setup app websit well design easi view video smartphon comput camera reliabl alway con nest awar video histori bit expens p resolut sometim use lot wi fi bandwidth appl airport extrem lack worldwid time zone set',\n",
       " 'far worst dvd player ever purchas bought cheap price honestli worth dime pick choos dvd want play scratch brand new simpson dvd usual show credit turn would power back put new dvd littl hour broken trash worth time money pleas believ realli ugli odd look',\n",
       " 'alway buy vizio seri even better',\n",
       " 'item arriv time nephew love',\n",
       " 'angri came damag allow refund bought black friday special get screw use amazon next time line screen idk fed ex store irrit bought year warranti get refund',\n",
       " 'best sound speaker ever own light coolest featur definitley recommend',\n",
       " 'purchas phone year old mother previous flip phone quit savvi android tablet figur could learn phone quickli week usag make call text email take photo surf web excit own smart phone show phone friend retir home take pictur mani well person own sever motorola phone moto g power anoth stori',\n",
       " 'super easi setup awesom pictur qualiti love',\n",
       " 'got gift bd player sometim shut remot unplug regain control hard connect wi fi',\n",
       " 'got thr flip two wk ago love h o get anoth one stereo sound great park playin jazz oldi',\n",
       " 'bought day ago alreadi amaz perform',\n",
       " 'stop work week dissatisfi guess price good true',\n",
       " 'buy product drone lift matter second land control didnt help press everi button bring even remov batteri remot wast money repeat buy',\n",
       " 'awesom smart light afford price bought expens brand day clear good user friendli',\n",
       " 'say much sinc still box christma present someon els',\n",
       " 'product fine get walk walmart yet actual stock store want cent product order onlin pay ship deliv pick store straight talk support notori bad onlin chat rep send buy websit without ad servic plan appar take time day explain phone rep get one exist straight talk custom tri transfer exist servic plan sim less iphon straight talk anoth phone pain',\n",
       " 'arriv promptli excel condit bought husband fit bit love thing still learn',\n",
       " 'realli enjoy featur watch would given could return text messag pair iphon',\n",
       " 'love everyth headphon stay charg long time fit ear perfect came extra earbud mani style choos sound clear case well pocket review collect part promot',\n",
       " 'third one bought perform flawlessli fast boot graphic amaz',\n",
       " 'lot custom option system updat fast',\n",
       " 'amaz qualiti pictur easi platform use review collect part promot',\n",
       " 'pictur ok great rememb patonh bunch',\n",
       " 'lazi take pictur mine quit pleas result experi price rang get like someon come hit lock box center give code anoth number store day give code tell expir lay over hahaha take leav lock look key',\n",
       " 'nice packag easi set second one mani month price right',\n",
       " 'bad hold batteri someth wrong screen need return wait happi',\n",
       " 'super easi instal',\n",
       " 'qualiti lack purchas button keyboard longer work definit disappoint consid difficult find decent bluetooth keyboard older ipad would recommend',\n",
       " 'total work good iphon verizon great phone',\n",
       " 'bought week ago honestli could better setup straight forward neveri state must creat onlin account first otherwis end endless loop tri activ devic also amount free movi channel vast would prefer free weather abc news fox news other abil watch let say local news traffic includ free movi mostli b list item bad best truli wish cabl cutter abl tune basic local channel well offer b list movi close want say bad could way better hype also phone app great get work less often think',\n",
       " 'phone better condit look absolut brand new arriv ahead schedul oper well iphon brand new',\n",
       " 'expect push power button tv turn right away one time push power button paus second two display sceptr logo second eventu get around actual show tv other note sound qualiti poor tinni adjust equal help sound remain poor could program work fulli cabl box univers remot everyth univers work except volum use two remot defeat purpos pictur fine week bought sceptr differ tv hous die replac haier l b haier also avail walmart spec sceptr seem superior product sound better annoy ad time turn work univers remot haier slightli cheaper',\n",
       " 'pictur good price rang notic bleed bright object screen dark common unless upgrad next rang overal dont realli notic normal view app respons fast connect item sound good magic remot hard get use find like',\n",
       " 'amaz clariti pictur happier though plan watch anyth moment would stand sit front awe admir tell mysef purchas someth special that happi satisfi qled way go samsung review collect part promot',\n",
       " 'devic great add nest system easi setup great step step instruct walk setup also easi use intuit',\n",
       " 'use one day ago happi think nice watch',\n",
       " 'item daughter love hard time first becous came instruct charg download got go love',\n",
       " 'husband went g play phone absolut love phone brag time much better one samsung note realli much experi phone love seem like littl harder find case phone though see case g power g play everywher took us find case g final found one best buy minut away live',\n",
       " 'look expens tv guest bedroom decent pictur pleas tv well worth',\n",
       " 'bought first came want classic face vivoact hr music disappoint find garmin pay also realli miss touch screen wish garmin would make forerunn qualiti vivoact line switch back forth watch prefer vivoact',\n",
       " 'love devic weekend never bore alway find someth good watch',\n",
       " 'lg phone tracfon last year keep upgrad origin thought buy fiesta highli recommend lg premier thought upgrad pro lte glad love phone problem love fact gb memori camera outstand snap transfer info old new use transfer wizard easi make transit pro lte new bell whistl problem batteri charg last least day time retir truli love phone size durabl featur eas use cours price could go wrong',\n",
       " 'charg send back wish would look review befor bought',\n",
       " 'backward compat disappoint issu game fallout seri put thought elder scroll risk',\n",
       " 'realli great qualiti seem littl wobbl though sure that suppos like merit alon great product price',\n",
       " 'origin purchas one back door year decid instal one front door well serious consid anoth servic door detach garag lock use easi instal direct provid well written illustr clear easi understand lock also perform flawlessli thing need file strike plate back door eas deadbolt engag minor thing finish outsid compon back door lock becom discolor time everyth still work fine love lock hous set code peopl enter hous eras lock cylind well made pick resist great product review collect part promot',\n",
       " 'would chang rate compat android auto googl home',\n",
       " 'bad price keyboard issu bad littl tablet wish instruct book someth came manual load far seem good purchas',\n",
       " 'tv mani differ featur offer asid amaz pictur qualiti samsung tv offer one best tv ever pleasur own tv good watch favorit movi also great come play video game would recommend tv anybodi look great smart tv review collect part promot',\n",
       " 'product great keep shut lag',\n",
       " 'instal one control garag ventil fan easi instal program work great',\n",
       " 'turner record televis unless buy extra turner say descript line watch record also tell use dvd r disk must dvd rw r dvd rw r return tomorrow',\n",
       " 'bought tablet year old son previous cheap tablet less time upgrad realli enjoy easi use navig processor fast handl game',\n",
       " 'love new nexu still learn mani use',\n",
       " 'purchas iphon xs max grand daughter attend colleg total depend best phone school work amaz easili adapt iphon xs littl effort phone set previou inform contain phone voic command easi repeat phase phone recogn voic guid rest setup camera great take best pictur phone day told sever time much love',\n",
       " 'easi set display good read accur highli recommend',\n",
       " 'never own anyth onn brand bit iffi impress reccomend tv anyon look new tv especi price good tv',\n",
       " 'speaker feel pretti heavi duti basic featur bluetooth wireless non exist could get speaker connect via bluetooth instruct even state press play button light blink connect devic press minut straight without blink light connect speaker sound ok charg plug headphon jack plug charg tri play sound aw lot static would give speaker review collect part promot',\n",
       " 'philip done great job design tv easi set perform better popular brand make realiz lot fake review happi philip',\n",
       " 'beauti weight great perform great stylu ink pen tip part extend far enough hang creat difficult use write tool',\n",
       " 'got yesterday alreadi love great featur loud',\n",
       " 'realli nice tv clear pictur easi oper review collect part promot',\n",
       " 'two portabl dvd player best market tri mani other compar categori batteri longest life work home dvd movi store bought dvd cd music usb port durabl daughter drop sat left backpack still work amaz player get use alot mean daili highli recommend devic',\n",
       " 'thing silent digit way go appar ship fast',\n",
       " 'tablet nice display extrem light use primarili flashcard open pdf file brows web sinc main devic alreadi think last long time',\n",
       " 'jbl e bt headphon alreadi love thing design look great matt inner circl jbl logo outer almost mesh circular design orang micro usb cabl charg well stereo patch cabl volum track chang button wire listen plug standard headphon jack wireless ear headphon lightweight fold stowaway portabl headband strong plush fabric adjust differ height head ear size found headphon almost nonexist comfi headband lightweight feel sever hour confer call call came clear never ask repeat anyth good mic sign purchas second pair due wife fall love e bt model boast hour charg time hour batteri life seem close accur far could tell guess would depend volum listen use also button headphon case go cabl free button easi bluetooth pair play paus mute volum well track chang music similar function button includ cabl guess put strike headphon would user manual extrem small print difficult read sure onlin manual somewher sound besid success phone call perfect could hope run headphon differ genr definit welcom go around hous listen well start weeknd love space headphon put bass vocal high put huge smile face let audibl deadmau coltran allman brother great sound stage way around trust sound amaz compact size long batteri life brainer almost scenario review collect part promot',\n",
       " 'work advertis easi program wireless download view record program work well',\n",
       " 'great adjust sound qualiti use product sever year like use ear bud real neg think product awkward store travel cannot collaps fold storag',\n",
       " 'happi new tv damag happen ship sometim ship day late overal good job walmart',\n",
       " 'ok total impress without ok',\n",
       " 'order came broken differ place wouldnt properli tell temperatur ship also small anyth use gener idea within degre',\n",
       " 'great sound volum underwhelm bass distort high volum',\n",
       " 'respond sim',\n",
       " 'think next best thing real one son wait get home school charg first thing morn got home took air hog start fli away review collect part promot',\n",
       " 'first appl product incred',\n",
       " 'got headphon month ago pretti good listen music microphon pick incred amount background nois make call virtual imposs peopl end hear disconnect bluetooth switch call phone incred inconveni given spend lot time airport wish could someth mayb issu come recent',\n",
       " 'use phone sinc day releas far realli great previous moto g plu gb ram gb rom phone great upgrad gb ram make phone run smoothli nice near stock android os moto tweak make android experi even better camera good price would definit recommend',\n",
       " 'ok simpl easi could walk bought sooner',\n",
       " 'phone like new order fast ship great price',\n",
       " 'son excit tri itouch playzoom watch easi open problem put littl help mom love video camera function game play coupl hour could game option would nice download content option great buy son wear time love alway happi product review collect part promot',\n",
       " 'bought bose headphon long trip sound qualiti phenomen comfort fantast nois cancel nice step qc happi control easi use take minut learn button question spot grab earcup take may result shut time convers mode work great well worth figur would nice instruct pictur mention bluetooth button also shut headphon want use plug aircraft system turn headphon nois cancel small detail get tri everi button figur use fun',\n",
       " 'purchas big ive want uhd tv want make sure got best deal best tv samsung hit mark pictur qualiti awesom sound great small bezel fill room noth screen review collect part promot',\n",
       " 'cheap show graphic look like someth game system credit card requir appear close loophol tri sell someth everi minut work fault take chromecast amazon fire hindsight even ad cost',\n",
       " 'start use otter box year ago first cell phone never look back go one new pad still total satisfi box awesom product thank folk',\n",
       " 'like first nice dvd player tv small bedroom anyth save space plu howev dvd player longer work one month disappoint cours longer box return day anyway buy want dvd player',\n",
       " 'get alreadi xbox one unless die get k bluray suppor offer howev consol ask mainli purchas eas use famili quickli found upscal game k sure game support true k still look awesom love smaller compact design look forward get kinect someth wife greatli enjoy',\n",
       " 'util camera monitor dog away home setup easi user interfac simpl like cloud abil along local storag two way commun come handi dog sight call view magnet base make easi instal angl nighttim video qualiti ok oppos daytim crystal clear pretti nice packag price point review collect part promot',\n",
       " 'realli like excel sound qualiti comfort wear keep forget around neck',\n",
       " 'tablet perform well excel purchas',\n",
       " 'look small inexpens tv dvd bedroom read review brand felt proctect ad addit warranti upon arriv setup actual feel wast money extra warranti easi setup great pictur perform expect find someth thought could better would remot remot suppos button layout bit tediou',\n",
       " 'order note plu back came trade note note plu ever sinc miss phone bad get wrong note plu excel phone like note littl better order note gb week ago samsung amaz price happi get phone love back',\n",
       " 'day review figur would upgrad hd model work right channel would buffer anoth channel newson would play second go main menu easi instal work lot faster older hd roku happi hdmi cabl could littl longer long minut said tv enough power said connect wall outlet year old samsung tv like featur use smartphon tablet listen also use phone speaker headphon get hot older hd model express littl warm touch hot give thumb',\n",
       " 'great fit kid head ear complain poor sound qualiti one ear pad pull day own seem imposs get back plan return',\n",
       " 'work well',\n",
       " 'awesom dvr great app mobil devic',\n",
       " 'bought black friday deal price wow deal alreadi roku stick amazon fire devic one top love abl use earbud watch tv sound clear constantli turn volum everytim dog bark lol quit honestli find like roku product stream much fire devic',\n",
       " 'good sound qualiti nice special effect loud guitar amp listen music iphon',\n",
       " 'fast deliveri easi hookup pictur look good everyth want low end inexpens televis rental kid room',\n",
       " 'ok product batteri life last day great notif',\n",
       " 'could rate zero star would camera garbag work unlit area although endoscop light suffici work dark area bought view joist ceil piec junk even come close work recommend read review walk away',\n",
       " 'bought one tri love much buy anoth cant live without accommod budget',\n",
       " 'underestim pictur sound qualiti tv detail remind aunt samsung k uhd set fast got xbox',\n",
       " 'band look realli nice also adjust easier get origin band',\n",
       " 'junk dont wast money work great day chang batteri still day f say f',\n",
       " 'amaz sound qualiti durabl love colour espic grey mint light weight one best sound headphon ever use',\n",
       " 'far best phone ever realli hard phone work seem like better android far oper fast take great pictur well could go forev would recommend phone everyon',\n",
       " 'excit new fitbit wait get whole day use tmrw',\n",
       " 'great use product',\n",
       " ...]"
      ]
     },
     "execution_count": 244,
     "metadata": {},
     "output_type": "execute_result"
    }
   ],
   "source": [
    "corpus"
   ]
  },
  {
   "cell_type": "markdown",
   "metadata": {},
   "source": [
    "# Feature Extraction"
   ]
  },
  {
   "cell_type": "markdown",
   "metadata": {},
   "source": [
    "**Creating bags of words model**"
   ]
  },
  {
   "cell_type": "code",
   "execution_count": 245,
   "metadata": {},
   "outputs": [
    {
     "data": {
      "text/plain": [
       "array([[0, 0, 0, ..., 0, 0, 0],\n",
       "       [0, 0, 0, ..., 0, 0, 0],\n",
       "       [0, 1, 0, ..., 0, 0, 0],\n",
       "       ...,\n",
       "       [0, 0, 0, ..., 0, 0, 0],\n",
       "       [0, 0, 0, ..., 0, 0, 0],\n",
       "       [0, 0, 0, ..., 0, 0, 0]], dtype=int64)"
      ]
     },
     "execution_count": 245,
     "metadata": {},
     "output_type": "execute_result"
    }
   ],
   "source": [
    "from sklearn.feature_extraction.text import CountVectorizer\n",
    "cv = CountVectorizer(max_features= 2000)\n",
    "x = cv.fit_transform(corpus).toarray()\n",
    "x"
   ]
  },
  {
   "cell_type": "code",
   "execution_count": 246,
   "metadata": {},
   "outputs": [
    {
     "name": "stdout",
     "output_type": "stream",
     "text": [
      "['abc', 'abil', 'abl', 'absolut', 'ac', 'accept', 'access', 'accessori', 'accid', 'accident', 'accomplish', 'account', 'accur', 'accuraci', 'across', 'act', 'action', 'activ', 'actual', 'ad', 'adapt', 'add', 'addit', 'address', 'adequ', 'adjust', 'admit', 'adult', 'advanc', 'advantag', 'advertis', 'aesthet', 'affect', 'afford', 'afraid', 'age', 'ago', 'agre', 'ahead', 'air', 'airplay', 'airpod', 'alarm', 'alert', 'alexa', 'allow', 'almost', 'alon', 'along', 'alot', 'alreadi', 'alright', 'also', 'alta', 'altern', 'although', 'alway', 'amaz', 'amazingli', 'amazon', 'ambient', 'amount', 'amp', 'analog', 'anc', 'android', 'angl', 'announc', 'annoy', 'anoth', 'answer', 'antenna', 'anybodi', 'anymor', 'anyon', 'anyth', 'anytim', 'anyway', 'anywher', 'apart', 'app', 'appar', 'appear', 'appl', 'appli', 'applic', 'appreci', 'appropri', 'approxim', 'area', 'arm', 'around', 'arriv', 'art', 'asid', 'ask', 'asleep', 'aspect', 'assembl', 'assist', 'assum', 'attach', 'attempt', 'attent', 'attract', 'audio', 'auto', 'autom', 'automat', 'aux', 'avail', 'averag', 'avoid', 'aw', 'awar', 'away', 'awesom', 'awhil', 'awkward', 'awsom', 'babi', 'back', 'background', 'backlight', 'backpack', 'backup', 'bad', 'bag', 'balanc', 'band', 'bang', 'bank', 'bar', 'bare', 'bargain', 'base', 'basement', 'basic', 'bass', 'batteri', 'bc', 'beach', 'beat', 'beauti', 'becam', 'becom', 'bed', 'bedroom', 'begin', 'beginn', 'behind', 'believ', 'bell', 'bend', 'benefit', 'besid', 'best', 'better', 'bewar', 'beyond', 'bezel', 'big', 'bigger', 'biggest', 'bike', 'bill', 'birthday', 'bit', 'bixbi', 'black', 'blank', 'blast', 'blew', 'blink', 'block', 'blood', 'blow', 'blown', 'blu', 'blue', 'bluetooth', 'blur', 'bluray', 'blurri', 'board', 'boat', 'bodi', 'bonu', 'book', 'boom', 'boost', 'boot', 'bose', 'bother', 'bottom', 'bought', 'box', 'boy', 'boyfriend', 'bracket', 'brainer', 'brand', 'break', 'breaker', 'breez', 'bridg', 'bright', 'brilliant', 'bring', 'broadcast', 'broke', 'broken', 'brother', 'brought', 'brows', 'browser', 'brydg', 'bt', 'bubbl', 'buck', 'bud', 'budget', 'buffer', 'bug', 'build', 'built', 'bulb', 'bulki', 'bump', 'bunch', 'bundl', 'burn', 'busi', 'button', 'buy', 'buyer', 'buzz', 'cabinet', 'cabl', 'cake', 'calendar', 'calibr', 'call', 'caller', 'calori', 'cam', 'came', 'camera', 'camp', 'camper', 'cancel', 'cannot', 'cant', 'capabl', 'capac', 'caption', 'captur', 'car', 'card', 'care', 'carri', 'carrier', 'case', 'cast', 'cat', 'catch', 'categori', 'caught', 'caus', 'cb', 'cd', 'ceil', 'cell', 'cellphon', 'center', 'certain', 'certainli', 'certifi', 'challeng', 'chanc', 'chang', 'channel', 'charg', 'charger', 'charm', 'chat', 'cheap', 'cheaper', 'cheapest', 'cheapli', 'check', 'child', 'children', 'chime', 'chines', 'chip', 'choic', 'choos', 'chore', 'chose', 'christma', 'chrome', 'chromecast', 'claim', 'clariti', 'class', 'classic', 'clean', 'clear', 'clearer', 'clearli', 'click', 'clip', 'clock', 'close', 'closer', 'cloth', 'cloud', 'club', 'co', 'code', 'cold', 'collect', 'colleg', 'color', 'colour', 'com', 'combin', 'combo', 'comcast', 'come', 'comfi', 'comfort', 'command', 'comment', 'commerci', 'common', 'commun', 'compact', 'compani', 'compar', 'comparison', 'compat', 'compet', 'competit', 'competitor', 'complain', 'complaint', 'complet', 'complic', 'compliment', 'compon', 'comput', 'con', 'concept', 'concern', 'condit', 'configur', 'confus', 'connect', 'connector', 'consid', 'consider', 'consist', 'consol', 'constant', 'constantli', 'construct', 'consum', 'contact', 'contain', 'content', 'continu', 'contrast', 'control', 'conveni', 'convers', 'convert', 'cook', 'cool', 'copi', 'cord', 'core', 'corner', 'correct', 'correctli', 'cost', 'couch', 'could', 'count', 'counter', 'countri', 'coupl', 'cours', 'cover', 'cowin', 'crack', 'crackl', 'crap', 'crash', 'crazi', 'creat', 'credit', 'crisp', 'critic', 'cross', 'crystal', 'cup', 'current', 'curv', 'cushion', 'custom', 'customiz', 'cut', 'cute', 'cycl', 'dad', 'daili', 'damag', 'dark', 'data', 'date', 'daughter', 'day', 'dead', 'deadbolt', 'deal', 'decemb', 'decent', 'decid', 'decis', 'dedic', 'deep', 'def', 'default', 'defect', 'defend', 'definit', 'degre', 'delay', 'delet', 'deliv', 'deliveri', 'depend', 'depth', 'describ', 'descript', 'design', 'desir', 'desk', 'desktop', 'despit', 'detach', 'detail', 'detect', 'determin', 'develop', 'devic', 'devis', 'dial', 'didnt', 'die', 'differ', 'difficult', 'difficulti', 'dig', 'digit', 'dim', 'direct', 'directli', 'directv', 'dirti', 'disabl', 'disappear', 'disappoint', 'disc', 'disconnect', 'discount', 'discov', 'dish', 'disk', 'disney', 'display', 'dissapoint', 'dissatisfi', 'distanc', 'distort', 'distract', 'disturb', 'dock', 'document', 'doesnt', 'dog', 'dolbi', 'dollar', 'done', 'dont', 'door', 'doorbel', 'doubl', 'doubt', 'download', 'downsid', 'downstair', 'drain', 'draw', 'drawback', 'dream', 'dri', 'drill', 'drive', 'driver', 'drone', 'drop', 'drown', 'ds', 'dual', 'dub', 'due', 'durabl', 'dust', 'duti', 'dvd', 'dvr', 'ear', 'earbud', 'earli', 'earlier', 'earphon', 'earpiec', 'earpod', 'eas', 'easi', 'easier', 'easiest', 'easili', 'eat', 'echo', 'eco', 'ecobe', 'edg', 'edit', 'effect', 'effici', 'effort', 'either', 'elderli', 'electr', 'electron', 'eleg', 'elimin', 'els', 'email', 'enabl', 'end', 'endless', 'energi', 'engin', 'english', 'enhanc', 'enjoy', 'enough', 'enter', 'entertain', 'entir', 'entri', 'environ', 'equal', 'equip', 'error', 'especi', 'essenti', 'etc', 'ethernet', 'even', 'event', 'eventu', 'ever', 'everi', 'everybodi', 'everyday', 'everyon', 'everyth', 'everytim', 'everywher', 'exact', 'exactli', 'exampl', 'exceed', 'excel', 'except', 'exchang', 'excit', 'exercis', 'exist', 'expand', 'expect', 'expens', 'experi', 'experienc', 'expert', 'expir', 'explain', 'explor', 'express', 'extend', 'extens', 'extern', 'extra', 'extrem', 'eye', 'ezviz', 'fabul', 'face', 'facebook', 'fact', 'factor', 'factori', 'fade', 'fail', 'failur', 'fair', 'fairli', 'fall', 'fals', 'famili', 'familiar', 'fan', 'fanci', 'fantast', 'far', 'fashion', 'fast', 'faster', 'father', 'fault', 'favor', 'favorit', 'fear', 'featur', 'fee', 'feed', 'feedback', 'feel', 'feet', 'fell', 'felt', 'femal', 'fenc', 'fenix', 'fi', 'field', 'fight', 'figur', 'file', 'fill', 'final', 'find', 'fine', 'finger', 'fingerprint', 'finish', 'fire', 'firestick', 'firmwar', 'first', 'fit', 'fitbit', 'five', 'fix', 'flagship', 'flash', 'flat', 'flaw', 'flawless', 'flawlessli', 'flew', 'flexibl', 'fli', 'flight', 'flimsi', 'flip', 'floor', 'fm', 'foam', 'focu', 'focus', 'fold', 'folk', 'follow', 'foot', 'footag', 'footbal', 'forc', 'forerunn', 'forev', 'forget', 'forgot', 'form', 'format', 'forth', 'fortun', 'forum', 'forward', 'fossil', 'found', 'four', 'fourth', 'fragil', 'frame', 'free', 'freez', 'frequenc', 'frequent', 'friday', 'friend', 'friendli', 'front', 'froze', 'frozen', 'frustrat', 'ft', 'full', 'fulli', 'fun', 'function', 'futur', 'ga', 'gadget', 'galaxi', 'game', 'garag', 'garbag', 'garmin', 'gave', 'gb', 'gear', 'gen', 'gener', 'get', 'ghz', 'gift', 'gig', 'girl', 'girlfriend', 'give', 'given', 'glad', 'glass', 'glitch', 'go', 'goal', 'god', 'goe', 'gold', 'golf', 'gone', 'gonna', 'good', 'googl', 'gorgeou', 'got', 'gotten', 'gp', 'grab', 'grade', 'grand', 'grandchildren', 'granddaught', 'grandkid', 'grandson', 'graphic', 'great', 'greatest', 'greatli', 'green', 'ground', 'group', 'gs', 'guess', 'guest', 'guid', 'guy', 'gym', 'half', 'hand', 'handi', 'handl', 'hang', 'happen', 'happi', 'happier', 'hard', 'hardli', 'hardwar', 'hassl', 'hate', 'havent', 'hbo', 'hd', 'hdd', 'hdmi', 'hdr', 'hdtv', 'head', 'headach', 'headphon', 'headrest', 'headset', 'health', 'hear', 'heard', 'heart', 'heat', 'heavi', 'heavier', 'heck', 'held', 'hello', 'help', 'hesit', 'hey', 'hi', 'high', 'higher', 'highest', 'highli', 'hike', 'hisens', 'hit', 'hog', 'hold', 'holder', 'hole', 'holiday', 'home', 'homework', 'honest', 'honestli', 'hook', 'hookup', 'hope', 'horribl', 'hot', 'hotspot', 'hour', 'hous', 'household', 'howev', 'hr', 'htc', 'hub', 'hubbi', 'hue', 'huge', 'hulu', 'humid', 'hundr', 'hung', 'hurt', 'husband', 'hz', 'icon', 'id', 'idea', 'ideal', 'ident', 'ii', 'ill', 'im', 'imag', 'imagin', 'immedi', 'import', 'importantli', 'imposs', 'impress', 'improv', 'inch', 'includ', 'inconveni', 'increas', 'incred', 'indic', 'individu', 'indoor', 'inexpens', 'info', 'inform', 'initi', 'input', 'insert', 'insid', 'instal', 'instant', 'instantli', 'instead', 'instinct', 'instruct', 'insur', 'integr', 'intend', 'intens', 'interact', 'interest', 'interfac', 'interfer', 'intern', 'internet', 'interrupt', 'intuit', 'invest', 'io', 'ip', 'ipad', 'iphon', 'ipod', 'ir', 'irrit', 'isnt', 'issu', 'item', 'ive', 'jack', 'jam', 'januari', 'jaybird', 'jbl', 'job', 'jog', 'joke', 'joy', 'juli', 'jump', 'junk', 'jvc', 'keep', 'kept', 'key', 'keyboard', 'kick', 'kid', 'kind', 'kinda', 'kindl', 'kit', 'kitchen', 'knew', 'knock', 'know', 'known', 'kwikset', 'label', 'lack', 'lag', 'lamp', 'land', 'languag', 'lap', 'laptop', 'larg', 'larger', 'last', 'late', 'later', 'latest', 'law', 'lay', 'lcd', 'lead', 'learn', 'least', 'leather', 'leav', 'led', 'left', 'leg', 'len', 'length', 'lenovo', 'less', 'let', 'letter', 'level', 'lg', 'lie', 'life', 'lift', 'light', 'lighter', 'lightn', 'lightweight', 'like', 'limit', 'line', 'link', 'list', 'listen', 'lit', 'lite', 'liter', 'littl', 'live', 'load', 'local', 'locat', 'lock', 'log', 'lol', 'long', 'longer', 'look', 'loos', 'lose', 'loss', 'lost', 'lot', 'loud', 'louder', 'love', 'lover', 'low', 'lower', 'lte', 'luck', 'luckili', 'macbook', 'machin', 'made', 'magic', 'magnavox', 'magnet', 'mail', 'main', 'mainli', 'major', 'make', 'malfunct', 'man', 'manag', 'maneuv', 'mani', 'manner', 'manual', 'manufactur', 'map', 'march', 'mark', 'market', 'mart', 'master', 'match', 'materi', 'matter', 'max', 'may', 'mayb', 'mean', 'meant', 'measur', 'mechan', 'media', 'meet', 'member', 'memori', 'mention', 'menu', 'mess', 'messag', 'met', 'metal', 'mi', 'mic', 'micro', 'microphon', 'microsoft', 'mid', 'middl', 'might', 'mile', 'min', 'mind', 'mine', 'mini', 'minim', 'minor', 'minut', 'mirror', 'miss', 'mistak', 'mix', 'mm', 'mobil', 'mode', 'model', 'modern', 'mom', 'moment', 'money', 'monitor', 'month', 'monthli', 'morn', 'mostli', 'mother', 'motion', 'motiv', 'moto', 'motorola', 'mount', 'mous', 'move', 'movement', 'movi', 'mp', 'much', 'muffl', 'multi', 'multipl', 'music', 'must', 'mute', 'name', 'natur', 'navig', 'nd', 'near', 'nearli', 'neat', 'necessari', 'neck', 'need', 'needless', 'neg', 'neighbor', 'neighborhood', 'neither', 'nephew', 'nest', 'netflix', 'network', 'never', 'new', 'newer', 'newest', 'news', 'next', 'nexu', 'nfc', 'nice', 'nicer', 'niec', 'night', 'nightmar', 'nintendo', 'nois', 'noisi', 'non', 'none', 'normal', 'notch', 'note', 'noth', 'notic', 'notif', 'notifi', 'nowher', 'number', 'numer', 'object', 'obviou', 'obvious', 'occas', 'occasion', 'occupi', 'occur', 'odd', 'offer', 'offic', 'often', 'oh', 'ok', 'okay', 'old', 'older', 'ole', 'omron', 'one', 'onlin', 'onto', 'open', 'oper', 'opinion', 'opportun', 'optic', 'option', 'orang', 'order', 'origin', 'os', 'other', 'otherwis', 'otter', 'otterbox', 'outdoor', 'outlet', 'output', 'outsid', 'outstand', 'overal', 'overnight', 'overpr', 'own', 'owner', 'pack', 'packag', 'pad', 'page', 'paid', 'pain', 'paint', 'pair', 'pan', 'panason', 'pandora', 'panel', 'paper', 'par', 'parent', 'park', 'part', 'parti', 'particular', 'particularli', 'pass', 'password', 'past', 'pattern', 'paus', 'pay', 'payment', 'pb', 'pc', 'peac', 'pen', 'pencil', 'penni', 'peopl', 'per', 'perfect', 'perfectli', 'perform', 'perhap', 'period', 'person', 'phenomen', 'philip', 'phillip', 'phone', 'photo', 'physic', 'pic', 'pick', 'picki', 'pickup', 'pictur', 'piec', 'pin', 'pink', 'pixel', 'place', 'placement', 'plain', 'plan', 'plane', 'plasma', 'plastic', 'plate', 'platform', 'play', 'playback', 'player', 'playstat', 'pleas', 'pleasantli', 'pleasur', 'plenti', 'plu', 'plug', 'pm', 'pocket', 'pod', 'podcast', 'point', 'polici', 'pool', 'poor', 'poorli', 'pop', 'popular', 'porch', 'port', 'portabl', 'portion', 'posit', 'possibl', 'post', 'power', 'practic', 'pre', 'precis', 'prefer', 'premier', 'premium', 'prepar', 'present', 'preset', 'press', 'pressur', 'pretti', 'prevent', 'previou', 'previous', 'price', 'pricey', 'primari', 'primarili', 'prime', 'print', 'prior', 'pro', 'probabl', 'problem', 'process', 'processor', 'produc', 'product', 'profession', 'program', 'programm', 'progress', 'project', 'projector', 'promis', 'promot', 'prompt', 'promptli', 'proof', 'prop', 'proper', 'properli', 'properti', 'protect', 'protector', 'provid', 'ps', 'psvr', 'pull', 'puls', 'punch', 'purchas', 'purpl', 'purpos', 'purs', 'push', 'put', 'qc', 'qled', 'qr', 'qualiti', 'question', 'quick', 'quicker', 'quickli', 'quiet', 'quit', 'radio', 'rain', 'rais', 'ram', 'ran', 'random', 'randomli', 'rang', 'rare', 'rate', 'rather', 'ratio', 'ray', 'rca', 'rd', 'reach', 'read', 'reader', 'readi', 'real', 'realiz', 'realli', 'rear', 'reason', 'reboot', 'receipt', 'receiv', 'recent', 'recept', 'recharg', 'reciev', 'recogn', 'recognit', 'recomend', 'recommend', 'reconnect', 'record', 'red', 'reduc', 'refer', 'refresh', 'refund', 'refurbish', 'refus', 'regard', 'regist', 'regret', 'regular', 'rel', 'releas', 'reli', 'reliabl', 'remain', 'remark', 'rememb', 'remind', 'remo', 'remot', 'remov', 'rent', 'rep', 'repair', 'repeat', 'replac', 'repli', 'report', 'request', 'requir', 'research', 'reset', 'resist', 'resolut', 'resolv', 'respond', 'respons', 'rest', 'restart', 'result', 'retail', 'return', 'review', 'rich', 'rid', 'ride', 'ridicul', 'right', 'ring', 'rip', 'road', 'rock', 'roku', 'roll', 'room', 'rotat', 'rough', 'round', 'router', 'routin', 'rubber', 'rug', 'ruin', 'run', 'sad', 'sadli', 'safe', 'said', 'sale', 'sam', 'samsung', 'sat', 'satellit', 'satisfi', 'save', 'saver', 'savvi', 'saw', 'say', 'scan', 'scanner', 'scene', 'sceptr', 'schedul', 'school', 'scratch', 'screen', 'screw', 'scroll', 'sd', 'se', 'seal', 'seamless', 'seamlessli', 'search', 'season', 'seat', 'second', 'section', 'secur', 'see', 'seem', 'seen', 'select', 'self', 'sell', 'seller', 'send', 'sens', 'sensit', 'sensor', 'sent', 'separ', 'seri', 'serious', 'serv', 'server', 'servic', 'set', 'setup', 'sever', 'shadow', 'shame', 'shape', 'share', 'sharp', 'shatter', 'shelf', 'ship', 'shipment', 'shock', 'shoot', 'shop', 'short', 'shot', 'show', 'shower', 'shown', 'shut', 'side', 'sign', 'signal', 'significantli', 'silicon', 'sim', 'similar', 'simpl', 'simpli', 'simplic', 'sinc', 'singl', 'siri', 'sister', 'sit', 'site', 'situat', 'six', 'size', 'skeptic', 'skin', 'skip', 'skullcandi', 'sleek', 'sleep', 'slick', 'slide', 'slight', 'slightli', 'slim', 'sling', 'slip', 'slot', 'slow', 'slower', 'small', 'smaller', 'smart', 'smartphon', 'smartwatch', 'smooth', 'smoothli', 'snap', 'snug', 'social', 'soft', 'softwar', 'sold', 'solid', 'solut', 'solv', 'somehow', 'someon', 'someth', 'sometim', 'somewhat', 'somewher', 'son', 'song', 'soni', 'soon', 'sooner', 'sorri', 'sort', 'sound', 'soundbar', 'soundlink', 'soundsport', 'sourc', 'space', 'spare', 'speak', 'speaker', 'spec', 'special', 'specif', 'spectrum', 'speed', 'spend', 'spent', 'spin', 'split', 'sport', 'spot', 'spotifi', 'sprint', 'st', 'stabl', 'stair', 'stand', 'standard', 'star', 'start', 'starter', 'stat', 'state', 'static', 'station', 'stay', 'steal', 'step', 'stereo', 'stick', 'sticker', 'still', 'stock', 'stop', 'storag', 'store', 'stori', 'straight', 'strang', 'strap', 'stream', 'street', 'strength', 'stress', 'strip', 'strong', 'struggl', 'stuck', 'student', 'studi', 'studio', 'stuff', 'stun', 'stupid', 'sturdi', 'style', 'stylish', 'stylu', 'sub', 'subscrib', 'subscript', 'success', 'suck', 'suddenli', 'suggest', 'suit', 'summer', 'sun', 'super', 'superb', 'superior', 'suppli', 'support', 'suppos', 'sure', 'surf', 'surfac', 'surpris', 'surprisingli', 'surround', 'surviv', 'swap', 'sweat', 'sweepstak', 'swim', 'swipe', 'switch', 'swivel', 'sync', 'system', 'tab', 'tabl', 'tablet', 'tag', 'take', 'taken', 'talk', 'tangl', 'tap', 'tape', 'target', 'task', 'tb', 'tcl', 'team', 'tear', 'tech', 'technic', 'technolog', 'teenag', 'televis', 'tell', 'temp', 'temperatur', 'ten', 'tend', 'term', 'terribl', 'terrif', 'test', 'text', 'th', 'thank', 'that', 'theater', 'therefor', 'thermostat', 'thick', 'thin', 'thing', 'think', 'third', 'tho', 'thoroughli', 'though', 'thought', 'three', 'thrill', 'throughout', 'throw', 'thru', 'thu', 'thumb', 'tie', 'tight', 'till', 'tilt', 'time', 'timer', 'tini', 'tinni', 'tip', 'tire', 'titl', 'tivo', 'today', 'toddler', 'togeth', 'told', 'tomorrow', 'ton', 'tone', 'took', 'tool', 'tooth', 'top', 'toshiba', 'total', 'touch', 'touchscreen', 'tough', 'toward', 'town', 'toy', 'tracfon', 'track', 'tracker', 'trade', 'tradit', 'traffic', 'trail', 'train', 'transfer', 'transit', 'transport', 'trash', 'travel', 'treat', 'trebl', 'tree', 'tri', 'trial', 'trick', 'trigger', 'trip', 'troubl', 'troubleshoot', 'truck', 'true', 'truli', 'trust', 'tube', 'tune', 'tuner', 'turn', 'tv', 'tweak', 'twice', 'two', 'type', 'typic', 'ue', 'uhd', 'ui', 'ultim', 'ultra', 'unabl', 'unbeliev', 'uncomfort', 'understand', 'unfortun', 'unhappi', 'uniqu', 'unit', 'univers', 'unless', 'unlik', 'unlock', 'unplug', 'unus', 'up', 'updat', 'upgrad', 'upload', 'upon', 'upscal', 'upset', 'upstair', 'us', 'usabl', 'usag', 'usb', 'use', 'useless', 'user', 'usual', 'util', 'vacat', 'valu', 'vari', 'varieti', 'variou', 'vcr', 'vehicl', 'vendor', 'verizon', 'versa', 'versatil', 'version', 'vertic', 'vh', 'via', 'vibrant', 'vibrat', 'video', 'view', 'virtual', 'visibl', 'visio', 'vision', 'visit', 'visual', 'vivid', 'vivoact', 'vizio', 'voic', 'volum', 'vr', 'vs', 'vudu', 'wait', 'wake', 'wal', 'walk', 'wall', 'walmart', 'want', 'warm', 'warn', 'warranti', 'wash', 'wast', 'watch', 'water', 'waterproof', 'watt', 'wave', 'way', 'weak', 'wear', 'weather', 'web', 'websit', 'week', 'weekend', 'weight', 'weird', 'well', 'wemo', 'went', 'wet', 'whatev', 'whatsoev', 'whenev', 'wherev', 'whether', 'whistl', 'white', 'whole', 'wi', 'wide', 'widget', 'wife', 'wifi', 'win', 'wind', 'window', 'winter', 'wire', 'wireless', 'wise', 'wish', 'within', 'without', 'wonder', 'wont', 'word', 'wore', 'work', 'workout', 'world', 'worn', 'worri', 'wors', 'worst', 'worth', 'worthless', 'would', 'wouldnt', 'wow', 'wrap', 'wrist', 'write', 'written', 'wrong', 'wyze', 'xbox', 'xfiniti', 'xl', 'xma', 'yard', 'ye', 'yeah', 'year', 'yellow', 'yesterday', 'yet', 'yo', 'young', 'youtub', 'yr', 'zero', 'zone', 'zoom']\n"
     ]
    }
   ],
   "source": [
    "print(cv.get_feature_names())"
   ]
  },
  {
   "cell_type": "code",
   "execution_count": 247,
   "metadata": {},
   "outputs": [
    {
     "data": {
      "text/plain": [
       "(20196, 2000)"
      ]
     },
     "execution_count": 247,
     "metadata": {},
     "output_type": "execute_result"
    }
   ],
   "source": [
    "x.shape"
   ]
  },
  {
   "cell_type": "code",
   "execution_count": 248,
   "metadata": {},
   "outputs": [],
   "source": [
    "y = df.iloc[:,1].values"
   ]
  },
  {
   "cell_type": "code",
   "execution_count": 249,
   "metadata": {},
   "outputs": [
    {
     "data": {
      "text/plain": [
       "(20196,)"
      ]
     },
     "execution_count": 249,
     "metadata": {},
     "output_type": "execute_result"
    }
   ],
   "source": [
    "y.shape"
   ]
  },
  {
   "cell_type": "code",
   "execution_count": 250,
   "metadata": {},
   "outputs": [],
   "source": [
    "# Splitting the dataset into the Training set and Test set\n",
    "from sklearn.model_selection import train_test_split\n",
    "X_train, X_test, y_train, y_test = train_test_split(x, y, random_state=0) "
   ]
  },
  {
   "cell_type": "code",
   "execution_count": 251,
   "metadata": {},
   "outputs": [
    {
     "data": {
      "text/plain": [
       "(15147, 2000)"
      ]
     },
     "execution_count": 251,
     "metadata": {},
     "output_type": "execute_result"
    }
   ],
   "source": [
    "X_train.shape"
   ]
  },
  {
   "cell_type": "code",
   "execution_count": 252,
   "metadata": {},
   "outputs": [
    {
     "data": {
      "text/plain": [
       "(5049, 2000)"
      ]
     },
     "execution_count": 252,
     "metadata": {},
     "output_type": "execute_result"
    }
   ],
   "source": [
    "X_test.shape"
   ]
  },
  {
   "cell_type": "code",
   "execution_count": 253,
   "metadata": {},
   "outputs": [
    {
     "data": {
      "text/plain": [
       "(15147,)"
      ]
     },
     "execution_count": 253,
     "metadata": {},
     "output_type": "execute_result"
    }
   ],
   "source": [
    "y_train.shape"
   ]
  },
  {
   "cell_type": "code",
   "execution_count": 254,
   "metadata": {},
   "outputs": [
    {
     "data": {
      "text/plain": [
       "(5049,)"
      ]
     },
     "execution_count": 254,
     "metadata": {},
     "output_type": "execute_result"
    }
   ],
   "source": [
    "y_test.shape"
   ]
  },
  {
   "cell_type": "markdown",
   "metadata": {},
   "source": [
    "**Applying various Machine Learning Classification Models**"
   ]
  },
  {
   "cell_type": "markdown",
   "metadata": {},
   "source": [
    "**GaussianNB**"
   ]
  },
  {
   "cell_type": "code",
   "execution_count": 255,
   "metadata": {},
   "outputs": [
    {
     "name": "stdout",
     "output_type": "stream",
     "text": [
      "The actual testing data:\n",
      "  [1 0 1 ... 1 1 1]\n",
      "\n",
      "\n",
      "Confusion Matrix:\n",
      " [[ 176   48  644]\n",
      " [ 247  590 3060]\n",
      " [  31   31  222]]\n",
      "\n",
      "\n",
      "Accuracy is  19.57 %\n",
      "Precision is  0.2\n",
      "Recall is  0.2\n"
     ]
    },
    {
     "name": "stderr",
     "output_type": "stream",
     "text": [
      "C:\\Users\\benjo\\anaconda3\\lib\\site-packages\\sklearn\\metrics\\_classification.py:1267: UserWarning: Note that pos_label (set to 'positive') is ignored when average != 'binary' (got 'micro'). You may use labels=[pos_label] to specify a single positive class.\n",
      "  warnings.warn(\"Note that pos_label (set to %r) is ignored when \"\n"
     ]
    }
   ],
   "source": [
    "# Fitting classifier to the Training set\n",
    "from sklearn.naive_bayes import GaussianNB\n",
    "gnb = GaussianNB() \n",
    "gnb.fit(X_train, y_train)\n",
    "\n",
    "\n",
    "# Predicting the Test set results \n",
    "y_pred = gnb.predict(X_test)\n",
    "print(\"The actual testing data:\\n \",y_test)\n",
    "\n",
    "\n",
    "# Make the Confusion Matrix\n",
    "from sklearn.metrics import confusion_matrix\n",
    "cm = confusion_matrix(y_test, y_pred)\n",
    "print(\"\\n\")\n",
    "print (\"Confusion Matrix:\\n\",cm)\n",
    "\n",
    "# Evaluate the results\n",
    "from sklearn.metrics import accuracy_score\n",
    "from sklearn.metrics import precision_score\n",
    "from sklearn.metrics import recall_score\n",
    "score1g = accuracy_score(y_test,y_pred)\n",
    "score2 = precision_score(y_test, y_pred,pos_label='positive',average='micro')\n",
    "score3= recall_score(y_test, y_pred,pos_label='positive',average='micro')\n",
    "print(\"\\n\")\n",
    "print(\"Accuracy is \",round(score1g*100,2),\"%\")\n",
    "print(\"Precision is \",round(score2,2))\n",
    "print(\"Recall is \",round(score3,2))\n"
   ]
  },
  {
   "cell_type": "markdown",
   "metadata": {},
   "source": [
    "**KNN Model**"
   ]
  },
  {
   "cell_type": "code",
   "execution_count": 256,
   "metadata": {},
   "outputs": [
    {
     "name": "stdout",
     "output_type": "stream",
     "text": [
      "The actual testing data:\n",
      "  [1 0 1 ... 1 1 1]\n",
      "\n",
      "\n",
      "Confusion Matrix:\n",
      " [[ 190  675    3]\n",
      " [  45 3849    3]\n",
      " [  24  258    2]]\n",
      "\n",
      "\n",
      "Accuracy is  80.04 %\n",
      "Precision is  0.8\n",
      "Recall is  0.8\n"
     ]
    },
    {
     "name": "stderr",
     "output_type": "stream",
     "text": [
      "C:\\Users\\benjo\\anaconda3\\lib\\site-packages\\sklearn\\metrics\\_classification.py:1267: UserWarning: Note that pos_label (set to 'positive') is ignored when average != 'binary' (got 'micro'). You may use labels=[pos_label] to specify a single positive class.\n",
      "  warnings.warn(\"Note that pos_label (set to %r) is ignored when \"\n"
     ]
    }
   ],
   "source": [
    "# Fitting classifier to the Training set\n",
    "from sklearn.neighbors import KNeighborsClassifier\n",
    "clf = KNeighborsClassifier().fit(X_train, y_train)\n",
    "\n",
    "\n",
    "# Predicting the Test set results \n",
    "y_pred = clf.predict(X_test)\n",
    "print(\"The actual testing data:\\n \",y_test)\n",
    "\n",
    "\n",
    "# Make the Confusion Matrix\n",
    "from sklearn.metrics import confusion_matrix\n",
    "cm = confusion_matrix(y_test, y_pred)\n",
    "print(\"\\n\")\n",
    "print (\"Confusion Matrix:\\n\",cm)\n",
    "\n",
    "# Evaluate the results\n",
    "from sklearn.metrics import accuracy_score\n",
    "from sklearn.metrics import precision_score\n",
    "from sklearn.metrics import recall_score\n",
    "score1k = accuracy_score(y_test,y_pred)\n",
    "score2 = precision_score(y_test, y_pred,pos_label='positive',average='micro')\n",
    "score3= recall_score(y_test, y_pred,pos_label='positive',average='micro')\n",
    "print(\"\\n\")\n",
    "print(\"Accuracy is \",round(score1k*100,2),\"%\")\n",
    "print(\"Precision is \",round(score2,2))\n",
    "print(\"Recall is \",round(score3,2))\n"
   ]
  },
  {
   "cell_type": "markdown",
   "metadata": {},
   "source": [
    "**Support Vector Machine SVM Model**"
   ]
  },
  {
   "cell_type": "code",
   "execution_count": 257,
   "metadata": {},
   "outputs": [
    {
     "name": "stdout",
     "output_type": "stream",
     "text": [
      "The actual testing data:\n",
      "  [1 0 1 ... 1 1 1]\n",
      "\n",
      "\n",
      "Confusion Matrix:\n",
      " [[ 565  234   69]\n",
      " [ 158 3644   95]\n",
      " [  77  166   41]]\n",
      "\n",
      "\n",
      "Accuracy is  84.18 %\n",
      "Precision is  0.84\n",
      "Recall is  0.84\n"
     ]
    },
    {
     "name": "stderr",
     "output_type": "stream",
     "text": [
      "C:\\Users\\benjo\\anaconda3\\lib\\site-packages\\sklearn\\metrics\\_classification.py:1267: UserWarning: Note that pos_label (set to 'positive') is ignored when average != 'binary' (got 'micro'). You may use labels=[pos_label] to specify a single positive class.\n",
      "  warnings.warn(\"Note that pos_label (set to %r) is ignored when \"\n"
     ]
    }
   ],
   "source": [
    "# Fitting classifier to the Training set\n",
    "from sklearn.svm import SVC\n",
    "svc = SVC(kernel='linear')\n",
    "svc.fit(X_train, y_train)\n",
    "\n",
    "\n",
    "# Predicting the Test set results \n",
    "y_pred = svc.predict(X_test)\n",
    "print(\"The actual testing data:\\n \",y_test)\n",
    "\n",
    "\n",
    "# Make the Confusion Matrix\n",
    "from sklearn.metrics import confusion_matrix\n",
    "cm = confusion_matrix(y_test, y_pred)\n",
    "print(\"\\n\")\n",
    "print (\"Confusion Matrix:\\n\",cm)\n",
    "\n",
    "# Evaluate the results\n",
    "from sklearn.metrics import accuracy_score\n",
    "from sklearn.metrics import precision_score\n",
    "from sklearn.metrics import recall_score\n",
    "score1s = accuracy_score(y_test,y_pred)\n",
    "score2 = precision_score(y_test, y_pred,pos_label='positive',average='micro')\n",
    "score3= recall_score(y_test, y_pred,pos_label='positive',average='micro')\n",
    "print(\"\\n\")\n",
    "print(\"Accuracy is \",round(score1s*100,2),\"%\")\n",
    "print(\"Precision is \",round(score2,2))\n",
    "print(\"Recall is \",round(score3,2))\n"
   ]
  },
  {
   "cell_type": "markdown",
   "metadata": {},
   "source": [
    "**Random Forest Model**"
   ]
  },
  {
   "cell_type": "code",
   "execution_count": 258,
   "metadata": {},
   "outputs": [
    {
     "name": "stdout",
     "output_type": "stream",
     "text": [
      "The actual testing data:\n",
      "  [1 0 1 ... 1 1 1]\n",
      "\n",
      "\n",
      "Confusion Matrix:\n",
      " [[ 499  365    4]\n",
      " [  90 3806    1]\n",
      " [  48  235    1]]\n",
      "\n",
      "\n",
      "Accuracy is  85.28 %\n",
      "Precision is  0.85\n",
      "Recall is  0.85\n"
     ]
    },
    {
     "name": "stderr",
     "output_type": "stream",
     "text": [
      "C:\\Users\\benjo\\anaconda3\\lib\\site-packages\\sklearn\\metrics\\_classification.py:1267: UserWarning: Note that pos_label (set to 'positive') is ignored when average != 'binary' (got 'micro'). You may use labels=[pos_label] to specify a single positive class.\n",
      "  warnings.warn(\"Note that pos_label (set to %r) is ignored when \"\n"
     ]
    }
   ],
   "source": [
    "# Fitting classifier to the Training set\n",
    "from sklearn.ensemble import RandomForestClassifier\n",
    "rfc = RandomForestClassifier().fit(X_train, y_train)\n",
    "\n",
    "\n",
    "# Predicting the Test set results \n",
    "y_pred = rfc.predict(X_test)\n",
    "print(\"The actual testing data:\\n \",y_test)\n",
    "\n",
    "\n",
    "# Make the Confusion Matrix\n",
    "from sklearn.metrics import confusion_matrix\n",
    "cm = confusion_matrix(y_test, y_pred)\n",
    "print(\"\\n\")\n",
    "print (\"Confusion Matrix:\\n\",cm)\n",
    "\n",
    "# Evaluate the results\n",
    "from sklearn.metrics import accuracy_score\n",
    "from sklearn.metrics import precision_score\n",
    "from sklearn.metrics import recall_score\n",
    "score1r = accuracy_score(y_test,y_pred)\n",
    "score2 = precision_score(y_test, y_pred,pos_label='positive',average='micro')\n",
    "score3= recall_score(y_test, y_pred,pos_label='positive',average='micro')\n",
    "print(\"\\n\")\n",
    "print(\"Accuracy is \",round(score1r*100,2),\"%\")\n",
    "print(\"Precision is \",round(score2,2))\n",
    "print(\"Recall is \",round(score3,2))\n"
   ]
  },
  {
   "cell_type": "markdown",
   "metadata": {},
   "source": [
    "**Decision Tree Classification Model**"
   ]
  },
  {
   "cell_type": "code",
   "execution_count": 259,
   "metadata": {},
   "outputs": [
    {
     "name": "stdout",
     "output_type": "stream",
     "text": [
      "The actual testing data:\n",
      "  [1 0 1 ... 1 1 1]\n",
      "\n",
      "\n",
      "Confusion Matrix:\n",
      " [[ 497  310   61]\n",
      " [ 279 3485  133]\n",
      " [  71  182   31]]\n",
      "\n",
      "\n",
      "Accuracy is  79.48 %\n",
      "Precision is  0.79\n",
      "Recall is  0.79\n"
     ]
    },
    {
     "name": "stderr",
     "output_type": "stream",
     "text": [
      "C:\\Users\\benjo\\anaconda3\\lib\\site-packages\\sklearn\\metrics\\_classification.py:1267: UserWarning: Note that pos_label (set to 'positive') is ignored when average != 'binary' (got 'micro'). You may use labels=[pos_label] to specify a single positive class.\n",
      "  warnings.warn(\"Note that pos_label (set to %r) is ignored when \"\n"
     ]
    }
   ],
   "source": [
    "# Fitting classifier to the Training set\n",
    "from sklearn.tree import DecisionTreeClassifier\n",
    "dtc= DecisionTreeClassifier().fit(X_train, y_train)\n",
    "\n",
    "\n",
    "# Predicting the Test set results \n",
    "y_pred = dtc.predict(X_test)\n",
    "print(\"The actual testing data:\\n \",y_test)\n",
    "\n",
    "\n",
    "# Make the Confusion Matrix\n",
    "from sklearn.metrics import confusion_matrix\n",
    "cm = confusion_matrix(y_test, y_pred)\n",
    "print(\"\\n\")\n",
    "print (\"Confusion Matrix:\\n\",cm)\n",
    "\n",
    "# Evaluate the results\n",
    "from sklearn.metrics import accuracy_score\n",
    "from sklearn.metrics import precision_score\n",
    "from sklearn.metrics import recall_score\n",
    "score1d = accuracy_score(y_test,y_pred)\n",
    "score2 = precision_score(y_test, y_pred,pos_label='positive',average='micro')\n",
    "score3= recall_score(y_test, y_pred,pos_label='positive',average='micro')\n",
    "print(\"\\n\")\n",
    "print(\"Accuracy is \",round(score1d*100,2),\"%\")\n",
    "print(\"Precision is \",round(score2,2))\n",
    "print(\"Recall is \",round(score3,2))\n"
   ]
  },
  {
   "cell_type": "markdown",
   "metadata": {},
   "source": [
    "**XGBoost Classifier**"
   ]
  },
  {
   "cell_type": "code",
   "execution_count": 260,
   "metadata": {},
   "outputs": [
    {
     "name": "stdout",
     "output_type": "stream",
     "text": [
      "The actual testing data:\n",
      "  [1 0 1 ... 1 1 1]\n",
      "\n",
      "\n",
      "Confusion Matrix:\n",
      " [[ 519  336   13]\n",
      " [  79 3804   14]\n",
      " [  53  224    7]]\n",
      "\n",
      "\n",
      "Accuracy is  85.76 %\n",
      "Precision is  0.86\n",
      "Recall is  0.86\n"
     ]
    }
   ],
   "source": [
    "# Fitting classifier to the Training set\n",
    "from xgboost import XGBClassifier\n",
    "model = XGBClassifier()\n",
    "model.fit(X_train, y_train)\n",
    "\n",
    "# Predicting the Test set results \n",
    "y_pred = model.predict(X_test)\n",
    "print(\"The actual testing data:\\n \",y_test)\n",
    "\n",
    "\n",
    "# Make the Confusion Matrix\n",
    "from sklearn.metrics import confusion_matrix\n",
    "cm = confusion_matrix(y_test, y_pred)\n",
    "print(\"\\n\")\n",
    "print (\"Confusion Matrix:\\n\",cm)\n",
    "\n",
    "# Evaluate the results\n",
    "from sklearn.metrics import accuracy_score\n",
    "from sklearn.metrics import precision_score\n",
    "from sklearn.metrics import recall_score\n",
    "score1x = accuracy_score(y_test,y_pred)\n",
    "score2 = precision_score(y_test, y_pred,pos_label='positive',average='micro')\n",
    "score3= recall_score(y_test, y_pred,pos_label='positive',average='micro')\n",
    "print(\"\\n\")\n",
    "print(\"Accuracy is \",round(score1x*100,2),\"%\")\n",
    "print(\"Precision is \",round(score2,2))\n",
    "print(\"Recall is \",round(score3,2))\n"
   ]
  },
  {
   "cell_type": "markdown",
   "metadata": {},
   "source": [
    "**TF IDF**"
   ]
  },
  {
   "cell_type": "code",
   "execution_count": 261,
   "metadata": {},
   "outputs": [
    {
     "data": {
      "text/plain": [
       "(20196, 2500)"
      ]
     },
     "execution_count": 261,
     "metadata": {},
     "output_type": "execute_result"
    }
   ],
   "source": [
    "from sklearn.feature_extraction.text import TfidfVectorizer\n",
    "\n",
    "vectorizer = TfidfVectorizer (max_features=2500, min_df=7, max_df=0.8, stop_words=stopwords.words('english'))\n",
    "corpus = vectorizer.fit_transform(corpus).toarray()\n",
    "X =corpus\n",
    "X.shape"
   ]
  },
  {
   "cell_type": "markdown",
   "metadata": {},
   "source": [
    "**GaussianNB**"
   ]
  },
  {
   "cell_type": "code",
   "execution_count": 262,
   "metadata": {},
   "outputs": [
    {
     "name": "stdout",
     "output_type": "stream",
     "text": [
      "The actual testing data:\n",
      "  [1 0 1 ... 1 1 1]\n",
      "\n",
      "\n",
      "Confusion Matrix:\n",
      " [[ 176   48  644]\n",
      " [ 247  590 3060]\n",
      " [  31   31  222]]\n",
      "\n",
      "\n",
      "Accuracy is  19.57 %\n",
      "Precision is  0.2\n",
      "Recall is  0.2\n"
     ]
    },
    {
     "name": "stderr",
     "output_type": "stream",
     "text": [
      "C:\\Users\\benjo\\anaconda3\\lib\\site-packages\\sklearn\\metrics\\_classification.py:1267: UserWarning: Note that pos_label (set to 'positive') is ignored when average != 'binary' (got 'micro'). You may use labels=[pos_label] to specify a single positive class.\n",
      "  warnings.warn(\"Note that pos_label (set to %r) is ignored when \"\n"
     ]
    }
   ],
   "source": [
    "# Fitting classifier to the Training set\n",
    "from sklearn.naive_bayes import GaussianNB\n",
    "gnb = GaussianNB() \n",
    "gnb.fit(X_train, y_train)\n",
    "\n",
    "\n",
    "# Predicting the Test set results \n",
    "y_pred = gnb.predict(X_test)\n",
    "print(\"The actual testing data:\\n \",y_test)\n",
    "\n",
    "\n",
    "# Make the Confusion Matrix\n",
    "from sklearn.metrics import confusion_matrix\n",
    "cm = confusion_matrix(y_test, y_pred)\n",
    "print(\"\\n\")\n",
    "print (\"Confusion Matrix:\\n\",cm)\n",
    "\n",
    "# Evaluate the results\n",
    "from sklearn.metrics import accuracy_score\n",
    "from sklearn.metrics import precision_score\n",
    "from sklearn.metrics import recall_score\n",
    "score1g = accuracy_score(y_test,y_pred)\n",
    "score2 = precision_score(y_test, y_pred,pos_label='positive',average='micro')\n",
    "score3= recall_score(y_test, y_pred,pos_label='positive',average='micro')\n",
    "print(\"\\n\")\n",
    "print(\"Accuracy is \",round(score1g*100,2),\"%\")\n",
    "print(\"Precision is \",round(score2,2))\n",
    "print(\"Recall is \",round(score3,2))\n"
   ]
  },
  {
   "cell_type": "markdown",
   "metadata": {},
   "source": [
    "**KNNModel**"
   ]
  },
  {
   "cell_type": "code",
   "execution_count": 263,
   "metadata": {},
   "outputs": [
    {
     "name": "stdout",
     "output_type": "stream",
     "text": [
      "The actual testing data:\n",
      "  [1 0 1 ... 1 1 1]\n",
      "\n",
      "\n",
      "Confusion Matrix:\n",
      " [[ 190  675    3]\n",
      " [  45 3849    3]\n",
      " [  24  258    2]]\n",
      "\n",
      "\n",
      "Accuracy is  80.04 %\n",
      "Precision is  0.8\n",
      "Recall is  0.8\n"
     ]
    },
    {
     "name": "stderr",
     "output_type": "stream",
     "text": [
      "C:\\Users\\benjo\\anaconda3\\lib\\site-packages\\sklearn\\metrics\\_classification.py:1267: UserWarning: Note that pos_label (set to 'positive') is ignored when average != 'binary' (got 'micro'). You may use labels=[pos_label] to specify a single positive class.\n",
      "  warnings.warn(\"Note that pos_label (set to %r) is ignored when \"\n"
     ]
    }
   ],
   "source": [
    "# Fitting classifier to the Training set\n",
    "from sklearn.neighbors import KNeighborsClassifier\n",
    "clf = KNeighborsClassifier().fit(X_train, y_train)\n",
    "\n",
    "\n",
    "# Predicting the Test set results \n",
    "y_pred = clf.predict(X_test)\n",
    "print(\"The actual testing data:\\n \",y_test)\n",
    "\n",
    "\n",
    "# Make the Confusion Matrix\n",
    "from sklearn.metrics import confusion_matrix\n",
    "cm = confusion_matrix(y_test, y_pred)\n",
    "print(\"\\n\")\n",
    "print (\"Confusion Matrix:\\n\",cm)\n",
    "\n",
    "# Evaluate the results\n",
    "from sklearn.metrics import accuracy_score\n",
    "from sklearn.metrics import precision_score\n",
    "from sklearn.metrics import recall_score\n",
    "score1k = accuracy_score(y_test,y_pred)\n",
    "score2 = precision_score(y_test, y_pred,pos_label='positive',average='micro')\n",
    "score3= recall_score(y_test, y_pred,pos_label='positive',average='micro')\n",
    "print(\"\\n\")\n",
    "print(\"Accuracy is \",round(score1k*100,2),\"%\")\n",
    "print(\"Precision is \",round(score2,2))\n",
    "print(\"Recall is \",round(score3,2))\n"
   ]
  },
  {
   "cell_type": "markdown",
   "metadata": {},
   "source": [
    "**SVM Model**"
   ]
  },
  {
   "cell_type": "code",
   "execution_count": 264,
   "metadata": {},
   "outputs": [
    {
     "name": "stdout",
     "output_type": "stream",
     "text": [
      "The actual testing data:\n",
      "  [1 0 1 ... 1 1 1]\n",
      "\n",
      "\n",
      "Confusion Matrix:\n",
      " [[ 565  234   69]\n",
      " [ 158 3644   95]\n",
      " [  77  166   41]]\n",
      "\n",
      "\n",
      "Accuracy is  84.18 %\n",
      "Precision is  0.84\n",
      "Recall is  0.84\n"
     ]
    },
    {
     "name": "stderr",
     "output_type": "stream",
     "text": [
      "C:\\Users\\benjo\\anaconda3\\lib\\site-packages\\sklearn\\metrics\\_classification.py:1267: UserWarning: Note that pos_label (set to 'positive') is ignored when average != 'binary' (got 'micro'). You may use labels=[pos_label] to specify a single positive class.\n",
      "  warnings.warn(\"Note that pos_label (set to %r) is ignored when \"\n"
     ]
    }
   ],
   "source": [
    "# Fitting classifier to the Training set\n",
    "from sklearn.svm import SVC\n",
    "svc = SVC(kernel='linear')\n",
    "svc.fit(X_train, y_train)\n",
    "\n",
    "\n",
    "# Predicting the Test set results \n",
    "y_pred = svc.predict(X_test)\n",
    "print(\"The actual testing data:\\n \",y_test)\n",
    "\n",
    "\n",
    "# Make the Confusion Matrix\n",
    "from sklearn.metrics import confusion_matrix\n",
    "cm = confusion_matrix(y_test, y_pred)\n",
    "print(\"\\n\")\n",
    "print (\"Confusion Matrix:\\n\",cm)\n",
    "\n",
    "# Evaluate the results\n",
    "from sklearn.metrics import accuracy_score\n",
    "from sklearn.metrics import precision_score\n",
    "from sklearn.metrics import recall_score\n",
    "score1s = accuracy_score(y_test,y_pred)\n",
    "score2 = precision_score(y_test, y_pred,pos_label='positive',average='micro')\n",
    "score3= recall_score(y_test, y_pred,pos_label='positive',average='micro')\n",
    "print(\"\\n\")\n",
    "print(\"Accuracy is \",round(score1s*100,2),\"%\")\n",
    "print(\"Precision is \",round(score2,2))\n",
    "print(\"Recall is \",round(score3,2))\n"
   ]
  },
  {
   "cell_type": "markdown",
   "metadata": {},
   "source": [
    "**Random Forest Model**"
   ]
  },
  {
   "cell_type": "code",
   "execution_count": 265,
   "metadata": {},
   "outputs": [
    {
     "name": "stdout",
     "output_type": "stream",
     "text": [
      "The actual testing data:\n",
      "  [1 0 1 ... 1 1 1]\n",
      "\n",
      "\n",
      "Confusion Matrix:\n",
      " [[ 494  371    3]\n",
      " [  88 3807    2]\n",
      " [  46  235    3]]\n",
      "\n",
      "\n",
      "Accuracy is  85.24 %\n",
      "Precision is  0.85\n",
      "Recall is  0.85\n"
     ]
    },
    {
     "name": "stderr",
     "output_type": "stream",
     "text": [
      "C:\\Users\\benjo\\anaconda3\\lib\\site-packages\\sklearn\\metrics\\_classification.py:1267: UserWarning: Note that pos_label (set to 'positive') is ignored when average != 'binary' (got 'micro'). You may use labels=[pos_label] to specify a single positive class.\n",
      "  warnings.warn(\"Note that pos_label (set to %r) is ignored when \"\n"
     ]
    }
   ],
   "source": [
    "# Fitting classifier to the Training set\n",
    "from sklearn.ensemble import RandomForestClassifier\n",
    "rfc = RandomForestClassifier().fit(X_train, y_train)\n",
    "\n",
    "\n",
    "# Predicting the Test set results \n",
    "y_pred = rfc.predict(X_test)\n",
    "print(\"The actual testing data:\\n \",y_test)\n",
    "\n",
    "\n",
    "# Make the Confusion Matrix\n",
    "from sklearn.metrics import confusion_matrix\n",
    "cm = confusion_matrix(y_test, y_pred)\n",
    "print(\"\\n\")\n",
    "print (\"Confusion Matrix:\\n\",cm)\n",
    "\n",
    "# Evaluate the results\n",
    "from sklearn.metrics import accuracy_score\n",
    "from sklearn.metrics import precision_score\n",
    "from sklearn.metrics import recall_score\n",
    "score1r = accuracy_score(y_test,y_pred)\n",
    "score2 = precision_score(y_test, y_pred,pos_label='positive',average='micro')\n",
    "score3= recall_score(y_test, y_pred,pos_label='positive',average='micro')\n",
    "print(\"\\n\")\n",
    "print(\"Accuracy is \",round(score1r*100,2),\"%\")\n",
    "print(\"Precision is \",round(score2,2))\n",
    "print(\"Recall is \",round(score3,2))\n"
   ]
  },
  {
   "cell_type": "markdown",
   "metadata": {},
   "source": [
    "**Decision Tree Classification Model**"
   ]
  },
  {
   "cell_type": "code",
   "execution_count": 266,
   "metadata": {},
   "outputs": [
    {
     "name": "stdout",
     "output_type": "stream",
     "text": [
      "The actual testing data:\n",
      "  [1 0 1 ... 1 1 1]\n",
      "\n",
      "\n",
      "Confusion Matrix:\n",
      " [[ 498  301   69]\n",
      " [ 276 3484  137]\n",
      " [  76  183   25]]\n",
      "\n",
      "\n",
      "Accuracy is  79.36 %\n",
      "Precision is  0.79\n",
      "Recall is  0.79\n"
     ]
    },
    {
     "name": "stderr",
     "output_type": "stream",
     "text": [
      "C:\\Users\\benjo\\anaconda3\\lib\\site-packages\\sklearn\\metrics\\_classification.py:1267: UserWarning: Note that pos_label (set to 'positive') is ignored when average != 'binary' (got 'micro'). You may use labels=[pos_label] to specify a single positive class.\n",
      "  warnings.warn(\"Note that pos_label (set to %r) is ignored when \"\n"
     ]
    }
   ],
   "source": [
    "# Fitting classifier to the Training set\n",
    "from sklearn.tree import DecisionTreeClassifier\n",
    "dtc= DecisionTreeClassifier().fit(X_train, y_train)\n",
    "\n",
    "\n",
    "# Predicting the Test set results \n",
    "y_pred = dtc.predict(X_test)\n",
    "print(\"The actual testing data:\\n \",y_test)\n",
    "\n",
    "\n",
    "# Make the Confusion Matrix\n",
    "from sklearn.metrics import confusion_matrix\n",
    "cm = confusion_matrix(y_test, y_pred)\n",
    "print(\"\\n\")\n",
    "print (\"Confusion Matrix:\\n\",cm)\n",
    "\n",
    "# Evaluate the results\n",
    "from sklearn.metrics import accuracy_score\n",
    "from sklearn.metrics import precision_score\n",
    "from sklearn.metrics import recall_score\n",
    "score1d = accuracy_score(y_test,y_pred)\n",
    "score2 = precision_score(y_test, y_pred,pos_label='positive',average='micro')\n",
    "score3= recall_score(y_test, y_pred,pos_label='positive',average='micro')\n",
    "print(\"\\n\")\n",
    "print(\"Accuracy is \",round(score1d*100,2),\"%\")\n",
    "print(\"Precision is \",round(score2,2))\n",
    "print(\"Recall is \",round(score3,2))\n"
   ]
  },
  {
   "cell_type": "markdown",
   "metadata": {},
   "source": [
    "**XGBoost Classifier**"
   ]
  },
  {
   "cell_type": "code",
   "execution_count": 267,
   "metadata": {},
   "outputs": [
    {
     "name": "stdout",
     "output_type": "stream",
     "text": [
      "The actual testing data:\n",
      "  [1 0 1 ... 1 1 1]\n",
      "\n",
      "\n",
      "Confusion Matrix:\n",
      " [[ 519  336   13]\n",
      " [  79 3804   14]\n",
      " [  53  224    7]]\n",
      "\n",
      "\n",
      "Accuracy is  85.76 %\n",
      "Precision is  0.86\n",
      "Recall is  0.86\n"
     ]
    }
   ],
   "source": [
    "# Fitting classifier to the Training set\n",
    "from xgboost import XGBClassifier\n",
    "model = XGBClassifier()\n",
    "model.fit(X_train, y_train)\n",
    "\n",
    "# Predicting the Test set results \n",
    "y_pred = model.predict(X_test)\n",
    "print(\"The actual testing data:\\n \",y_test)\n",
    "\n",
    "\n",
    "# Make the Confusion Matrix\n",
    "from sklearn.metrics import confusion_matrix\n",
    "cm = confusion_matrix(y_test, y_pred)\n",
    "print(\"\\n\")\n",
    "print (\"Confusion Matrix:\\n\",cm)\n",
    "\n",
    "# Evaluate the results\n",
    "from sklearn.metrics import accuracy_score\n",
    "from sklearn.metrics import precision_score\n",
    "from sklearn.metrics import recall_score\n",
    "score1x = accuracy_score(y_test,y_pred)\n",
    "score2 = precision_score(y_test, y_pred,pos_label='positive',average='micro')\n",
    "score3= recall_score(y_test, y_pred,pos_label='positive',average='micro')\n",
    "print(\"\\n\")\n",
    "print(\"Accuracy is \",round(score1x*100,2),\"%\")\n",
    "print(\"Precision is \",round(score2,2))\n",
    "print(\"Recall is \",round(score3,2))\n"
   ]
  },
  {
   "cell_type": "markdown",
   "metadata": {},
   "source": [
    "**AUC ROC For XGBoost Classifier**"
   ]
  },
  {
   "cell_type": "code",
   "execution_count": 269,
   "metadata": {},
   "outputs": [
    {
     "data": {
      "image/png": "[encoded data removed]",
      "text/plain": [
       "<Figure size 432x288 with 1 Axes>"
      ]
     },
     "metadata": {
      "needs_background": "light"
     },
     "output_type": "display_data"
    }
   ],
   "source": [
    "x='GauNB'\n",
    "y='KNN'\n",
    "j='SVM'\n",
    "k='RF'\n",
    "l='DT'\n",
    "m='XGB'\n",
    "\n",
    "c=[x,y,j,k,l,m] \n",
    "d=[score1g,score1k,score1s,score1r,score1d,score1x] \n",
    "plt.bar(c,d,color=['red', 'green', 'blue', 'cyan','yellow','orange'])\n",
    "plt.ylabel('Accuracy')\n",
    "plt.title('Model Accuracies')\n",
    "plt.show()"
   ]
  },
  {
   "cell_type": "markdown",
   "metadata": {},
   "source": [
    "## Accuracy of the Models"
   ]
  },
  {
   "cell_type": "markdown",
   "metadata": {},
   "source": [
    "| Model | Bag of words(%) | TF IDF(%) |\n",
    "|-------|--------------|--------|\n",
    "    |GaussianNB| 19.57 | 19.57|\n",
    "|RandomForest|85.28|85.24|\n",
    "|KNN|80.04|80.04|\n",
    "|DecisionTree|79.48|79.36|\n",
    "|SVM|84.18|84.18|\n",
    "|XGBoost|85.76|85.76|"
   ]
  },
  {
   "cell_type": "markdown",
   "metadata": {},
   "source": [
    "From the performance table, I can say that RandomForest and XGBoost Classifier models work better in both the approaches \n",
    "as compared to the other models.But, XGBoost is slightly better method compared to RandomForest.This means the XGBoost model\n",
    "built for the prediction of sentiment of the walmart product review gives 85.76% right prediction in both Bag of words approach\n",
    "and TF IDF approach. Interestingly, all the models give almost the same accuracy in both the two approaches of NLP"
   ]
  },
  {
   "cell_type": "code",
   "execution_count": null,
   "metadata": {},
   "outputs": [],
   "source": []
  }
 ],
 "metadata": {
  "kernelspec": {
   "display_name": "Python 3",
   "language": "python",
   "name": "python3"
  },
  "language_info": {
   "codemirror_mode": {
    "name": "ipython",
    "version": 3
   },
   "file_extension": ".py",
   "mimetype": "text/x-python",
   "name": "python",
   "nbconvert_exporter": "python",
   "pygments_lexer": "ipython3",
   "version": "3.8.5"
  }
 },
 "nbformat": 4,
 "nbformat_minor": 4
}
